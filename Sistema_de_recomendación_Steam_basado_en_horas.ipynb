{
  "nbformat": 4,
  "nbformat_minor": 0,
  "metadata": {
    "colab": {
      "name": "Sistema de recomendación Steam basado en horas.ipynb",
      "provenance": [],
      "collapsed_sections": [],
      "toc_visible": true,
      "include_colab_link": true
    },
    "kernelspec": {
      "display_name": "Python 3",
      "language": "python",
      "name": "python3"
    },
    "language_info": {
      "codemirror_mode": {
        "name": "ipython",
        "version": 3
      },
      "file_extension": ".py",
      "mimetype": "text/x-python",
      "name": "python",
      "nbconvert_exporter": "python",
      "pygments_lexer": "ipython3",
      "version": "3.8.2"
    }
  },
  "cells": [
    {
      "cell_type": "markdown",
      "metadata": {
        "id": "view-in-github",
        "colab_type": "text"
      },
      "source": [
        "<a href=\"https://colab.research.google.com/github/Lucho90/Lucho90-Learning_projects/blob/main/Sistema_de_recomendaci%C3%B3n_Steam_basado_en_horas.ipynb\" target=\"_parent\"><img src=\"https://colab.research.google.com/assets/colab-badge.svg\" alt=\"Open In Colab\"/></a>"
      ]
    },
    {
      "cell_type": "markdown",
      "metadata": {
        "id": "gzJLet17WTzh"
      },
      "source": [
        "# Sistemas de recomendación Steam basado en horas jugadas\n",
        "\n",
        "## Dataset: \n",
        "**(https://github.com/kang205/SASRec).**\n",
        "\n",
        "\n",
        "\n"
      ]
    },
    {
      "cell_type": "markdown",
      "metadata": {
        "id": "R6cX8HdETz8U"
      },
      "source": [
        "#Introducción\n",
        "\n"
      ]
    },
    {
      "cell_type": "markdown",
      "metadata": {
        "id": "Jgc7WRmnT_vH"
      },
      "source": [
        "En este proyecto se pretende hacer un sistema de recomendación basandose en dos datasets de STEAM uno que contiene las reviws de los usuarios y otro que contiene la información de cada juego. STEAM es una biblioteca de videojuegos en donde el usuario puede comprar y almacenar videojuegos, es una plataforma que lleva ya más de 10 años en la web y en la que se encuentran usuarios de todo el mundo.\n",
        "\n",
        "El sistema de recomendación que se busca hacer es uno colaborativo, es decir, se recomienda contenido para usuarios similares. Por ejemplo, si tanto el usuario A como el B juegan: tetris, súper mario y zelda, pero el usuario A adicionalmente ama jugar Pokemón, el sistema recomendará este juego al usuario B."
      ]
    },
    {
      "cell_type": "markdown",
      "metadata": {
        "id": "-4fMgU_LU53B"
      },
      "source": [
        "Para el tratamiento de los datos iniciemos importando estas librerias: "
      ]
    },
    {
      "cell_type": "code",
      "metadata": {
        "id": "lWZhtUxEWTzj"
      },
      "source": [
        "import gzip\n",
        "import pandas as pd\n",
        "import seaborn as sns\n",
        "import numpy as np\n",
        "import matplotlib.pyplot as plt\n",
        "\n",
        "\n",
        "def parse(path):   \n",
        "    g = gzip.open(path, 'r')\n",
        "    for l in g:\n",
        "        yield eval(l)"
      ],
      "execution_count": 1,
      "outputs": []
    },
    {
      "cell_type": "markdown",
      "metadata": {
        "id": "BmEM25k4WTzw"
      },
      "source": [
        "##**Reviews**"
      ]
    },
    {
      "cell_type": "markdown",
      "metadata": {
        "id": "tEuXR9Lo1B3y"
      },
      "source": [
        "Iniciemos con el dataset de las reviws (uno bastante pesado), para ello guardaremos 1 de cada 5 reviws. Aunque es pesado este proceso, pienso guardar tantas reviews porque se pronostica que al centrarse en un periodo de tiempo especifico y al deshacerse de outliers, además, pueda quedar un dataset mucho más corto. "
      ]
    },
    {
      "cell_type": "code",
      "metadata": {
        "id": "abAXItn1WTz0"
      },
      "source": [
        "contador = 0\n",
        "data_reviews = []\n",
        "# Vamos a guardar una de cada 10 reviews para no llenar la memoria RAM. Si pones n = 3, \n",
        "# abrira uno de cada tres, y asi.\n",
        "n = 5\n",
        "for l in parse('steam_reviews.json.gz'):\n",
        "    if contador % n == 0:\n",
        "        data_reviews.append(l)\n",
        "    else:\n",
        "        pass\n",
        "    contador += 1\n"
      ],
      "execution_count": null,
      "outputs": []
    },
    {
      "cell_type": "code",
      "metadata": {
        "id": "7GovAZQBWTz8"
      },
      "source": [
        "data_reviews = pd.DataFrame(data_reviews)"
      ],
      "execution_count": null,
      "outputs": []
    },
    {
      "cell_type": "code",
      "metadata": {
        "id": "j24F0ZaYWT0E",
        "colab": {
          "base_uri": "https://localhost:8080/",
          "height": 272
        },
        "outputId": "b1ac848f-7313-408a-d0d6-b1147b702ce5"
      },
      "source": [
        "data_reviews.head()"
      ],
      "execution_count": null,
      "outputs": [
        {
          "output_type": "execute_result",
          "data": {
            "text/html": [
              "<div>\n",
              "<style scoped>\n",
              "    .dataframe tbody tr th:only-of-type {\n",
              "        vertical-align: middle;\n",
              "    }\n",
              "\n",
              "    .dataframe tbody tr th {\n",
              "        vertical-align: top;\n",
              "    }\n",
              "\n",
              "    .dataframe thead th {\n",
              "        text-align: right;\n",
              "    }\n",
              "</style>\n",
              "<table border=\"1\" class=\"dataframe\">\n",
              "  <thead>\n",
              "    <tr style=\"text-align: right;\">\n",
              "      <th></th>\n",
              "      <th>username</th>\n",
              "      <th>hours</th>\n",
              "      <th>products</th>\n",
              "      <th>product_id</th>\n",
              "      <th>page_order</th>\n",
              "      <th>date</th>\n",
              "      <th>text</th>\n",
              "      <th>early_access</th>\n",
              "      <th>page</th>\n",
              "      <th>found_funny</th>\n",
              "      <th>user_id</th>\n",
              "      <th>compensation</th>\n",
              "    </tr>\n",
              "  </thead>\n",
              "  <tbody>\n",
              "    <tr>\n",
              "      <th>0</th>\n",
              "      <td>Chaos Syren</td>\n",
              "      <td>0.1</td>\n",
              "      <td>41.0</td>\n",
              "      <td>725280</td>\n",
              "      <td>0</td>\n",
              "      <td>2017-12-17</td>\n",
              "      <td>This would not be acceptable as an entertainme...</td>\n",
              "      <td>False</td>\n",
              "      <td>1</td>\n",
              "      <td>NaN</td>\n",
              "      <td>NaN</td>\n",
              "      <td>NaN</td>\n",
              "    </tr>\n",
              "    <tr>\n",
              "      <th>1</th>\n",
              "      <td>Teef 🐏</td>\n",
              "      <td>0.9</td>\n",
              "      <td>923.0</td>\n",
              "      <td>725280</td>\n",
              "      <td>1</td>\n",
              "      <td>2017-12-03</td>\n",
              "      <td>hey thanks for stealing my spritework</td>\n",
              "      <td>False</td>\n",
              "      <td>1</td>\n",
              "      <td>1.0</td>\n",
              "      <td>NaN</td>\n",
              "      <td>NaN</td>\n",
              "    </tr>\n",
              "    <tr>\n",
              "      <th>2</th>\n",
              "      <td>Ariman1</td>\n",
              "      <td>13.2</td>\n",
              "      <td>1386.0</td>\n",
              "      <td>328100</td>\n",
              "      <td>2</td>\n",
              "      <td>2017-08-02</td>\n",
              "      <td>Addictive RPG ! Works fine on linux though it ...</td>\n",
              "      <td>False</td>\n",
              "      <td>1</td>\n",
              "      <td>NaN</td>\n",
              "      <td>NaN</td>\n",
              "      <td>NaN</td>\n",
              "    </tr>\n",
              "    <tr>\n",
              "      <th>3</th>\n",
              "      <td>Duha Nubie</td>\n",
              "      <td>11.3</td>\n",
              "      <td>73.0</td>\n",
              "      <td>35140</td>\n",
              "      <td>4</td>\n",
              "      <td>2018-01-03</td>\n",
              "      <td>first debut feel sweet</td>\n",
              "      <td>False</td>\n",
              "      <td>1</td>\n",
              "      <td>NaN</td>\n",
              "      <td>NaN</td>\n",
              "      <td>NaN</td>\n",
              "    </tr>\n",
              "    <tr>\n",
              "      <th>4</th>\n",
              "      <td>freakfantom</td>\n",
              "      <td>0.1</td>\n",
              "      <td>1706.0</td>\n",
              "      <td>725280</td>\n",
              "      <td>5</td>\n",
              "      <td>2017-11-12</td>\n",
              "      <td>Прикольная стрелялка. Взял дешево на распродаже.</td>\n",
              "      <td>False</td>\n",
              "      <td>1</td>\n",
              "      <td>NaN</td>\n",
              "      <td>NaN</td>\n",
              "      <td>NaN</td>\n",
              "    </tr>\n",
              "  </tbody>\n",
              "</table>\n",
              "</div>"
            ],
            "text/plain": [
              "      username  hours  products  ... found_funny  user_id compensation\n",
              "0  Chaos Syren    0.1      41.0  ...         NaN      NaN          NaN\n",
              "1       Teef 🐏    0.9     923.0  ...         1.0      NaN          NaN\n",
              "2      Ariman1   13.2    1386.0  ...         NaN      NaN          NaN\n",
              "3   Duha Nubie   11.3      73.0  ...         NaN      NaN          NaN\n",
              "4  freakfantom    0.1    1706.0  ...         NaN      NaN          NaN\n",
              "\n",
              "[5 rows x 12 columns]"
            ]
          },
          "metadata": {
            "tags": []
          },
          "execution_count": 10
        }
      ]
    },
    {
      "cell_type": "code",
      "metadata": {
        "id": "8F-EVRZ4WT0L",
        "colab": {
          "base_uri": "https://localhost:8080/"
        },
        "outputId": "2884f89d-fe98-475e-b77f-b5406261d72e"
      },
      "source": [
        "data_reviews.isna().sum()"
      ],
      "execution_count": null,
      "outputs": [
        {
          "output_type": "execute_result",
          "data": {
            "text/plain": [
              "username              0\n",
              "hours              5325\n",
              "products           3041\n",
              "product_id            0\n",
              "page_order            0\n",
              "date                  0\n",
              "text                  0\n",
              "early_access          0\n",
              "page                  0\n",
              "found_funny     1318177\n",
              "user_id          923376\n",
              "compensation    1529508\n",
              "dtype: int64"
            ]
          },
          "metadata": {
            "tags": []
          },
          "execution_count": 11
        }
      ]
    },
    {
      "cell_type": "markdown",
      "metadata": {
        "id": "a4Uh4yHx_-Z8"
      },
      "source": [
        "Datos que parecen de interes: porduct_id, username y hours. La columna de text podría ser de interes para analizar la opinion del usuario frente al juego, pero, dado que está compuesta por diferentes idiomas, será mejor pasarla por alto. Por otro lado, las columnas user_id, compensation y found_funny tienen suficientes valores faltantes para que consideremos no usarlas. Pero no hay necesidad de preocuparse, con las que nos generan interes nos basta."
      ]
    },
    {
      "cell_type": "code",
      "metadata": {
        "id": "skWx-qpp9uGm",
        "colab": {
          "base_uri": "https://localhost:8080/"
        },
        "outputId": "57d65025-8463-476f-ab05-007e714d3110"
      },
      "source": [
        "data_reviews.shape"
      ],
      "execution_count": null,
      "outputs": [
        {
          "output_type": "execute_result",
          "data": {
            "text/plain": [
              "(1558614, 12)"
            ]
          },
          "metadata": {
            "tags": []
          },
          "execution_count": 12
        }
      ]
    },
    {
      "cell_type": "code",
      "metadata": {
        "id": "H0vlJiY1-JJ7",
        "colab": {
          "base_uri": "https://localhost:8080/"
        },
        "outputId": "1341c6c8-6021-4353-ef5d-1aaaf40bdce0"
      },
      "source": [
        "data_reviews.username.value_counts()"
      ],
      "execution_count": null,
      "outputs": [
        {
          "output_type": "execute_result",
          "data": {
            "text/plain": [
              "123              400\n",
              "Alex             389\n",
              "Chris            293\n",
              "Nick             292\n",
              "Tom              270\n",
              "                ... \n",
              "We won 1812        1\n",
              "Foufou             1\n",
              "tersse             1\n",
              "j0j0™              1\n",
              "Salted-Peanut      1\n",
              "Name: username, Length: 919179, dtype: int64"
            ]
          },
          "metadata": {
            "tags": []
          },
          "execution_count": 14
        }
      ]
    },
    {
      "cell_type": "markdown",
      "metadata": {
        "id": "lrZmANKLkKQ6"
      },
      "source": [
        "Empecemos por lo fundamental: Solucionar la lidia de subir el dataset de las reviws cada vez que vamos a trabajar. Para ello, lo que haré es crear un archivo csv con los datos que filtre de las reviews. Este dataset nuevo estará limitado a los datos del año 2017."
      ]
    },
    {
      "cell_type": "code",
      "metadata": {
        "id": "Coo82Ta7WCYl",
        "colab": {
          "base_uri": "https://localhost:8080/"
        },
        "outputId": "65173acc-f15b-45f1-ee4c-8be4e77eb036"
      },
      "source": [
        "data_año = data_reviews[(data_reviews['date'] > '2017-01-01') & (data_reviews['date'] < '2017-12-31')]\n",
        "data_año.shape"
      ],
      "execution_count": null,
      "outputs": [
        {
          "output_type": "execute_result",
          "data": {
            "text/plain": [
              "(480258, 12)"
            ]
          },
          "metadata": {
            "tags": []
          },
          "execution_count": 16
        }
      ]
    },
    {
      "cell_type": "code",
      "metadata": {
        "id": "ygqKjK4DcgQ_"
      },
      "source": [
        "reviws = pd.DataFrame(data=data_año,columns=['username','hours','product_id'])"
      ],
      "execution_count": null,
      "outputs": []
    },
    {
      "cell_type": "code",
      "metadata": {
        "id": "QzmbHFSwh8Qh"
      },
      "source": [
        "reviws.to_csv(r'reviws.csv', index = False)"
      ],
      "execution_count": null,
      "outputs": []
    },
    {
      "cell_type": "markdown",
      "metadata": {
        "id": "04ed3teRWT0T"
      },
      "source": [
        "##**Games**"
      ]
    },
    {
      "cell_type": "markdown",
      "metadata": {
        "id": "43DTP0WSg3Gs"
      },
      "source": [
        "Revisemos ahora el dataset de los juegos:"
      ]
    },
    {
      "cell_type": "code",
      "metadata": {
        "id": "8wRb24Y5WT0U"
      },
      "source": [
        "data_games = []\n",
        "for l in parse('steam_games.json.gz'):\n",
        "    data_games.append(l)\n",
        "data_games = pd.DataFrame(data_games)"
      ],
      "execution_count": 2,
      "outputs": []
    },
    {
      "cell_type": "code",
      "metadata": {
        "id": "sVR0Cs6SWT0b",
        "colab": {
          "base_uri": "https://localhost:8080/",
          "height": 585
        },
        "outputId": "07846528-0b91-4d31-8071-05c8d0f10826"
      },
      "source": [
        "data_games.head()"
      ],
      "execution_count": 3,
      "outputs": [
        {
          "output_type": "execute_result",
          "data": {
            "text/html": [
              "<div>\n",
              "<style scoped>\n",
              "    .dataframe tbody tr th:only-of-type {\n",
              "        vertical-align: middle;\n",
              "    }\n",
              "\n",
              "    .dataframe tbody tr th {\n",
              "        vertical-align: top;\n",
              "    }\n",
              "\n",
              "    .dataframe thead th {\n",
              "        text-align: right;\n",
              "    }\n",
              "</style>\n",
              "<table border=\"1\" class=\"dataframe\">\n",
              "  <thead>\n",
              "    <tr style=\"text-align: right;\">\n",
              "      <th></th>\n",
              "      <th>publisher</th>\n",
              "      <th>genres</th>\n",
              "      <th>app_name</th>\n",
              "      <th>title</th>\n",
              "      <th>url</th>\n",
              "      <th>release_date</th>\n",
              "      <th>tags</th>\n",
              "      <th>discount_price</th>\n",
              "      <th>reviews_url</th>\n",
              "      <th>specs</th>\n",
              "      <th>price</th>\n",
              "      <th>early_access</th>\n",
              "      <th>id</th>\n",
              "      <th>developer</th>\n",
              "      <th>sentiment</th>\n",
              "      <th>metascore</th>\n",
              "    </tr>\n",
              "  </thead>\n",
              "  <tbody>\n",
              "    <tr>\n",
              "      <th>0</th>\n",
              "      <td>Kotoshiro</td>\n",
              "      <td>[Action, Casual, Indie, Simulation, Strategy]</td>\n",
              "      <td>Lost Summoner Kitty</td>\n",
              "      <td>Lost Summoner Kitty</td>\n",
              "      <td>http://store.steampowered.com/app/761140/Lost_...</td>\n",
              "      <td>2018-01-04</td>\n",
              "      <td>[Strategy, Action, Indie, Casual, Simulation]</td>\n",
              "      <td>4.49</td>\n",
              "      <td>http://steamcommunity.com/app/761140/reviews/?...</td>\n",
              "      <td>[Single-player]</td>\n",
              "      <td>4.99</td>\n",
              "      <td>False</td>\n",
              "      <td>761140</td>\n",
              "      <td>Kotoshiro</td>\n",
              "      <td>NaN</td>\n",
              "      <td>NaN</td>\n",
              "    </tr>\n",
              "    <tr>\n",
              "      <th>1</th>\n",
              "      <td>Making Fun, Inc.</td>\n",
              "      <td>[Free to Play, Indie, RPG, Strategy]</td>\n",
              "      <td>Ironbound</td>\n",
              "      <td>Ironbound</td>\n",
              "      <td>http://store.steampowered.com/app/643980/Ironb...</td>\n",
              "      <td>2018-01-04</td>\n",
              "      <td>[Free to Play, Strategy, Indie, RPG, Card Game...</td>\n",
              "      <td>NaN</td>\n",
              "      <td>http://steamcommunity.com/app/643980/reviews/?...</td>\n",
              "      <td>[Single-player, Multi-player, Online Multi-Pla...</td>\n",
              "      <td>Free To Play</td>\n",
              "      <td>False</td>\n",
              "      <td>643980</td>\n",
              "      <td>Secret Level SRL</td>\n",
              "      <td>Mostly Positive</td>\n",
              "      <td>NaN</td>\n",
              "    </tr>\n",
              "    <tr>\n",
              "      <th>2</th>\n",
              "      <td>Poolians.com</td>\n",
              "      <td>[Casual, Free to Play, Indie, Simulation, Sports]</td>\n",
              "      <td>Real Pool 3D - Poolians</td>\n",
              "      <td>Real Pool 3D - Poolians</td>\n",
              "      <td>http://store.steampowered.com/app/670290/Real_...</td>\n",
              "      <td>2017-07-24</td>\n",
              "      <td>[Free to Play, Simulation, Sports, Casual, Ind...</td>\n",
              "      <td>NaN</td>\n",
              "      <td>http://steamcommunity.com/app/670290/reviews/?...</td>\n",
              "      <td>[Single-player, Multi-player, Online Multi-Pla...</td>\n",
              "      <td>Free to Play</td>\n",
              "      <td>False</td>\n",
              "      <td>670290</td>\n",
              "      <td>Poolians.com</td>\n",
              "      <td>Mostly Positive</td>\n",
              "      <td>NaN</td>\n",
              "    </tr>\n",
              "    <tr>\n",
              "      <th>3</th>\n",
              "      <td>彼岸领域</td>\n",
              "      <td>[Action, Adventure, Casual]</td>\n",
              "      <td>弹炸人2222</td>\n",
              "      <td>弹炸人2222</td>\n",
              "      <td>http://store.steampowered.com/app/767400/2222/</td>\n",
              "      <td>2017-12-07</td>\n",
              "      <td>[Action, Adventure, Casual]</td>\n",
              "      <td>0.83</td>\n",
              "      <td>http://steamcommunity.com/app/767400/reviews/?...</td>\n",
              "      <td>[Single-player]</td>\n",
              "      <td>0.99</td>\n",
              "      <td>False</td>\n",
              "      <td>767400</td>\n",
              "      <td>彼岸领域</td>\n",
              "      <td>NaN</td>\n",
              "      <td>NaN</td>\n",
              "    </tr>\n",
              "    <tr>\n",
              "      <th>4</th>\n",
              "      <td>NaN</td>\n",
              "      <td>NaN</td>\n",
              "      <td>Log Challenge</td>\n",
              "      <td>NaN</td>\n",
              "      <td>http://store.steampowered.com/app/773570/Log_C...</td>\n",
              "      <td>NaN</td>\n",
              "      <td>[Action, Indie, Casual, Sports]</td>\n",
              "      <td>1.79</td>\n",
              "      <td>http://steamcommunity.com/app/773570/reviews/?...</td>\n",
              "      <td>[Single-player, Full controller support, HTC V...</td>\n",
              "      <td>2.99</td>\n",
              "      <td>False</td>\n",
              "      <td>773570</td>\n",
              "      <td>NaN</td>\n",
              "      <td>NaN</td>\n",
              "      <td>NaN</td>\n",
              "    </tr>\n",
              "  </tbody>\n",
              "</table>\n",
              "</div>"
            ],
            "text/plain": [
              "          publisher  ... metascore\n",
              "0         Kotoshiro  ...       NaN\n",
              "1  Making Fun, Inc.  ...       NaN\n",
              "2      Poolians.com  ...       NaN\n",
              "3              彼岸领域  ...       NaN\n",
              "4               NaN  ...       NaN\n",
              "\n",
              "[5 rows x 16 columns]"
            ]
          },
          "metadata": {
            "tags": []
          },
          "execution_count": 3
        }
      ]
    },
    {
      "cell_type": "code",
      "metadata": {
        "id": "Bt5BLCw5WT0g",
        "colab": {
          "base_uri": "https://localhost:8080/",
          "height": 193
        },
        "outputId": "1e9e41f6-a57f-4f55-9aa3-a5e4beb7afb2"
      },
      "source": [
        "data_games[data_games.id == '35140']"
      ],
      "execution_count": 4,
      "outputs": [
        {
          "output_type": "execute_result",
          "data": {
            "text/html": [
              "<div>\n",
              "<style scoped>\n",
              "    .dataframe tbody tr th:only-of-type {\n",
              "        vertical-align: middle;\n",
              "    }\n",
              "\n",
              "    .dataframe tbody tr th {\n",
              "        vertical-align: top;\n",
              "    }\n",
              "\n",
              "    .dataframe thead th {\n",
              "        text-align: right;\n",
              "    }\n",
              "</style>\n",
              "<table border=\"1\" class=\"dataframe\">\n",
              "  <thead>\n",
              "    <tr style=\"text-align: right;\">\n",
              "      <th></th>\n",
              "      <th>publisher</th>\n",
              "      <th>genres</th>\n",
              "      <th>app_name</th>\n",
              "      <th>title</th>\n",
              "      <th>url</th>\n",
              "      <th>release_date</th>\n",
              "      <th>tags</th>\n",
              "      <th>discount_price</th>\n",
              "      <th>reviews_url</th>\n",
              "      <th>specs</th>\n",
              "      <th>price</th>\n",
              "      <th>early_access</th>\n",
              "      <th>id</th>\n",
              "      <th>developer</th>\n",
              "      <th>sentiment</th>\n",
              "      <th>metascore</th>\n",
              "    </tr>\n",
              "  </thead>\n",
              "  <tbody>\n",
              "    <tr>\n",
              "      <th>31617</th>\n",
              "      <td>Warner Bros. Interactive Entertainment, Feral ...</td>\n",
              "      <td>[Action, Adventure]</td>\n",
              "      <td>Batman: Arkham Asylum Game of the Year Edition</td>\n",
              "      <td>Batman: Arkham Asylum Game of the Year Edition</td>\n",
              "      <td>http://store.steampowered.com/app/35140/Batman...</td>\n",
              "      <td>2010-03-26</td>\n",
              "      <td>[Action, Batman, Stealth, Adventure, Third Per...</td>\n",
              "      <td>NaN</td>\n",
              "      <td>http://steamcommunity.com/app/35140/reviews/?b...</td>\n",
              "      <td>[Single-player, Steam Achievements, Steam Trad...</td>\n",
              "      <td>19.99</td>\n",
              "      <td>False</td>\n",
              "      <td>35140</td>\n",
              "      <td>Rocksteady Studios,Feral Interactive (Mac)</td>\n",
              "      <td>Overwhelmingly Positive</td>\n",
              "      <td>91</td>\n",
              "    </tr>\n",
              "  </tbody>\n",
              "</table>\n",
              "</div>"
            ],
            "text/plain": [
              "                                               publisher  ... metascore\n",
              "31617  Warner Bros. Interactive Entertainment, Feral ...  ...        91\n",
              "\n",
              "[1 rows x 16 columns]"
            ]
          },
          "metadata": {
            "tags": []
          },
          "execution_count": 4
        }
      ]
    },
    {
      "cell_type": "markdown",
      "metadata": {
        "id": "K2-0HETdukXq"
      },
      "source": [
        "Viendo el ejemplo de dato por encima, se puede decir que los datos de interes son: id, sentiment y metascore; pues se cree que estos son los datos que nos hablaran sobre la calificación general del juego. \n",
        "Otros datos que parecen interesantes son el de precio, tags, generes. Se debe tener en cuenta que el precio puede variar en el tiempo (dependiendo de promociones, por ejemplo).\n",
        "\n",
        "Pero por ahora, los datos de mayor interes son los de id y los de app_name, este dataset lo usaremos especificamente para darle el nombre del juego a las recomendaciones que se hagan al usuario.\n"
      ]
    },
    {
      "cell_type": "code",
      "metadata": {
        "id": "aw1kA8XaYD5P",
        "colab": {
          "base_uri": "https://localhost:8080/"
        },
        "outputId": "39d03f40-8305-4afa-e3a2-0126ebabd9cc"
      },
      "source": [
        "data_games.isna().sum()"
      ],
      "execution_count": 5,
      "outputs": [
        {
          "output_type": "execute_result",
          "data": {
            "text/plain": [
              "publisher          8052\n",
              "genres             3283\n",
              "app_name              2\n",
              "title              2050\n",
              "url                   0\n",
              "release_date       2067\n",
              "tags                163\n",
              "discount_price    31910\n",
              "reviews_url           2\n",
              "specs               670\n",
              "price              1377\n",
              "early_access          0\n",
              "id                    2\n",
              "developer          3299\n",
              "sentiment          7182\n",
              "metascore         29458\n",
              "dtype: int64"
            ]
          },
          "metadata": {
            "tags": []
          },
          "execution_count": 5
        }
      ]
    },
    {
      "cell_type": "code",
      "metadata": {
        "id": "5XPP5tGF2Xox",
        "colab": {
          "base_uri": "https://localhost:8080/"
        },
        "outputId": "287ecf0e-98ed-48d5-b641-12f82ff1b198"
      },
      "source": [
        "data_games['id'].nunique() #Cantidad de juegos"
      ],
      "execution_count": 8,
      "outputs": [
        {
          "output_type": "execute_result",
          "data": {
            "text/plain": [
              "32132"
            ]
          },
          "metadata": {
            "tags": []
          },
          "execution_count": 8
        }
      ]
    },
    {
      "cell_type": "markdown",
      "metadata": {
        "id": "zG9mmKRHvf3N"
      },
      "source": [
        "Hay una gran cantidad de datos faltantes entre ellas el metascore y discount_price, la primera puede estar siendo descartada de nuestro modelo debido a tal falta de valores, mientras que la segunda se entiende dado que no todos los juegos cuentan con precio de descuento.\n",
        "Por otro lado, las demás variables que parecen de interes parecen tener una cantidad de valores ausentes con la que no se verá muy comprometido el modelo."
      ]
    },
    {
      "cell_type": "code",
      "metadata": {
        "id": "Br915xM_Yw-H",
        "colab": {
          "base_uri": "https://localhost:8080/"
        },
        "outputId": "0813da9d-2de0-41bb-b75b-c9040361c27a"
      },
      "source": [
        "data_games['developer'].value_counts()"
      ],
      "execution_count": 9,
      "outputs": [
        {
          "output_type": "execute_result",
          "data": {
            "text/plain": [
              "Ubisoft - San Francisco       1259\n",
              "SmiteWorks USA, LLC            813\n",
              "Dovetail Games                 253\n",
              "KOEI TECMO GAMES CO., LTD.     232\n",
              "Paradox Development Studio     156\n",
              "                              ... \n",
              "KADOKAWA,Despain                 1\n",
              "PowPow                           1\n",
              "Bloom Digital Media              1\n",
              "Ghulam Jewel                     1\n",
              "Khud0                            1\n",
              "Name: developer, Length: 10992, dtype: int64"
            ]
          },
          "metadata": {
            "tags": []
          },
          "execution_count": 9
        }
      ]
    },
    {
      "cell_type": "markdown",
      "metadata": {
        "id": "R5cOo0HmwU-x"
      },
      "source": [
        "En este dataset se observa que aunque hay una gran cantidad de empresas, pocas empresas pasan de publicar más de 100 juegos. Este dato no es un outlier, pues es sabido que steam da la oportunidad a empresas pequeñas de publicar sus juegos, estas por lo general no cuentan con un gran repositorio."
      ]
    },
    {
      "cell_type": "code",
      "metadata": {
        "id": "Az9ueyLCaxhm",
        "colab": {
          "base_uri": "https://localhost:8080/"
        },
        "outputId": "c2804c4c-9678-4a06-9b9c-a0b36f886b2a"
      },
      "source": [
        "data_games.price.value_counts()"
      ],
      "execution_count": 10,
      "outputs": [
        {
          "output_type": "execute_result",
          "data": {
            "text/plain": [
              "4.99             4278\n",
              "9.99             3902\n",
              "2.99             3429\n",
              "0.99             2607\n",
              "1.99             2541\n",
              "                 ... \n",
              "Free Movie          1\n",
              "10.49               1\n",
              "189.96              1\n",
              "Play the Demo       1\n",
              "0.5                 1\n",
              "Name: price, Length: 162, dtype: int64"
            ]
          },
          "metadata": {
            "tags": []
          },
          "execution_count": 10
        }
      ]
    },
    {
      "cell_type": "markdown",
      "metadata": {
        "id": "Z4GLX93rxkev"
      },
      "source": [
        "Al contar los valores de precio aparecen varios valores que no son numericos, por lo que para analizar los precios se deben remplazar estos valores por numericos, así como cambiar el tipo de dato de string a int."
      ]
    },
    {
      "cell_type": "code",
      "metadata": {
        "id": "SB2LKc2-dBRj"
      },
      "source": [
        "data_games[\"price\"].replace({\"Free To Play\": 0 , \"Play the Demo\": 0 ,\"Free to Play\":0,\n",
        "                             \"Free\":0,\"Free Demo\":0,\"Play for Free!\":0,\n",
        "                             \"Install Now\":0,\"Play WARMACHINE: Tactics Demo\":0,\n",
        "                             \"Free Mod\":0,\"Install Theme\":0,\n",
        "                             \"Third-party\":0,\"Play Now\":0,\"Free HITMAN\":0,\n",
        "                             \"Free HITMAN™ Holiday Pack\":0,\n",
        "                             \"Starting at $499.00\":499,\n",
        "                             \"Starting at $449.00\":499,\"Free to Try\":0,\n",
        "                             \"Free Movie\":0,\"Free to Use\":0}, inplace=True)"
      ],
      "execution_count": 11,
      "outputs": []
    },
    {
      "cell_type": "markdown",
      "metadata": {
        "id": "K3_pPmmvyo7d"
      },
      "source": [
        "Luego de remplazar los valores no numericos por números, cambiamos el tipo de dato de toda la columna a int."
      ]
    },
    {
      "cell_type": "code",
      "metadata": {
        "id": "QpsrWbeFecYI"
      },
      "source": [
        "data_games['price'] = pd.to_numeric(data_games['price'])"
      ],
      "execution_count": 12,
      "outputs": []
    },
    {
      "cell_type": "markdown",
      "metadata": {
        "id": "-FLACpQMy2sz"
      },
      "source": [
        "Ahora creamos 10 bins para ver la distribución de los precios en el dataset."
      ]
    },
    {
      "cell_type": "code",
      "metadata": {
        "id": "v73h6bO4ez8J"
      },
      "source": [
        "data_games['price_inter'] = pd.cut(data_games.price,bins=10,include_lowest=False)"
      ],
      "execution_count": 13,
      "outputs": []
    },
    {
      "cell_type": "code",
      "metadata": {
        "id": "SmKTata6hJOt",
        "colab": {
          "base_uri": "https://localhost:8080/",
          "height": 516
        },
        "outputId": "fa159674-a9e3-4bfb-b0c1-d3f7d1cebc57"
      },
      "source": [
        "plt.figure(figsize=(10,7))\n",
        "chart=sns.countplot(data=data_games,x=data_games.price_inter)\n",
        "plt.yscale('log')\n",
        "chart.set_xticklabels(\n",
        "    chart.get_xticklabels(), \n",
        "    rotation=45, \n",
        "    horizontalalignment='right',\n",
        "    fontweight='light',\n",
        "    fontsize='x-large')\n",
        "sns.set_style()"
      ],
      "execution_count": 14,
      "outputs": [
        {
          "output_type": "display_data",
          "data": {
            "image/png": "[encoded data removed]",
            "text/plain": [
              "<Figure size 720x504 with 1 Axes>"
            ]
          },
          "metadata": {
            "tags": [],
            "needs_background": "light"
          }
        }
      ]
    },
    {
      "cell_type": "markdown",
      "metadata": {
        "id": "ZPrH73TozEpJ"
      },
      "source": [
        "Se puede ver que existe un valor máximo de 995 dolares, este valor puede considerarse un outlier dado que la mayor parte de valores se concentran entre los 0 (gratuidad) y los 100 dolares. A continuación observamos un resumen los datos de la anterior gráfica resumidos."
      ]
    },
    {
      "cell_type": "code",
      "metadata": {
        "id": "Mq70f6frhcdK",
        "colab": {
          "base_uri": "https://localhost:8080/"
        },
        "outputId": "5a7b3170-0464-4238-eacf-8ef46bab98e7"
      },
      "source": [
        "data_games.price_inter.value_counts()"
      ],
      "execution_count": 15,
      "outputs": [
        {
          "output_type": "execute_result",
          "data": {
            "text/plain": [
              "(-0.995, 99.5]    30634\n",
              "(99.5, 199.0]        99\n",
              "(199.0, 298.5]        9\n",
              "(398.0, 497.5]        5\n",
              "(497.5, 597.0]        4\n",
              "(298.5, 398.0]        4\n",
              "(895.5, 995.0]        1\n",
              "(696.5, 796.0]        1\n",
              "(597.0, 696.5]        1\n",
              "(796.0, 895.5]        0\n",
              "Name: price_inter, dtype: int64"
            ]
          },
          "metadata": {
            "tags": []
          },
          "execution_count": 15
        }
      ]
    },
    {
      "cell_type": "markdown",
      "metadata": {
        "id": "Vip5zD-6iZds"
      },
      "source": [
        "Finalmente convertimos la columna de id a valores númericos para poder trabajar facilmente con ella en el futuro."
      ]
    },
    {
      "cell_type": "code",
      "metadata": {
        "id": "6uGrJWdKRc27"
      },
      "source": [
        "data_games['id'] = pd.to_numeric(data_games['id'])"
      ],
      "execution_count": 16,
      "outputs": []
    },
    {
      "cell_type": "markdown",
      "metadata": {
        "id": "YDKsP3jUcZLx"
      },
      "source": [
        "# Preparando el Dataset"
      ]
    },
    {
      "cell_type": "markdown",
      "metadata": {
        "id": "GIYnHxVqj6j8"
      },
      "source": [
        "Traemos nuestros datos de usuarios del año 2017 para empezar a procesar los datos."
      ]
    },
    {
      "cell_type": "code",
      "metadata": {
        "id": "S3J-VEtnhSXB",
        "colab": {
          "base_uri": "https://localhost:8080/",
          "height": 191
        },
        "outputId": "602cdc54-cf98-42dd-ab5e-f40a34ccdc3e"
      },
      "source": [
        "reviws = pd.read_csv('reviws.csv')\n",
        "reviws.head()"
      ],
      "execution_count": 44,
      "outputs": [
        {
          "output_type": "execute_result",
          "data": {
            "text/html": [
              "<div>\n",
              "<style scoped>\n",
              "    .dataframe tbody tr th:only-of-type {\n",
              "        vertical-align: middle;\n",
              "    }\n",
              "\n",
              "    .dataframe tbody tr th {\n",
              "        vertical-align: top;\n",
              "    }\n",
              "\n",
              "    .dataframe thead th {\n",
              "        text-align: right;\n",
              "    }\n",
              "</style>\n",
              "<table border=\"1\" class=\"dataframe\">\n",
              "  <thead>\n",
              "    <tr style=\"text-align: right;\">\n",
              "      <th></th>\n",
              "      <th>username</th>\n",
              "      <th>hours</th>\n",
              "      <th>product_id</th>\n",
              "    </tr>\n",
              "  </thead>\n",
              "  <tbody>\n",
              "    <tr>\n",
              "      <th>0</th>\n",
              "      <td>Chaos Syren</td>\n",
              "      <td>0.1</td>\n",
              "      <td>725280</td>\n",
              "    </tr>\n",
              "    <tr>\n",
              "      <th>1</th>\n",
              "      <td>Teef 🐏</td>\n",
              "      <td>0.9</td>\n",
              "      <td>725280</td>\n",
              "    </tr>\n",
              "    <tr>\n",
              "      <th>2</th>\n",
              "      <td>Ariman1</td>\n",
              "      <td>13.2</td>\n",
              "      <td>328100</td>\n",
              "    </tr>\n",
              "    <tr>\n",
              "      <th>3</th>\n",
              "      <td>freakfantom</td>\n",
              "      <td>0.1</td>\n",
              "      <td>725280</td>\n",
              "    </tr>\n",
              "    <tr>\n",
              "      <th>4</th>\n",
              "      <td>Kaelandros</td>\n",
              "      <td>1.5</td>\n",
              "      <td>328100</td>\n",
              "    </tr>\n",
              "  </tbody>\n",
              "</table>\n",
              "</div>"
            ],
            "text/plain": [
              "      username  hours  product_id\n",
              "0  Chaos Syren    0.1      725280\n",
              "1       Teef 🐏    0.9      725280\n",
              "2      Ariman1   13.2      328100\n",
              "3  freakfantom    0.1      725280\n",
              "4   Kaelandros    1.5      328100"
            ]
          },
          "metadata": {
            "tags": []
          },
          "execution_count": 44
        }
      ]
    },
    {
      "cell_type": "markdown",
      "metadata": {
        "id": "NtpCcEVFlv82"
      },
      "source": [
        "Revisemos los datos duplicados del dataset y valores faltantes primero."
      ]
    },
    {
      "cell_type": "code",
      "metadata": {
        "id": "Ko_XkCS-k7RU",
        "colab": {
          "base_uri": "https://localhost:8080/"
        },
        "outputId": "26f4fa13-d8c5-4680-8cb9-d63cdce7d972"
      },
      "source": [
        "reviws.duplicated([\"username\",\"hours\", \"product_id\"]).sum()"
      ],
      "execution_count": 45,
      "outputs": [
        {
          "output_type": "execute_result",
          "data": {
            "text/plain": [
              "10768"
            ]
          },
          "metadata": {
            "tags": []
          },
          "execution_count": 45
        }
      ]
    },
    {
      "cell_type": "code",
      "metadata": {
        "id": "bhneZkUuk_Nc"
      },
      "source": [
        "reviws = reviws.drop_duplicates()"
      ],
      "execution_count": 46,
      "outputs": []
    },
    {
      "cell_type": "code",
      "metadata": {
        "colab": {
          "base_uri": "https://localhost:8080/"
        },
        "id": "-y9q779PVR3A",
        "outputId": "bfc2aef5-aa6b-4a17-dc39-e0c385d86323"
      },
      "source": [
        "reviws.isna().sum()"
      ],
      "execution_count": 47,
      "outputs": [
        {
          "output_type": "execute_result",
          "data": {
            "text/plain": [
              "username        4\n",
              "hours         601\n",
              "product_id      0\n",
              "dtype: int64"
            ]
          },
          "metadata": {
            "tags": []
          },
          "execution_count": 47
        }
      ]
    },
    {
      "cell_type": "code",
      "metadata": {
        "id": "LWZBwyrnVd3X"
      },
      "source": [
        "reviws = reviws.dropna()"
      ],
      "execution_count": 48,
      "outputs": []
    },
    {
      "cell_type": "markdown",
      "metadata": {
        "id": "RsWNQzYDk8z3"
      },
      "source": [
        "El siguiente paso será crear una columna nueva en donde se dirá el total de horas jugadas por cada usuario. Para ello primero convertimos los valores de horas de string a numericos:"
      ]
    },
    {
      "cell_type": "code",
      "metadata": {
        "id": "1Wh-YUULOpJS"
      },
      "source": [
        "reviws['hours'] = pd.to_numeric(reviws['hours'])"
      ],
      "execution_count": 49,
      "outputs": []
    },
    {
      "cell_type": "markdown",
      "metadata": {
        "id": "2yVcR7XNlWal"
      },
      "source": [
        "Con esta siguiente linea de codigo se agrupan y suman las horas por usuario y se crea un nuevo dataset."
      ]
    },
    {
      "cell_type": "code",
      "metadata": {
        "id": "Y9D5Pu4BNZgZ",
        "colab": {
          "base_uri": "https://localhost:8080/",
          "height": 220
        },
        "outputId": "af7ba278-2aff-4d36-c638-5e52ecfadc6c"
      },
      "source": [
        "gr = reviws.groupby(['username'])\n",
        "total = pd.DataFrame(gr['hours'].sum())\n",
        "total.head()"
      ],
      "execution_count": 50,
      "outputs": [
        {
          "output_type": "execute_result",
          "data": {
            "text/html": [
              "<div>\n",
              "<style scoped>\n",
              "    .dataframe tbody tr th:only-of-type {\n",
              "        vertical-align: middle;\n",
              "    }\n",
              "\n",
              "    .dataframe tbody tr th {\n",
              "        vertical-align: top;\n",
              "    }\n",
              "\n",
              "    .dataframe thead th {\n",
              "        text-align: right;\n",
              "    }\n",
              "</style>\n",
              "<table border=\"1\" class=\"dataframe\">\n",
              "  <thead>\n",
              "    <tr style=\"text-align: right;\">\n",
              "      <th></th>\n",
              "      <th>hours</th>\n",
              "    </tr>\n",
              "    <tr>\n",
              "      <th>username</th>\n",
              "      <th></th>\n",
              "    </tr>\n",
              "  </thead>\n",
              "  <tbody>\n",
              "    <tr>\n",
              "      <th>!</th>\n",
              "      <td>6.5</td>\n",
              "    </tr>\n",
              "    <tr>\n",
              "      <th>!             *</th>\n",
              "      <td>7.9</td>\n",
              "    </tr>\n",
              "    <tr>\n",
              "      <th>! DeadlyDeal !</th>\n",
              "      <td>20.1</td>\n",
              "    </tr>\n",
              "    <tr>\n",
              "      <th>! Dr Feelgood</th>\n",
              "      <td>5.4</td>\n",
              "    </tr>\n",
              "    <tr>\n",
              "      <th>! EREN</th>\n",
              "      <td>10.0</td>\n",
              "    </tr>\n",
              "  </tbody>\n",
              "</table>\n",
              "</div>"
            ],
            "text/plain": [
              "                 hours\n",
              "username              \n",
              "!                  6.5\n",
              "!             *    7.9\n",
              "! DeadlyDeal !    20.1\n",
              "! Dr Feelgood      5.4\n",
              "! EREN            10.0"
            ]
          },
          "metadata": {
            "tags": []
          },
          "execution_count": 50
        }
      ]
    },
    {
      "cell_type": "markdown",
      "metadata": {
        "id": "gzI93qolliXV"
      },
      "source": [
        "Finalmente, se crea la columna deseada y se llena con el total de horas por usuario."
      ]
    },
    {
      "cell_type": "code",
      "metadata": {
        "id": "L3uT9_GuiG_v",
        "colab": {
          "base_uri": "https://localhost:8080/",
          "height": 191
        },
        "outputId": "54a4922c-cdc2-4528-d4a4-6352d7599047"
      },
      "source": [
        "reviws['total']=total\n",
        "reviws['total'].fillna(gr.hours.transform(\"sum\"),inplace=True)\n",
        "reviws.head()"
      ],
      "execution_count": 51,
      "outputs": [
        {
          "output_type": "execute_result",
          "data": {
            "text/html": [
              "<div>\n",
              "<style scoped>\n",
              "    .dataframe tbody tr th:only-of-type {\n",
              "        vertical-align: middle;\n",
              "    }\n",
              "\n",
              "    .dataframe tbody tr th {\n",
              "        vertical-align: top;\n",
              "    }\n",
              "\n",
              "    .dataframe thead th {\n",
              "        text-align: right;\n",
              "    }\n",
              "</style>\n",
              "<table border=\"1\" class=\"dataframe\">\n",
              "  <thead>\n",
              "    <tr style=\"text-align: right;\">\n",
              "      <th></th>\n",
              "      <th>username</th>\n",
              "      <th>hours</th>\n",
              "      <th>product_id</th>\n",
              "      <th>total</th>\n",
              "    </tr>\n",
              "  </thead>\n",
              "  <tbody>\n",
              "    <tr>\n",
              "      <th>0</th>\n",
              "      <td>Chaos Syren</td>\n",
              "      <td>0.1</td>\n",
              "      <td>725280</td>\n",
              "      <td>0.1</td>\n",
              "    </tr>\n",
              "    <tr>\n",
              "      <th>1</th>\n",
              "      <td>Teef 🐏</td>\n",
              "      <td>0.9</td>\n",
              "      <td>725280</td>\n",
              "      <td>20.6</td>\n",
              "    </tr>\n",
              "    <tr>\n",
              "      <th>2</th>\n",
              "      <td>Ariman1</td>\n",
              "      <td>13.2</td>\n",
              "      <td>328100</td>\n",
              "      <td>19.1</td>\n",
              "    </tr>\n",
              "    <tr>\n",
              "      <th>3</th>\n",
              "      <td>freakfantom</td>\n",
              "      <td>0.1</td>\n",
              "      <td>725280</td>\n",
              "      <td>0.1</td>\n",
              "    </tr>\n",
              "    <tr>\n",
              "      <th>4</th>\n",
              "      <td>Kaelandros</td>\n",
              "      <td>1.5</td>\n",
              "      <td>328100</td>\n",
              "      <td>1.5</td>\n",
              "    </tr>\n",
              "  </tbody>\n",
              "</table>\n",
              "</div>"
            ],
            "text/plain": [
              "      username  hours  product_id  total\n",
              "0  Chaos Syren    0.1      725280    0.1\n",
              "1       Teef 🐏    0.9      725280   20.6\n",
              "2      Ariman1   13.2      328100   19.1\n",
              "3  freakfantom    0.1      725280    0.1\n",
              "4   Kaelandros    1.5      328100    1.5"
            ]
          },
          "metadata": {
            "tags": []
          },
          "execution_count": 51
        }
      ]
    },
    {
      "cell_type": "markdown",
      "metadata": {
        "id": "BoBI4kRkltiB"
      },
      "source": [
        "Seguidamente, se crea una nueva columna llamada 'play_game' en donde se informa el porcentaje de tiempo que cada usuario dedico a cada juego."
      ]
    },
    {
      "cell_type": "code",
      "metadata": {
        "id": "asqufFpejEoL",
        "colab": {
          "base_uri": "https://localhost:8080/",
          "height": 191
        },
        "outputId": "65316b6c-1c94-4b8e-a8af-70f7b53ddb82"
      },
      "source": [
        "reviws['play_game']= reviws['hours']/reviws['total']\n",
        "reviws.head()"
      ],
      "execution_count": 52,
      "outputs": [
        {
          "output_type": "execute_result",
          "data": {
            "text/html": [
              "<div>\n",
              "<style scoped>\n",
              "    .dataframe tbody tr th:only-of-type {\n",
              "        vertical-align: middle;\n",
              "    }\n",
              "\n",
              "    .dataframe tbody tr th {\n",
              "        vertical-align: top;\n",
              "    }\n",
              "\n",
              "    .dataframe thead th {\n",
              "        text-align: right;\n",
              "    }\n",
              "</style>\n",
              "<table border=\"1\" class=\"dataframe\">\n",
              "  <thead>\n",
              "    <tr style=\"text-align: right;\">\n",
              "      <th></th>\n",
              "      <th>username</th>\n",
              "      <th>hours</th>\n",
              "      <th>product_id</th>\n",
              "      <th>total</th>\n",
              "      <th>play_game</th>\n",
              "    </tr>\n",
              "  </thead>\n",
              "  <tbody>\n",
              "    <tr>\n",
              "      <th>0</th>\n",
              "      <td>Chaos Syren</td>\n",
              "      <td>0.1</td>\n",
              "      <td>725280</td>\n",
              "      <td>0.1</td>\n",
              "      <td>1.000000</td>\n",
              "    </tr>\n",
              "    <tr>\n",
              "      <th>1</th>\n",
              "      <td>Teef 🐏</td>\n",
              "      <td>0.9</td>\n",
              "      <td>725280</td>\n",
              "      <td>20.6</td>\n",
              "      <td>0.043689</td>\n",
              "    </tr>\n",
              "    <tr>\n",
              "      <th>2</th>\n",
              "      <td>Ariman1</td>\n",
              "      <td>13.2</td>\n",
              "      <td>328100</td>\n",
              "      <td>19.1</td>\n",
              "      <td>0.691099</td>\n",
              "    </tr>\n",
              "    <tr>\n",
              "      <th>3</th>\n",
              "      <td>freakfantom</td>\n",
              "      <td>0.1</td>\n",
              "      <td>725280</td>\n",
              "      <td>0.1</td>\n",
              "      <td>1.000000</td>\n",
              "    </tr>\n",
              "    <tr>\n",
              "      <th>4</th>\n",
              "      <td>Kaelandros</td>\n",
              "      <td>1.5</td>\n",
              "      <td>328100</td>\n",
              "      <td>1.5</td>\n",
              "      <td>1.000000</td>\n",
              "    </tr>\n",
              "  </tbody>\n",
              "</table>\n",
              "</div>"
            ],
            "text/plain": [
              "      username  hours  product_id  total  play_game\n",
              "0  Chaos Syren    0.1      725280    0.1   1.000000\n",
              "1       Teef 🐏    0.9      725280   20.6   0.043689\n",
              "2      Ariman1   13.2      328100   19.1   0.691099\n",
              "3  freakfantom    0.1      725280    0.1   1.000000\n",
              "4   Kaelandros    1.5      328100    1.5   1.000000"
            ]
          },
          "metadata": {
            "tags": []
          },
          "execution_count": 52
        }
      ]
    },
    {
      "cell_type": "code",
      "metadata": {
        "id": "YZfGJgF23C6S",
        "colab": {
          "base_uri": "https://localhost:8080/",
          "height": 391
        },
        "outputId": "a387aa77-8c5d-49dc-e219-f4bd5f11c393"
      },
      "source": [
        "reviws.sort_values('total',ascending=False) "
      ],
      "execution_count": 53,
      "outputs": [
        {
          "output_type": "execute_result",
          "data": {
            "text/html": [
              "<div>\n",
              "<style scoped>\n",
              "    .dataframe tbody tr th:only-of-type {\n",
              "        vertical-align: middle;\n",
              "    }\n",
              "\n",
              "    .dataframe tbody tr th {\n",
              "        vertical-align: top;\n",
              "    }\n",
              "\n",
              "    .dataframe thead th {\n",
              "        text-align: right;\n",
              "    }\n",
              "</style>\n",
              "<table border=\"1\" class=\"dataframe\">\n",
              "  <thead>\n",
              "    <tr style=\"text-align: right;\">\n",
              "      <th></th>\n",
              "      <th>username</th>\n",
              "      <th>hours</th>\n",
              "      <th>product_id</th>\n",
              "      <th>total</th>\n",
              "      <th>play_game</th>\n",
              "    </tr>\n",
              "  </thead>\n",
              "  <tbody>\n",
              "    <tr>\n",
              "      <th>348520</th>\n",
              "      <td>123</td>\n",
              "      <td>2372.3</td>\n",
              "      <td>346110</td>\n",
              "      <td>223631.9</td>\n",
              "      <td>0.010608</td>\n",
              "    </tr>\n",
              "    <tr>\n",
              "      <th>347445</th>\n",
              "      <td>123</td>\n",
              "      <td>752.1</td>\n",
              "      <td>346110</td>\n",
              "      <td>223631.9</td>\n",
              "      <td>0.003363</td>\n",
              "    </tr>\n",
              "    <tr>\n",
              "      <th>345828</th>\n",
              "      <td>123</td>\n",
              "      <td>3925.7</td>\n",
              "      <td>346110</td>\n",
              "      <td>223631.9</td>\n",
              "      <td>0.017554</td>\n",
              "    </tr>\n",
              "    <tr>\n",
              "      <th>99141</th>\n",
              "      <td>123</td>\n",
              "      <td>79.5</td>\n",
              "      <td>289070</td>\n",
              "      <td>223631.9</td>\n",
              "      <td>0.000355</td>\n",
              "    </tr>\n",
              "    <tr>\n",
              "      <th>12989</th>\n",
              "      <td>123</td>\n",
              "      <td>69.3</td>\n",
              "      <td>271590</td>\n",
              "      <td>223631.9</td>\n",
              "      <td>0.000310</td>\n",
              "    </tr>\n",
              "    <tr>\n",
              "      <th>...</th>\n",
              "      <td>...</td>\n",
              "      <td>...</td>\n",
              "      <td>...</td>\n",
              "      <td>...</td>\n",
              "      <td>...</td>\n",
              "    </tr>\n",
              "    <tr>\n",
              "      <th>121011</th>\n",
              "      <td>Phyroks</td>\n",
              "      <td>0.1</td>\n",
              "      <td>392080</td>\n",
              "      <td>0.1</td>\n",
              "      <td>1.000000</td>\n",
              "    </tr>\n",
              "    <tr>\n",
              "      <th>341511</th>\n",
              "      <td>Profeser Boxer     &gt;:)</td>\n",
              "      <td>0.1</td>\n",
              "      <td>230410</td>\n",
              "      <td>0.1</td>\n",
              "      <td>1.000000</td>\n",
              "    </tr>\n",
              "    <tr>\n",
              "      <th>65333</th>\n",
              "      <td>SkyAdmiralDante</td>\n",
              "      <td>0.1</td>\n",
              "      <td>452510</td>\n",
              "      <td>0.1</td>\n",
              "      <td>1.000000</td>\n",
              "    </tr>\n",
              "    <tr>\n",
              "      <th>121019</th>\n",
              "      <td>Onno</td>\n",
              "      <td>0.1</td>\n",
              "      <td>250600</td>\n",
              "      <td>0.1</td>\n",
              "      <td>1.000000</td>\n",
              "    </tr>\n",
              "    <tr>\n",
              "      <th>0</th>\n",
              "      <td>Chaos Syren</td>\n",
              "      <td>0.1</td>\n",
              "      <td>725280</td>\n",
              "      <td>0.1</td>\n",
              "      <td>1.000000</td>\n",
              "    </tr>\n",
              "  </tbody>\n",
              "</table>\n",
              "<p>468885 rows × 5 columns</p>\n",
              "</div>"
            ],
            "text/plain": [
              "                      username   hours  product_id     total  play_game\n",
              "348520                     123  2372.3      346110  223631.9   0.010608\n",
              "347445                     123   752.1      346110  223631.9   0.003363\n",
              "345828                     123  3925.7      346110  223631.9   0.017554\n",
              "99141                      123    79.5      289070  223631.9   0.000355\n",
              "12989                      123    69.3      271590  223631.9   0.000310\n",
              "...                        ...     ...         ...       ...        ...\n",
              "121011                 Phyroks     0.1      392080       0.1   1.000000\n",
              "341511  Profeser Boxer     >:)     0.1      230410       0.1   1.000000\n",
              "65333          SkyAdmiralDante     0.1      452510       0.1   1.000000\n",
              "121019                    Onno     0.1      250600       0.1   1.000000\n",
              "0                  Chaos Syren     0.1      725280       0.1   1.000000\n",
              "\n",
              "[468885 rows x 5 columns]"
            ]
          },
          "metadata": {
            "tags": []
          },
          "execution_count": 53
        }
      ]
    },
    {
      "cell_type": "markdown",
      "metadata": {
        "id": "3IR3Jgm44nu6"
      },
      "source": [
        "Se puede observar que en el total de horas jugadas vemos dos outliers: exceso de horas jugadas (más de las horas que tiene un año) y un minimo de horas de 10 minutos. Con estos datos lidiaremos más adelante..."
      ]
    },
    {
      "cell_type": "code",
      "metadata": {
        "id": "fiwJdAsxl9z5",
        "colab": {
          "base_uri": "https://localhost:8080/"
        },
        "outputId": "71e33b7e-3bc3-436b-efac-4ae2a0ff5d1b"
      },
      "source": [
        "print('Tamaño de reviws.csv')\n",
        "print(reviws.shape)\n",
        "print('Valores faltantes:')\n",
        "print(reviws.isna().sum())"
      ],
      "execution_count": 54,
      "outputs": [
        {
          "output_type": "stream",
          "text": [
            "Tamaño de reviws.csv\n",
            "(468885, 5)\n",
            "Valores faltantes:\n",
            "username      0\n",
            "hours         0\n",
            "product_id    0\n",
            "total         0\n",
            "play_game     0\n",
            "dtype: int64\n"
          ],
          "name": "stdout"
        }
      ]
    },
    {
      "cell_type": "markdown",
      "metadata": {
        "id": "R8dye0eGfLhA"
      },
      "source": [
        "Revisemos como se ve la información de 1 solo usuario."
      ]
    },
    {
      "cell_type": "code",
      "metadata": {
        "id": "wCzys9vHpRcb",
        "colab": {
          "base_uri": "https://localhost:8080/",
          "height": 622
        },
        "outputId": "a62e28e2-f0a5-4f83-82bc-493c7dff5ef6"
      },
      "source": [
        "dr=reviws[(reviws['username']=='The_Cpt_FROGGY')] #&(reviws['play_game']>=0.05)\n",
        "dr = dr.sort_values('play_game',ascending=False)\n",
        "dr"
      ],
      "execution_count": 55,
      "outputs": [
        {
          "output_type": "execute_result",
          "data": {
            "text/html": [
              "<div>\n",
              "<style scoped>\n",
              "    .dataframe tbody tr th:only-of-type {\n",
              "        vertical-align: middle;\n",
              "    }\n",
              "\n",
              "    .dataframe tbody tr th {\n",
              "        vertical-align: top;\n",
              "    }\n",
              "\n",
              "    .dataframe thead th {\n",
              "        text-align: right;\n",
              "    }\n",
              "</style>\n",
              "<table border=\"1\" class=\"dataframe\">\n",
              "  <thead>\n",
              "    <tr style=\"text-align: right;\">\n",
              "      <th></th>\n",
              "      <th>username</th>\n",
              "      <th>hours</th>\n",
              "      <th>product_id</th>\n",
              "      <th>total</th>\n",
              "      <th>play_game</th>\n",
              "    </tr>\n",
              "  </thead>\n",
              "  <tbody>\n",
              "    <tr>\n",
              "      <th>169410</th>\n",
              "      <td>The_Cpt_FROGGY</td>\n",
              "      <td>18.7</td>\n",
              "      <td>489520</td>\n",
              "      <td>152.1</td>\n",
              "      <td>0.122945</td>\n",
              "    </tr>\n",
              "    <tr>\n",
              "      <th>204156</th>\n",
              "      <td>The_Cpt_FROGGY</td>\n",
              "      <td>10.6</td>\n",
              "      <td>380920</td>\n",
              "      <td>152.1</td>\n",
              "      <td>0.069691</td>\n",
              "    </tr>\n",
              "    <tr>\n",
              "      <th>33298</th>\n",
              "      <td>The_Cpt_FROGGY</td>\n",
              "      <td>10.1</td>\n",
              "      <td>572520</td>\n",
              "      <td>152.1</td>\n",
              "      <td>0.066404</td>\n",
              "    </tr>\n",
              "    <tr>\n",
              "      <th>418066</th>\n",
              "      <td>The_Cpt_FROGGY</td>\n",
              "      <td>9.5</td>\n",
              "      <td>570980</td>\n",
              "      <td>152.1</td>\n",
              "      <td>0.062459</td>\n",
              "    </tr>\n",
              "    <tr>\n",
              "      <th>382580</th>\n",
              "      <td>The_Cpt_FROGGY</td>\n",
              "      <td>8.3</td>\n",
              "      <td>616240</td>\n",
              "      <td>152.1</td>\n",
              "      <td>0.054569</td>\n",
              "    </tr>\n",
              "    <tr>\n",
              "      <th>27042</th>\n",
              "      <td>The_Cpt_FROGGY</td>\n",
              "      <td>8.3</td>\n",
              "      <td>493540</td>\n",
              "      <td>152.1</td>\n",
              "      <td>0.054569</td>\n",
              "    </tr>\n",
              "    <tr>\n",
              "      <th>205276</th>\n",
              "      <td>The_Cpt_FROGGY</td>\n",
              "      <td>8.1</td>\n",
              "      <td>348160</td>\n",
              "      <td>152.1</td>\n",
              "      <td>0.053254</td>\n",
              "    </tr>\n",
              "    <tr>\n",
              "      <th>5</th>\n",
              "      <td>The_Cpt_FROGGY</td>\n",
              "      <td>7.8</td>\n",
              "      <td>631920</td>\n",
              "      <td>152.1</td>\n",
              "      <td>0.051282</td>\n",
              "    </tr>\n",
              "    <tr>\n",
              "      <th>1186</th>\n",
              "      <td>The_Cpt_FROGGY</td>\n",
              "      <td>7.3</td>\n",
              "      <td>482440</td>\n",
              "      <td>152.1</td>\n",
              "      <td>0.047995</td>\n",
              "    </tr>\n",
              "    <tr>\n",
              "      <th>363519</th>\n",
              "      <td>The_Cpt_FROGGY</td>\n",
              "      <td>7.1</td>\n",
              "      <td>658790</td>\n",
              "      <td>152.1</td>\n",
              "      <td>0.046680</td>\n",
              "    </tr>\n",
              "    <tr>\n",
              "      <th>371958</th>\n",
              "      <td>The_Cpt_FROGGY</td>\n",
              "      <td>7.1</td>\n",
              "      <td>503650</td>\n",
              "      <td>152.1</td>\n",
              "      <td>0.046680</td>\n",
              "    </tr>\n",
              "    <tr>\n",
              "      <th>400760</th>\n",
              "      <td>The_Cpt_FROGGY</td>\n",
              "      <td>6.8</td>\n",
              "      <td>564150</td>\n",
              "      <td>152.1</td>\n",
              "      <td>0.044707</td>\n",
              "    </tr>\n",
              "    <tr>\n",
              "      <th>424400</th>\n",
              "      <td>The_Cpt_FROGGY</td>\n",
              "      <td>6.4</td>\n",
              "      <td>537740</td>\n",
              "      <td>152.1</td>\n",
              "      <td>0.042078</td>\n",
              "    </tr>\n",
              "    <tr>\n",
              "      <th>466658</th>\n",
              "      <td>The_Cpt_FROGGY</td>\n",
              "      <td>6.0</td>\n",
              "      <td>613420</td>\n",
              "      <td>152.1</td>\n",
              "      <td>0.039448</td>\n",
              "    </tr>\n",
              "    <tr>\n",
              "      <th>398211</th>\n",
              "      <td>The_Cpt_FROGGY</td>\n",
              "      <td>5.8</td>\n",
              "      <td>544310</td>\n",
              "      <td>152.1</td>\n",
              "      <td>0.038133</td>\n",
              "    </tr>\n",
              "    <tr>\n",
              "      <th>238577</th>\n",
              "      <td>The_Cpt_FROGGY</td>\n",
              "      <td>5.4</td>\n",
              "      <td>292500</td>\n",
              "      <td>152.1</td>\n",
              "      <td>0.035503</td>\n",
              "    </tr>\n",
              "    <tr>\n",
              "      <th>89213</th>\n",
              "      <td>The_Cpt_FROGGY</td>\n",
              "      <td>5.3</td>\n",
              "      <td>458680</td>\n",
              "      <td>152.1</td>\n",
              "      <td>0.034845</td>\n",
              "    </tr>\n",
              "    <tr>\n",
              "      <th>417100</th>\n",
              "      <td>The_Cpt_FROGGY</td>\n",
              "      <td>4.9</td>\n",
              "      <td>433480</td>\n",
              "      <td>152.1</td>\n",
              "      <td>0.032216</td>\n",
              "    </tr>\n",
              "    <tr>\n",
              "      <th>21768</th>\n",
              "      <td>The_Cpt_FROGGY</td>\n",
              "      <td>4.7</td>\n",
              "      <td>736860</td>\n",
              "      <td>152.1</td>\n",
              "      <td>0.030901</td>\n",
              "    </tr>\n",
              "    <tr>\n",
              "      <th>207013</th>\n",
              "      <td>The_Cpt_FROGGY</td>\n",
              "      <td>3.9</td>\n",
              "      <td>657240</td>\n",
              "      <td>152.1</td>\n",
              "      <td>0.025641</td>\n",
              "    </tr>\n",
              "  </tbody>\n",
              "</table>\n",
              "</div>"
            ],
            "text/plain": [
              "              username  hours  product_id  total  play_game\n",
              "169410  The_Cpt_FROGGY   18.7      489520  152.1   0.122945\n",
              "204156  The_Cpt_FROGGY   10.6      380920  152.1   0.069691\n",
              "33298   The_Cpt_FROGGY   10.1      572520  152.1   0.066404\n",
              "418066  The_Cpt_FROGGY    9.5      570980  152.1   0.062459\n",
              "382580  The_Cpt_FROGGY    8.3      616240  152.1   0.054569\n",
              "27042   The_Cpt_FROGGY    8.3      493540  152.1   0.054569\n",
              "205276  The_Cpt_FROGGY    8.1      348160  152.1   0.053254\n",
              "5       The_Cpt_FROGGY    7.8      631920  152.1   0.051282\n",
              "1186    The_Cpt_FROGGY    7.3      482440  152.1   0.047995\n",
              "363519  The_Cpt_FROGGY    7.1      658790  152.1   0.046680\n",
              "371958  The_Cpt_FROGGY    7.1      503650  152.1   0.046680\n",
              "400760  The_Cpt_FROGGY    6.8      564150  152.1   0.044707\n",
              "424400  The_Cpt_FROGGY    6.4      537740  152.1   0.042078\n",
              "466658  The_Cpt_FROGGY    6.0      613420  152.1   0.039448\n",
              "398211  The_Cpt_FROGGY    5.8      544310  152.1   0.038133\n",
              "238577  The_Cpt_FROGGY    5.4      292500  152.1   0.035503\n",
              "89213   The_Cpt_FROGGY    5.3      458680  152.1   0.034845\n",
              "417100  The_Cpt_FROGGY    4.9      433480  152.1   0.032216\n",
              "21768   The_Cpt_FROGGY    4.7      736860  152.1   0.030901\n",
              "207013  The_Cpt_FROGGY    3.9      657240  152.1   0.025641"
            ]
          },
          "metadata": {
            "tags": []
          },
          "execution_count": 55
        }
      ]
    },
    {
      "cell_type": "markdown",
      "metadata": {
        "id": "1IVElr4yWL-G"
      },
      "source": [
        "La cantidad de productos que tiene el usuario es:"
      ]
    },
    {
      "cell_type": "code",
      "metadata": {
        "id": "N4r1qdjq5odD",
        "colab": {
          "base_uri": "https://localhost:8080/"
        },
        "outputId": "cd8b4c1d-594a-4d1a-b04b-f924fb34b08f"
      },
      "source": [
        "print(dr.shape)\n",
        "print(len(dr['product_id'].unique()))"
      ],
      "execution_count": 56,
      "outputs": [
        {
          "output_type": "stream",
          "text": [
            "(20, 5)\n",
            "20\n"
          ],
          "name": "stdout"
        }
      ]
    },
    {
      "cell_type": "markdown",
      "metadata": {
        "id": "a-h9jBZ4WbXK"
      },
      "source": [
        "Y, ahora bien, la cantidad de usuarios que tenemos y productos es:"
      ]
    },
    {
      "cell_type": "code",
      "metadata": {
        "id": "SxeJc7nTJ0aP",
        "colab": {
          "base_uri": "https://localhost:8080/"
        },
        "outputId": "3a9fbd83-a191-4eba-fdd5-8cc5902f35e3"
      },
      "source": [
        "print(len(reviws['username'].unique())) #Valores únicos de usuario\n",
        "print(len(reviws['product_id'].unique())) # Valores único de productos"
      ],
      "execution_count": 57,
      "outputs": [
        {
          "output_type": "stream",
          "text": [
            "345071\n",
            "11955\n"
          ],
          "name": "stdout"
        }
      ]
    },
    {
      "cell_type": "markdown",
      "metadata": {
        "id": "nwaM_xWPYd5y"
      },
      "source": [
        "Agregar columna con el nombre del juego. Esto es traer desde el dataset de steam_games el app_name correspondiente a cada id. Para ello primero traemos la data en games solo app_name e id."
      ]
    },
    {
      "cell_type": "code",
      "metadata": {
        "id": "2V6k2v2Owtbd",
        "colab": {
          "base_uri": "https://localhost:8080/",
          "height": 191
        },
        "outputId": "09046d33-bc1f-4453-dae6-691d6138601e"
      },
      "source": [
        "games = pd.DataFrame(data_games[['app_name','id']])\n",
        "games = games.rename(columns={'app_name':'name','id':'product_id'})\n",
        "games.head()"
      ],
      "execution_count": 58,
      "outputs": [
        {
          "output_type": "execute_result",
          "data": {
            "text/html": [
              "<div>\n",
              "<style scoped>\n",
              "    .dataframe tbody tr th:only-of-type {\n",
              "        vertical-align: middle;\n",
              "    }\n",
              "\n",
              "    .dataframe tbody tr th {\n",
              "        vertical-align: top;\n",
              "    }\n",
              "\n",
              "    .dataframe thead th {\n",
              "        text-align: right;\n",
              "    }\n",
              "</style>\n",
              "<table border=\"1\" class=\"dataframe\">\n",
              "  <thead>\n",
              "    <tr style=\"text-align: right;\">\n",
              "      <th></th>\n",
              "      <th>name</th>\n",
              "      <th>product_id</th>\n",
              "    </tr>\n",
              "  </thead>\n",
              "  <tbody>\n",
              "    <tr>\n",
              "      <th>0</th>\n",
              "      <td>Lost Summoner Kitty</td>\n",
              "      <td>761140.0</td>\n",
              "    </tr>\n",
              "    <tr>\n",
              "      <th>1</th>\n",
              "      <td>Ironbound</td>\n",
              "      <td>643980.0</td>\n",
              "    </tr>\n",
              "    <tr>\n",
              "      <th>2</th>\n",
              "      <td>Real Pool 3D - Poolians</td>\n",
              "      <td>670290.0</td>\n",
              "    </tr>\n",
              "    <tr>\n",
              "      <th>3</th>\n",
              "      <td>弹炸人2222</td>\n",
              "      <td>767400.0</td>\n",
              "    </tr>\n",
              "    <tr>\n",
              "      <th>4</th>\n",
              "      <td>Log Challenge</td>\n",
              "      <td>773570.0</td>\n",
              "    </tr>\n",
              "  </tbody>\n",
              "</table>\n",
              "</div>"
            ],
            "text/plain": [
              "                      name  product_id\n",
              "0      Lost Summoner Kitty    761140.0\n",
              "1                Ironbound    643980.0\n",
              "2  Real Pool 3D - Poolians    670290.0\n",
              "3                  弹炸人2222    767400.0\n",
              "4            Log Challenge    773570.0"
            ]
          },
          "metadata": {
            "tags": []
          },
          "execution_count": 58
        }
      ]
    },
    {
      "cell_type": "markdown",
      "metadata": {
        "id": "qGaV2r4mW6lu"
      },
      "source": [
        "Sacamos los valores faltantes."
      ]
    },
    {
      "cell_type": "code",
      "metadata": {
        "id": "QnJijKF2k4-P",
        "colab": {
          "base_uri": "https://localhost:8080/"
        },
        "outputId": "c481c4fe-4f55-4458-aa63-1088c675bf27"
      },
      "source": [
        "games.isna().sum()"
      ],
      "execution_count": null,
      "outputs": [
        {
          "output_type": "execute_result",
          "data": {
            "text/plain": [
              "name          2\n",
              "product_id    2\n",
              "dtype: int64"
            ]
          },
          "metadata": {
            "tags": []
          },
          "execution_count": 64
        }
      ]
    },
    {
      "cell_type": "code",
      "metadata": {
        "id": "v-XVBvLjk_rT"
      },
      "source": [
        "games = games.dropna()"
      ],
      "execution_count": null,
      "outputs": []
    },
    {
      "cell_type": "markdown",
      "metadata": {
        "id": "ORS_G9kwW-P8"
      },
      "source": [
        "Y agregamos la información a nuestro dataset 'reviws'."
      ]
    },
    {
      "cell_type": "code",
      "metadata": {
        "id": "AUCy9zx6f-xo",
        "colab": {
          "base_uri": "https://localhost:8080/",
          "height": 191
        },
        "outputId": "deeeed4c-91f6-44d7-ab27-013452340407"
      },
      "source": [
        "reviws= pd.merge(reviws,games)\n",
        "reviws.head()"
      ],
      "execution_count": null,
      "outputs": [
        {
          "output_type": "execute_result",
          "data": {
            "text/html": [
              "<div>\n",
              "<style scoped>\n",
              "    .dataframe tbody tr th:only-of-type {\n",
              "        vertical-align: middle;\n",
              "    }\n",
              "\n",
              "    .dataframe tbody tr th {\n",
              "        vertical-align: top;\n",
              "    }\n",
              "\n",
              "    .dataframe thead th {\n",
              "        text-align: right;\n",
              "    }\n",
              "</style>\n",
              "<table border=\"1\" class=\"dataframe\">\n",
              "  <thead>\n",
              "    <tr style=\"text-align: right;\">\n",
              "      <th></th>\n",
              "      <th>username</th>\n",
              "      <th>hours</th>\n",
              "      <th>product_id</th>\n",
              "      <th>total</th>\n",
              "      <th>play_game</th>\n",
              "      <th>name</th>\n",
              "    </tr>\n",
              "  </thead>\n",
              "  <tbody>\n",
              "    <tr>\n",
              "      <th>0</th>\n",
              "      <td>Chaos Syren</td>\n",
              "      <td>0.1</td>\n",
              "      <td>725280</td>\n",
              "      <td>0.1</td>\n",
              "      <td>1.000000</td>\n",
              "      <td>Psi Project</td>\n",
              "    </tr>\n",
              "    <tr>\n",
              "      <th>1</th>\n",
              "      <td>Teef 🐏</td>\n",
              "      <td>0.9</td>\n",
              "      <td>725280</td>\n",
              "      <td>20.6</td>\n",
              "      <td>0.043689</td>\n",
              "      <td>Psi Project</td>\n",
              "    </tr>\n",
              "    <tr>\n",
              "      <th>2</th>\n",
              "      <td>freakfantom</td>\n",
              "      <td>0.1</td>\n",
              "      <td>725280</td>\n",
              "      <td>0.1</td>\n",
              "      <td>1.000000</td>\n",
              "      <td>Psi Project</td>\n",
              "    </tr>\n",
              "    <tr>\n",
              "      <th>3</th>\n",
              "      <td>Ariman1</td>\n",
              "      <td>13.2</td>\n",
              "      <td>328100</td>\n",
              "      <td>19.1</td>\n",
              "      <td>0.691099</td>\n",
              "      <td>Gunspell - Steam Edition</td>\n",
              "    </tr>\n",
              "    <tr>\n",
              "      <th>4</th>\n",
              "      <td>Kaelandros</td>\n",
              "      <td>1.5</td>\n",
              "      <td>328100</td>\n",
              "      <td>1.5</td>\n",
              "      <td>1.000000</td>\n",
              "      <td>Gunspell - Steam Edition</td>\n",
              "    </tr>\n",
              "  </tbody>\n",
              "</table>\n",
              "</div>"
            ],
            "text/plain": [
              "      username  hours  product_id  total  play_game                      name\n",
              "0  Chaos Syren    0.1      725280    0.1   1.000000               Psi Project\n",
              "1       Teef 🐏    0.9      725280   20.6   0.043689               Psi Project\n",
              "2  freakfantom    0.1      725280    0.1   1.000000               Psi Project\n",
              "3      Ariman1   13.2      328100   19.1   0.691099  Gunspell - Steam Edition\n",
              "4   Kaelandros    1.5      328100    1.5   1.000000  Gunspell - Steam Edition"
            ]
          },
          "metadata": {
            "tags": []
          },
          "execution_count": 65
        }
      ]
    },
    {
      "cell_type": "markdown",
      "metadata": {
        "id": "Gj7hz4yswQoC"
      },
      "source": [
        "##Formas de abordar el problema"
      ]
    },
    {
      "cell_type": "markdown",
      "metadata": {
        "id": "V3ivsbsOs-ix"
      },
      "source": [
        "**Idea 1**\n",
        "Se puede traducir las horas jugadas en un rating de 5 calificaciones haciendo uso de la media y las disviaciones estandar."
      ]
    },
    {
      "cell_type": "markdown",
      "metadata": {
        "id": "dl17fSBlu9Xu"
      },
      "source": [
        "**Idea 2**\n",
        "Acercar a los usuarios acorde a productos más jugados, recomendando los juegos que sean jugados por encima de la media en una calificación de 1 a 2.\n",
        "\n",
        "* 1 o negativo, quiere decir que las horas invertidas en ese juego por el usuario han sido por debajo del promedio de sus demás juegos.\n",
        "* 2 o positivo, quiere decir que las horas invertidas en ese juego por el usuario están por encima o en el promedio de las horas jugadas."
      ]
    },
    {
      "cell_type": "markdown",
      "metadata": {
        "id": "-aG2OamywXwg"
      },
      "source": [
        "Ambas ideas parecen muy racionales así que usaremos primero la número 2 (qué es más simple) para nuestro modelo de benchmark y la 1 para optimizar el modelo."
      ]
    },
    {
      "cell_type": "markdown",
      "metadata": {
        "id": "dHZO7ixhilv2"
      },
      "source": [
        "#Modelo benchmark"
      ]
    },
    {
      "cell_type": "markdown",
      "metadata": {
        "id": "FRK5mZ7kxhpd"
      },
      "source": [
        "Primero se debe agregar la columna que llamare rankings."
      ]
    },
    {
      "cell_type": "code",
      "metadata": {
        "id": "uvnZScibWwhm"
      },
      "source": [
        "gr = reviws.groupby(['username'])"
      ],
      "execution_count": 59,
      "outputs": []
    },
    {
      "cell_type": "code",
      "metadata": {
        "id": "GSiPbsbhs8Ss",
        "colab": {
          "base_uri": "https://localhost:8080/",
          "height": 191
        },
        "outputId": "36443b31-0816-44a3-9421-d681bba19cb8"
      },
      "source": [
        "reviws.loc[:,'mean_hour']= np.nan\n",
        "reviws.loc[:,'mean_hour'].fillna(gr.play_game.transform(\"mean\"),inplace=True)\n",
        "reviws.loc[:,'std_hour'] = np.nan\n",
        "reviws.loc[:,'std_hour'].fillna(gr.play_game.transform('std'),inplace=True)\n",
        "reviws.head()"
      ],
      "execution_count": 60,
      "outputs": [
        {
          "output_type": "execute_result",
          "data": {
            "text/html": [
              "<div>\n",
              "<style scoped>\n",
              "    .dataframe tbody tr th:only-of-type {\n",
              "        vertical-align: middle;\n",
              "    }\n",
              "\n",
              "    .dataframe tbody tr th {\n",
              "        vertical-align: top;\n",
              "    }\n",
              "\n",
              "    .dataframe thead th {\n",
              "        text-align: right;\n",
              "    }\n",
              "</style>\n",
              "<table border=\"1\" class=\"dataframe\">\n",
              "  <thead>\n",
              "    <tr style=\"text-align: right;\">\n",
              "      <th></th>\n",
              "      <th>username</th>\n",
              "      <th>hours</th>\n",
              "      <th>product_id</th>\n",
              "      <th>total</th>\n",
              "      <th>play_game</th>\n",
              "      <th>mean_hour</th>\n",
              "      <th>std_hour</th>\n",
              "    </tr>\n",
              "  </thead>\n",
              "  <tbody>\n",
              "    <tr>\n",
              "      <th>0</th>\n",
              "      <td>Chaos Syren</td>\n",
              "      <td>0.1</td>\n",
              "      <td>725280</td>\n",
              "      <td>0.1</td>\n",
              "      <td>1.000000</td>\n",
              "      <td>1.000000</td>\n",
              "      <td>NaN</td>\n",
              "    </tr>\n",
              "    <tr>\n",
              "      <th>1</th>\n",
              "      <td>Teef 🐏</td>\n",
              "      <td>0.9</td>\n",
              "      <td>725280</td>\n",
              "      <td>20.6</td>\n",
              "      <td>0.043689</td>\n",
              "      <td>0.333333</td>\n",
              "      <td>0.531378</td>\n",
              "    </tr>\n",
              "    <tr>\n",
              "      <th>2</th>\n",
              "      <td>Ariman1</td>\n",
              "      <td>13.2</td>\n",
              "      <td>328100</td>\n",
              "      <td>19.1</td>\n",
              "      <td>0.691099</td>\n",
              "      <td>0.250000</td>\n",
              "      <td>0.300531</td>\n",
              "    </tr>\n",
              "    <tr>\n",
              "      <th>3</th>\n",
              "      <td>freakfantom</td>\n",
              "      <td>0.1</td>\n",
              "      <td>725280</td>\n",
              "      <td>0.1</td>\n",
              "      <td>1.000000</td>\n",
              "      <td>1.000000</td>\n",
              "      <td>NaN</td>\n",
              "    </tr>\n",
              "    <tr>\n",
              "      <th>4</th>\n",
              "      <td>Kaelandros</td>\n",
              "      <td>1.5</td>\n",
              "      <td>328100</td>\n",
              "      <td>1.5</td>\n",
              "      <td>1.000000</td>\n",
              "      <td>1.000000</td>\n",
              "      <td>NaN</td>\n",
              "    </tr>\n",
              "  </tbody>\n",
              "</table>\n",
              "</div>"
            ],
            "text/plain": [
              "      username  hours  product_id  total  play_game  mean_hour  std_hour\n",
              "0  Chaos Syren    0.1      725280    0.1   1.000000   1.000000       NaN\n",
              "1       Teef 🐏    0.9      725280   20.6   0.043689   0.333333  0.531378\n",
              "2      Ariman1   13.2      328100   19.1   0.691099   0.250000  0.300531\n",
              "3  freakfantom    0.1      725280    0.1   1.000000   1.000000       NaN\n",
              "4   Kaelandros    1.5      328100    1.5   1.000000   1.000000       NaN"
            ]
          },
          "metadata": {
            "tags": []
          },
          "execution_count": 60
        }
      ]
    },
    {
      "cell_type": "markdown",
      "metadata": {
        "id": "Xj1eGF0OcI_v"
      },
      "source": [
        "Es de notarse que para algunos usuarios la desviación estandar del tiempo jugado aparece como un valor NAN, esto se debe a que no existe tal desviación y estamos hablando de personas que solo jugaron un juego, por lo que la desviación estandar del tiempo jugado será de 0. Para estos casos se pueden tomar dos enfoques: Se reemplazan los valores NAN por 0 ó se eliminan los valores NAN."
      ]
    },
    {
      "cell_type": "code",
      "metadata": {
        "id": "1z48X_LyfR0i",
        "colab": {
          "base_uri": "https://localhost:8080/"
        },
        "outputId": "de76c841-dbe8-42bf-e9aa-f915891a5be8"
      },
      "source": [
        "print('Tamaño de la data: ',len(reviws))\n",
        "print('Datos NAN de std_hour:',reviws['std_hour'].isna().sum())\n",
        "print('Data sin NAN: ',len(reviws)-reviws['std_hour'].isna().sum())"
      ],
      "execution_count": 61,
      "outputs": [
        {
          "output_type": "stream",
          "text": [
            "Tamaño de la data:  468885\n",
            "Datos NAN de std_hour: 287101\n",
            "Data sin NAN:  181784\n"
          ],
          "name": "stdout"
        }
      ]
    },
    {
      "cell_type": "markdown",
      "metadata": {
        "id": "HKq1yvjudnBe"
      },
      "source": [
        "Los valores NAN en la desviación estandar corresponden a una desviación de 0, lo que se relaciona a que el usuario solo ha jugado 1 videojuego durante todo el periodo de tiempo. Entonces, cambiamos el valor NAN por 0.\n",
        "\n"
      ]
    },
    {
      "cell_type": "code",
      "metadata": {
        "id": "3nTcZzcbrbgC",
        "colab": {
          "base_uri": "https://localhost:8080/"
        },
        "outputId": "fdac1609-bb98-4454-dfde-a66a7078298b"
      },
      "source": [
        "reviws = reviws.fillna(0)\n",
        "reviws.shape"
      ],
      "execution_count": 62,
      "outputs": [
        {
          "output_type": "execute_result",
          "data": {
            "text/plain": [
              "(468885, 7)"
            ]
          },
          "metadata": {
            "tags": []
          },
          "execution_count": 62
        }
      ]
    },
    {
      "cell_type": "markdown",
      "metadata": {
        "id": "e2XsKSL7eJAH"
      },
      "source": [
        "Aquí se puede apreciar la información hasta ahora recolectada por usuario."
      ]
    },
    {
      "cell_type": "code",
      "metadata": {
        "id": "xoyCfFE6VOIQ",
        "colab": {
          "base_uri": "https://localhost:8080/",
          "height": 76
        },
        "outputId": "7c580e7f-fdc4-4bca-8eec-f24e88217234"
      },
      "source": [
        "reviws[reviws['username']=='dll3z']"
      ],
      "execution_count": 63,
      "outputs": [
        {
          "output_type": "execute_result",
          "data": {
            "text/html": [
              "<div>\n",
              "<style scoped>\n",
              "    .dataframe tbody tr th:only-of-type {\n",
              "        vertical-align: middle;\n",
              "    }\n",
              "\n",
              "    .dataframe tbody tr th {\n",
              "        vertical-align: top;\n",
              "    }\n",
              "\n",
              "    .dataframe thead th {\n",
              "        text-align: right;\n",
              "    }\n",
              "</style>\n",
              "<table border=\"1\" class=\"dataframe\">\n",
              "  <thead>\n",
              "    <tr style=\"text-align: right;\">\n",
              "      <th></th>\n",
              "      <th>username</th>\n",
              "      <th>hours</th>\n",
              "      <th>product_id</th>\n",
              "      <th>total</th>\n",
              "      <th>play_game</th>\n",
              "      <th>mean_hour</th>\n",
              "      <th>std_hour</th>\n",
              "    </tr>\n",
              "  </thead>\n",
              "  <tbody>\n",
              "    <tr>\n",
              "      <th>25</th>\n",
              "      <td>dll3z</td>\n",
              "      <td>0.4</td>\n",
              "      <td>328100</td>\n",
              "      <td>0.4</td>\n",
              "      <td>1.0</td>\n",
              "      <td>1.0</td>\n",
              "      <td>0.0</td>\n",
              "    </tr>\n",
              "  </tbody>\n",
              "</table>\n",
              "</div>"
            ],
            "text/plain": [
              "   username  hours  product_id  total  play_game  mean_hour  std_hour\n",
              "25    dll3z    0.4      328100    0.4        1.0        1.0       0.0"
            ]
          },
          "metadata": {
            "tags": []
          },
          "execution_count": 63
        }
      ]
    },
    {
      "cell_type": "markdown",
      "metadata": {
        "id": "sbFEWWFsX6gY"
      },
      "source": [
        "Procedemos a asignar puntajes de 1,2 y 3. siendo respectivamente que juega 1.5 desviaciones estandar por encima de la media, juega por encima de la media y que juega por debajo de la media el producto."
      ]
    },
    {
      "cell_type": "code",
      "metadata": {
        "id": "Iq_O_xQej287",
        "colab": {
          "base_uri": "https://localhost:8080/",
          "height": 335
        },
        "outputId": "f8897f09-c79b-45d8-f401-6a029db0efd7"
      },
      "source": [
        "puntaje_3 =  reviws.loc[:,'play_game'] >= reviws.loc[:,'mean_hour'] + 1.5*reviws.loc[:,'std_hour']\n",
        "puntaje_2 =   reviws.loc[:,'play_game'] >= reviws.loc[:,'mean_hour']  \n",
        "puntaje_1 =   reviws.loc[:,'play_game'] < reviws.loc[:,'mean_hour']        \n",
        "conditions  = [ puntaje_3,puntaje_2,puntaje_1 ]\n",
        "choices     = [ 3,2,1 ]\n",
        "\n",
        "reviws.loc[:,'ranking'] = np.select(conditions, choices, default=np.nan)\n",
        "reviws.head(10)"
      ],
      "execution_count": 65,
      "outputs": [
        {
          "output_type": "execute_result",
          "data": {
            "text/html": [
              "<div>\n",
              "<style scoped>\n",
              "    .dataframe tbody tr th:only-of-type {\n",
              "        vertical-align: middle;\n",
              "    }\n",
              "\n",
              "    .dataframe tbody tr th {\n",
              "        vertical-align: top;\n",
              "    }\n",
              "\n",
              "    .dataframe thead th {\n",
              "        text-align: right;\n",
              "    }\n",
              "</style>\n",
              "<table border=\"1\" class=\"dataframe\">\n",
              "  <thead>\n",
              "    <tr style=\"text-align: right;\">\n",
              "      <th></th>\n",
              "      <th>username</th>\n",
              "      <th>hours</th>\n",
              "      <th>product_id</th>\n",
              "      <th>total</th>\n",
              "      <th>play_game</th>\n",
              "      <th>mean_hour</th>\n",
              "      <th>std_hour</th>\n",
              "      <th>ranking</th>\n",
              "    </tr>\n",
              "  </thead>\n",
              "  <tbody>\n",
              "    <tr>\n",
              "      <th>0</th>\n",
              "      <td>Chaos Syren</td>\n",
              "      <td>0.1</td>\n",
              "      <td>725280</td>\n",
              "      <td>0.1</td>\n",
              "      <td>1.000000</td>\n",
              "      <td>1.000000</td>\n",
              "      <td>0.000000</td>\n",
              "      <td>3.0</td>\n",
              "    </tr>\n",
              "    <tr>\n",
              "      <th>1</th>\n",
              "      <td>Teef 🐏</td>\n",
              "      <td>0.9</td>\n",
              "      <td>725280</td>\n",
              "      <td>20.6</td>\n",
              "      <td>0.043689</td>\n",
              "      <td>0.333333</td>\n",
              "      <td>0.531378</td>\n",
              "      <td>1.0</td>\n",
              "    </tr>\n",
              "    <tr>\n",
              "      <th>2</th>\n",
              "      <td>Ariman1</td>\n",
              "      <td>13.2</td>\n",
              "      <td>328100</td>\n",
              "      <td>19.1</td>\n",
              "      <td>0.691099</td>\n",
              "      <td>0.250000</td>\n",
              "      <td>0.300531</td>\n",
              "      <td>2.0</td>\n",
              "    </tr>\n",
              "    <tr>\n",
              "      <th>3</th>\n",
              "      <td>freakfantom</td>\n",
              "      <td>0.1</td>\n",
              "      <td>725280</td>\n",
              "      <td>0.1</td>\n",
              "      <td>1.000000</td>\n",
              "      <td>1.000000</td>\n",
              "      <td>0.000000</td>\n",
              "      <td>3.0</td>\n",
              "    </tr>\n",
              "    <tr>\n",
              "      <th>4</th>\n",
              "      <td>Kaelandros</td>\n",
              "      <td>1.5</td>\n",
              "      <td>328100</td>\n",
              "      <td>1.5</td>\n",
              "      <td>1.000000</td>\n",
              "      <td>1.000000</td>\n",
              "      <td>0.000000</td>\n",
              "      <td>3.0</td>\n",
              "    </tr>\n",
              "    <tr>\n",
              "      <th>5</th>\n",
              "      <td>The_Cpt_FROGGY</td>\n",
              "      <td>7.8</td>\n",
              "      <td>631920</td>\n",
              "      <td>152.1</td>\n",
              "      <td>0.051282</td>\n",
              "      <td>0.050000</td>\n",
              "      <td>0.020863</td>\n",
              "      <td>2.0</td>\n",
              "    </tr>\n",
              "    <tr>\n",
              "      <th>6</th>\n",
              "      <td>Myantro</td>\n",
              "      <td>8.8</td>\n",
              "      <td>431320</td>\n",
              "      <td>61.5</td>\n",
              "      <td>0.143089</td>\n",
              "      <td>0.125000</td>\n",
              "      <td>0.080171</td>\n",
              "      <td>2.0</td>\n",
              "    </tr>\n",
              "    <tr>\n",
              "      <th>7</th>\n",
              "      <td>S0YxSauCe</td>\n",
              "      <td>0.3</td>\n",
              "      <td>671270</td>\n",
              "      <td>39.1</td>\n",
              "      <td>0.007673</td>\n",
              "      <td>0.062500</td>\n",
              "      <td>0.051312</td>\n",
              "      <td>1.0</td>\n",
              "    </tr>\n",
              "    <tr>\n",
              "      <th>8</th>\n",
              "      <td>Vonder</td>\n",
              "      <td>2.7</td>\n",
              "      <td>35600</td>\n",
              "      <td>30.0</td>\n",
              "      <td>0.090000</td>\n",
              "      <td>0.333333</td>\n",
              "      <td>0.219570</td>\n",
              "      <td>1.0</td>\n",
              "    </tr>\n",
              "    <tr>\n",
              "      <th>9</th>\n",
              "      <td>GozerGozerian</td>\n",
              "      <td>1.1</td>\n",
              "      <td>448800</td>\n",
              "      <td>112.8</td>\n",
              "      <td>0.009752</td>\n",
              "      <td>0.166667</td>\n",
              "      <td>0.167442</td>\n",
              "      <td>1.0</td>\n",
              "    </tr>\n",
              "  </tbody>\n",
              "</table>\n",
              "</div>"
            ],
            "text/plain": [
              "         username  hours  product_id  ...  mean_hour  std_hour  ranking\n",
              "0     Chaos Syren    0.1      725280  ...   1.000000  0.000000      3.0\n",
              "1          Teef 🐏    0.9      725280  ...   0.333333  0.531378      1.0\n",
              "2         Ariman1   13.2      328100  ...   0.250000  0.300531      2.0\n",
              "3     freakfantom    0.1      725280  ...   1.000000  0.000000      3.0\n",
              "4      Kaelandros    1.5      328100  ...   1.000000  0.000000      3.0\n",
              "5  The_Cpt_FROGGY    7.8      631920  ...   0.050000  0.020863      2.0\n",
              "6         Myantro    8.8      431320  ...   0.125000  0.080171      2.0\n",
              "7       S0YxSauCe    0.3      671270  ...   0.062500  0.051312      1.0\n",
              "8          Vonder    2.7       35600  ...   0.333333  0.219570      1.0\n",
              "9   GozerGozerian    1.1      448800  ...   0.166667  0.167442      1.0\n",
              "\n",
              "[10 rows x 8 columns]"
            ]
          },
          "metadata": {
            "tags": []
          },
          "execution_count": 65
        }
      ]
    },
    {
      "cell_type": "markdown",
      "metadata": {
        "id": "ZHgr6MSxYYxT"
      },
      "source": [
        "Observemos como se distribuyen las calificaciones de los juegos."
      ]
    },
    {
      "cell_type": "code",
      "metadata": {
        "id": "GTQ8jUca0tQK",
        "colab": {
          "base_uri": "https://localhost:8080/"
        },
        "outputId": "850d790e-f077-4a88-8634-c39f541dfb86"
      },
      "source": [
        "reviws['ranking'].value_counts()"
      ],
      "execution_count": 66,
      "outputs": [
        {
          "output_type": "execute_result",
          "data": {
            "text/plain": [
              "3.0    293878\n",
              "1.0    108892\n",
              "2.0     66115\n",
              "Name: ranking, dtype: int64"
            ]
          },
          "metadata": {
            "tags": []
          },
          "execution_count": 66
        }
      ]
    },
    {
      "cell_type": "markdown",
      "metadata": {
        "id": "dId6CCMI2uRx"
      },
      "source": [
        "Ahora bien, antes de aplicar nuestro modelo, es muy recomendable que lidiemos con los outliers de horas jugadas, pues hay usuarios que para 2017 registran más horas jugadas que las horas que tiene el año. "
      ]
    },
    {
      "cell_type": "code",
      "metadata": {
        "id": "ed-GxKIc5ZuO",
        "colab": {
          "base_uri": "https://localhost:8080/"
        },
        "outputId": "e99ef7ef-bf0a-4ce4-ccb0-24eef384b9bd"
      },
      "source": [
        "maximo= 8760 # Las horas que contiene un año\n",
        "# Con el outlier minimo ya lidiamos al eliminar quienes tenian 0 horas jugadas.\n",
        "reviws= reviws.drop(reviws[reviws['total']>maximo].index)\n",
        "reviws.shape"
      ],
      "execution_count": 70,
      "outputs": [
        {
          "output_type": "execute_result",
          "data": {
            "text/plain": [
              "(467837, 8)"
            ]
          },
          "metadata": {
            "tags": []
          },
          "execution_count": 70
        }
      ]
    },
    {
      "cell_type": "code",
      "metadata": {
        "id": "0XBA4meSpaxU",
        "colab": {
          "base_uri": "https://localhost:8080/"
        },
        "outputId": "dac9ac1a-ef71-44c9-d9d9-c9b672800465"
      },
      "source": [
        "! pip install numpy\n",
        "! pip install scikit-surprise"
      ],
      "execution_count": 71,
      "outputs": [
        {
          "output_type": "stream",
          "text": [
            "Requirement already satisfied: numpy in /usr/local/lib/python3.6/dist-packages (1.18.5)\n",
            "Collecting scikit-surprise\n",
            "\u001b[?25l  Downloading https://files.pythonhosted.org/packages/97/37/5d334adaf5ddd65da99fc65f6507e0e4599d092ba048f4302fe8775619e8/scikit-surprise-1.1.1.tar.gz (11.8MB)\n",
            "\u001b[K     |████████████████████████████████| 11.8MB 5.2MB/s \n",
            "\u001b[?25hRequirement already satisfied: joblib>=0.11 in /usr/local/lib/python3.6/dist-packages (from scikit-surprise) (0.17.0)\n",
            "Requirement already satisfied: numpy>=1.11.2 in /usr/local/lib/python3.6/dist-packages (from scikit-surprise) (1.18.5)\n",
            "Requirement already satisfied: scipy>=1.0.0 in /usr/local/lib/python3.6/dist-packages (from scikit-surprise) (1.4.1)\n",
            "Requirement already satisfied: six>=1.10.0 in /usr/local/lib/python3.6/dist-packages (from scikit-surprise) (1.15.0)\n",
            "Building wheels for collected packages: scikit-surprise\n",
            "  Building wheel for scikit-surprise (setup.py) ... \u001b[?25l\u001b[?25hdone\n",
            "  Created wheel for scikit-surprise: filename=scikit_surprise-1.1.1-cp36-cp36m-linux_x86_64.whl size=1670934 sha256=66766d3fd119d44d85a40fa08497edbded55d63c3f238fb943b290d3efaa2796\n",
            "  Stored in directory: /root/.cache/pip/wheels/78/9c/3d/41b419c9d2aff5b6e2b4c0fc8d25c538202834058f9ed110d0\n",
            "Successfully built scikit-surprise\n",
            "Installing collected packages: scikit-surprise\n",
            "Successfully installed scikit-surprise-1.1.1\n"
          ],
          "name": "stdout"
        }
      ]
    },
    {
      "cell_type": "code",
      "metadata": {
        "id": "jEsxOUA-pbls"
      },
      "source": [
        "from surprise import Dataset\n",
        "from surprise import Reader\n",
        "from surprise.model_selection import train_test_split"
      ],
      "execution_count": 72,
      "outputs": []
    },
    {
      "cell_type": "code",
      "metadata": {
        "id": "ljrrBNyfKpdK"
      },
      "source": [
        "reader = Reader()"
      ],
      "execution_count": 73,
      "outputs": []
    },
    {
      "cell_type": "code",
      "metadata": {
        "id": "Fr0HuEvMKqCi"
      },
      "source": [
        "N_filas = len(reviws) # Limitamos el dataset a N_filas\n",
        "\n",
        "data = Dataset.load_from_df(reviws[['username', 'product_id', 'ranking']][:N_filas], reader)"
      ],
      "execution_count": 74,
      "outputs": []
    },
    {
      "cell_type": "code",
      "metadata": {
        "id": "9Uh5yUvWKp0N"
      },
      "source": [
        "trainset, testset = train_test_split(data, test_size=.25)"
      ],
      "execution_count": 75,
      "outputs": []
    },
    {
      "cell_type": "code",
      "metadata": {
        "id": "YVN75zMNKpBP"
      },
      "source": [
        "from surprise import SVD\n",
        "bench = SVD()"
      ],
      "execution_count": 76,
      "outputs": []
    },
    {
      "cell_type": "code",
      "metadata": {
        "id": "uzU_SV7GOK8P",
        "colab": {
          "base_uri": "https://localhost:8080/"
        },
        "outputId": "35a4ba0e-c7b1-4fbb-a86c-742e053e61f5"
      },
      "source": [
        "bench.fit(trainset)"
      ],
      "execution_count": 77,
      "outputs": [
        {
          "output_type": "execute_result",
          "data": {
            "text/plain": [
              "<surprise.prediction_algorithms.matrix_factorization.SVD at 0x7fc6fa52e9b0>"
            ]
          },
          "metadata": {
            "tags": []
          },
          "execution_count": 77
        }
      ]
    },
    {
      "cell_type": "code",
      "metadata": {
        "id": "fFSx6iJ2OO08"
      },
      "source": [
        "predictions_bench = bench.test(testset)"
      ],
      "execution_count": 78,
      "outputs": []
    },
    {
      "cell_type": "code",
      "metadata": {
        "id": "-i-hTLqlOUdE",
        "colab": {
          "base_uri": "https://localhost:8080/"
        },
        "outputId": "8c59cc21-1177-4c55-f21f-9a31d19934bd"
      },
      "source": [
        "predictions_bench[1]"
      ],
      "execution_count": 79,
      "outputs": [
        {
          "output_type": "execute_result",
          "data": {
            "text/plain": [
              "Prediction(uid='DJMonking', iid=304390, r_ui=3.0, est=2.848348576629117, details={'was_impossible': False})"
            ]
          },
          "metadata": {
            "tags": []
          },
          "execution_count": 79
        }
      ]
    },
    {
      "cell_type": "markdown",
      "metadata": {
        "id": "RjKIm3TLkGmN"
      },
      "source": [
        "Para predecir usuario escribimos el usuario y el id del juego en este caso, el usuario 'The_Cpt_FROGGY' con el juego Batman Arkham Asylum. Para este caso vemos que el modelo estima que el juego si será jugado por este usuario."
      ]
    },
    {
      "cell_type": "code",
      "metadata": {
        "id": "9U9yecj0OYI0",
        "colab": {
          "base_uri": "https://localhost:8080/"
        },
        "outputId": "1cd24ae4-8d33-4d47-cb19-9714863f6352"
      },
      "source": [
        "bench.predict('The_Cpt_FROGGY',35140)"
      ],
      "execution_count": 80,
      "outputs": [
        {
          "output_type": "execute_result",
          "data": {
            "text/plain": [
              "Prediction(uid='The_Cpt_FROGGY', iid=35140, r_ui=None, est=1.5795533555593377, details={'was_impossible': False})"
            ]
          },
          "metadata": {
            "tags": []
          },
          "execution_count": 80
        }
      ]
    },
    {
      "cell_type": "markdown",
      "metadata": {
        "id": "mLFCpBUNk5jQ"
      },
      "source": [
        "Los juegos que el anterior usuario prefirió o jugó por encima de la media fueron:"
      ]
    },
    {
      "cell_type": "code",
      "metadata": {
        "id": "tSQebfaUOdpJ",
        "colab": {
          "base_uri": "https://localhost:8080/",
          "height": 76
        },
        "outputId": "c8d1b1d9-904b-4fb7-88c6-6fbd186cf0ba"
      },
      "source": [
        "usuario = 'The_Cpt_FROGGY'\n",
        "ranking = 3   # Juegos jugados por encima del tiempo promedio\n",
        "df_user = reviws[(reviws['username'] == usuario) & (reviws['ranking'] == ranking)]\n",
        "df_user = df_user.reset_index(drop=True)\n",
        "#df_user['GAME_Name'] = data_games['app_name'].loc[reviws.product_id].values\n",
        "df_user"
      ],
      "execution_count": 81,
      "outputs": [
        {
          "output_type": "execute_result",
          "data": {
            "text/html": [
              "<div>\n",
              "<style scoped>\n",
              "    .dataframe tbody tr th:only-of-type {\n",
              "        vertical-align: middle;\n",
              "    }\n",
              "\n",
              "    .dataframe tbody tr th {\n",
              "        vertical-align: top;\n",
              "    }\n",
              "\n",
              "    .dataframe thead th {\n",
              "        text-align: right;\n",
              "    }\n",
              "</style>\n",
              "<table border=\"1\" class=\"dataframe\">\n",
              "  <thead>\n",
              "    <tr style=\"text-align: right;\">\n",
              "      <th></th>\n",
              "      <th>username</th>\n",
              "      <th>hours</th>\n",
              "      <th>product_id</th>\n",
              "      <th>total</th>\n",
              "      <th>play_game</th>\n",
              "      <th>mean_hour</th>\n",
              "      <th>std_hour</th>\n",
              "      <th>ranking</th>\n",
              "    </tr>\n",
              "  </thead>\n",
              "  <tbody>\n",
              "    <tr>\n",
              "      <th>0</th>\n",
              "      <td>The_Cpt_FROGGY</td>\n",
              "      <td>18.7</td>\n",
              "      <td>489520</td>\n",
              "      <td>152.1</td>\n",
              "      <td>0.122945</td>\n",
              "      <td>0.05</td>\n",
              "      <td>0.020863</td>\n",
              "      <td>3.0</td>\n",
              "    </tr>\n",
              "  </tbody>\n",
              "</table>\n",
              "</div>"
            ],
            "text/plain": [
              "         username  hours  product_id  ...  mean_hour  std_hour  ranking\n",
              "0  The_Cpt_FROGGY   18.7      489520  ...       0.05  0.020863      3.0\n",
              "\n",
              "[1 rows x 8 columns]"
            ]
          },
          "metadata": {
            "tags": []
          },
          "execution_count": 81
        }
      ]
    },
    {
      "cell_type": "code",
      "metadata": {
        "id": "CUu0nP8njdUL",
        "colab": {
          "base_uri": "https://localhost:8080/",
          "height": 207
        },
        "outputId": "62d97e6a-47f8-4f5e-e750-8bc5c39257d7"
      },
      "source": [
        "recomendaciones_usuario = games.iloc[:].copy()\n",
        "print(recomendaciones_usuario.shape)\n",
        "recomendaciones_usuario.head()"
      ],
      "execution_count": 82,
      "outputs": [
        {
          "output_type": "stream",
          "text": [
            "(32135, 2)\n"
          ],
          "name": "stdout"
        },
        {
          "output_type": "execute_result",
          "data": {
            "text/html": [
              "<div>\n",
              "<style scoped>\n",
              "    .dataframe tbody tr th:only-of-type {\n",
              "        vertical-align: middle;\n",
              "    }\n",
              "\n",
              "    .dataframe tbody tr th {\n",
              "        vertical-align: top;\n",
              "    }\n",
              "\n",
              "    .dataframe thead th {\n",
              "        text-align: right;\n",
              "    }\n",
              "</style>\n",
              "<table border=\"1\" class=\"dataframe\">\n",
              "  <thead>\n",
              "    <tr style=\"text-align: right;\">\n",
              "      <th></th>\n",
              "      <th>name</th>\n",
              "      <th>product_id</th>\n",
              "    </tr>\n",
              "  </thead>\n",
              "  <tbody>\n",
              "    <tr>\n",
              "      <th>0</th>\n",
              "      <td>Lost Summoner Kitty</td>\n",
              "      <td>761140.0</td>\n",
              "    </tr>\n",
              "    <tr>\n",
              "      <th>1</th>\n",
              "      <td>Ironbound</td>\n",
              "      <td>643980.0</td>\n",
              "    </tr>\n",
              "    <tr>\n",
              "      <th>2</th>\n",
              "      <td>Real Pool 3D - Poolians</td>\n",
              "      <td>670290.0</td>\n",
              "    </tr>\n",
              "    <tr>\n",
              "      <th>3</th>\n",
              "      <td>弹炸人2222</td>\n",
              "      <td>767400.0</td>\n",
              "    </tr>\n",
              "    <tr>\n",
              "      <th>4</th>\n",
              "      <td>Log Challenge</td>\n",
              "      <td>773570.0</td>\n",
              "    </tr>\n",
              "  </tbody>\n",
              "</table>\n",
              "</div>"
            ],
            "text/plain": [
              "                      name  product_id\n",
              "0      Lost Summoner Kitty    761140.0\n",
              "1                Ironbound    643980.0\n",
              "2  Real Pool 3D - Poolians    670290.0\n",
              "3                  弹炸人2222    767400.0\n",
              "4            Log Challenge    773570.0"
            ]
          },
          "metadata": {
            "tags": []
          },
          "execution_count": 82
        }
      ]
    },
    {
      "cell_type": "code",
      "metadata": {
        "id": "XNhsBn51jdet",
        "colab": {
          "base_uri": "https://localhost:8080/",
          "height": 207
        },
        "outputId": "9fa318a6-31d0-4fd9-821c-5da68206dd66"
      },
      "source": [
        "usuario_vistas = reviws[reviws['username'] == usuario]\n",
        "#usuario_vistas = usuario_vistas[['name','product_id']]\n",
        "print(usuario_vistas.shape)\n",
        "usuario_vistas.head()"
      ],
      "execution_count": 83,
      "outputs": [
        {
          "output_type": "stream",
          "text": [
            "(20, 8)\n"
          ],
          "name": "stdout"
        },
        {
          "output_type": "execute_result",
          "data": {
            "text/html": [
              "<div>\n",
              "<style scoped>\n",
              "    .dataframe tbody tr th:only-of-type {\n",
              "        vertical-align: middle;\n",
              "    }\n",
              "\n",
              "    .dataframe tbody tr th {\n",
              "        vertical-align: top;\n",
              "    }\n",
              "\n",
              "    .dataframe thead th {\n",
              "        text-align: right;\n",
              "    }\n",
              "</style>\n",
              "<table border=\"1\" class=\"dataframe\">\n",
              "  <thead>\n",
              "    <tr style=\"text-align: right;\">\n",
              "      <th></th>\n",
              "      <th>username</th>\n",
              "      <th>hours</th>\n",
              "      <th>product_id</th>\n",
              "      <th>total</th>\n",
              "      <th>play_game</th>\n",
              "      <th>mean_hour</th>\n",
              "      <th>std_hour</th>\n",
              "      <th>ranking</th>\n",
              "    </tr>\n",
              "  </thead>\n",
              "  <tbody>\n",
              "    <tr>\n",
              "      <th>5</th>\n",
              "      <td>The_Cpt_FROGGY</td>\n",
              "      <td>7.8</td>\n",
              "      <td>631920</td>\n",
              "      <td>152.1</td>\n",
              "      <td>0.051282</td>\n",
              "      <td>0.05</td>\n",
              "      <td>0.020863</td>\n",
              "      <td>2.0</td>\n",
              "    </tr>\n",
              "    <tr>\n",
              "      <th>1186</th>\n",
              "      <td>The_Cpt_FROGGY</td>\n",
              "      <td>7.3</td>\n",
              "      <td>482440</td>\n",
              "      <td>152.1</td>\n",
              "      <td>0.047995</td>\n",
              "      <td>0.05</td>\n",
              "      <td>0.020863</td>\n",
              "      <td>1.0</td>\n",
              "    </tr>\n",
              "    <tr>\n",
              "      <th>21768</th>\n",
              "      <td>The_Cpt_FROGGY</td>\n",
              "      <td>4.7</td>\n",
              "      <td>736860</td>\n",
              "      <td>152.1</td>\n",
              "      <td>0.030901</td>\n",
              "      <td>0.05</td>\n",
              "      <td>0.020863</td>\n",
              "      <td>1.0</td>\n",
              "    </tr>\n",
              "    <tr>\n",
              "      <th>27042</th>\n",
              "      <td>The_Cpt_FROGGY</td>\n",
              "      <td>8.3</td>\n",
              "      <td>493540</td>\n",
              "      <td>152.1</td>\n",
              "      <td>0.054569</td>\n",
              "      <td>0.05</td>\n",
              "      <td>0.020863</td>\n",
              "      <td>2.0</td>\n",
              "    </tr>\n",
              "    <tr>\n",
              "      <th>33298</th>\n",
              "      <td>The_Cpt_FROGGY</td>\n",
              "      <td>10.1</td>\n",
              "      <td>572520</td>\n",
              "      <td>152.1</td>\n",
              "      <td>0.066404</td>\n",
              "      <td>0.05</td>\n",
              "      <td>0.020863</td>\n",
              "      <td>2.0</td>\n",
              "    </tr>\n",
              "  </tbody>\n",
              "</table>\n",
              "</div>"
            ],
            "text/plain": [
              "             username  hours  product_id  ...  mean_hour  std_hour  ranking\n",
              "5      The_Cpt_FROGGY    7.8      631920  ...       0.05  0.020863      2.0\n",
              "1186   The_Cpt_FROGGY    7.3      482440  ...       0.05  0.020863      1.0\n",
              "21768  The_Cpt_FROGGY    4.7      736860  ...       0.05  0.020863      1.0\n",
              "27042  The_Cpt_FROGGY    8.3      493540  ...       0.05  0.020863      2.0\n",
              "33298  The_Cpt_FROGGY   10.1      572520  ...       0.05  0.020863      2.0\n",
              "\n",
              "[5 rows x 8 columns]"
            ]
          },
          "metadata": {
            "tags": []
          },
          "execution_count": 83
        }
      ]
    },
    {
      "cell_type": "code",
      "metadata": {
        "id": "j7ljRhw5jdGZ",
        "colab": {
          "base_uri": "https://localhost:8080/",
          "height": 191
        },
        "outputId": "dfb41ff4-9984-41ed-b9ed-8465fbdd05b4"
      },
      "source": [
        "#recomendaciones_usuario = pd.concat([usu, df1, df1]).drop_duplicates(keep=False)\n",
        "recomendaciones_usuario.drop(usuario_vistas.product_id, inplace = True,errors='ignore')\n",
        "recomendaciones_usuario = recomendaciones_usuario.reset_index()\n",
        "recomendaciones_usuario.head()"
      ],
      "execution_count": 84,
      "outputs": [
        {
          "output_type": "execute_result",
          "data": {
            "text/html": [
              "<div>\n",
              "<style scoped>\n",
              "    .dataframe tbody tr th:only-of-type {\n",
              "        vertical-align: middle;\n",
              "    }\n",
              "\n",
              "    .dataframe tbody tr th {\n",
              "        vertical-align: top;\n",
              "    }\n",
              "\n",
              "    .dataframe thead th {\n",
              "        text-align: right;\n",
              "    }\n",
              "</style>\n",
              "<table border=\"1\" class=\"dataframe\">\n",
              "  <thead>\n",
              "    <tr style=\"text-align: right;\">\n",
              "      <th></th>\n",
              "      <th>index</th>\n",
              "      <th>name</th>\n",
              "      <th>product_id</th>\n",
              "    </tr>\n",
              "  </thead>\n",
              "  <tbody>\n",
              "    <tr>\n",
              "      <th>0</th>\n",
              "      <td>0</td>\n",
              "      <td>Lost Summoner Kitty</td>\n",
              "      <td>761140.0</td>\n",
              "    </tr>\n",
              "    <tr>\n",
              "      <th>1</th>\n",
              "      <td>1</td>\n",
              "      <td>Ironbound</td>\n",
              "      <td>643980.0</td>\n",
              "    </tr>\n",
              "    <tr>\n",
              "      <th>2</th>\n",
              "      <td>2</td>\n",
              "      <td>Real Pool 3D - Poolians</td>\n",
              "      <td>670290.0</td>\n",
              "    </tr>\n",
              "    <tr>\n",
              "      <th>3</th>\n",
              "      <td>3</td>\n",
              "      <td>弹炸人2222</td>\n",
              "      <td>767400.0</td>\n",
              "    </tr>\n",
              "    <tr>\n",
              "      <th>4</th>\n",
              "      <td>4</td>\n",
              "      <td>Log Challenge</td>\n",
              "      <td>773570.0</td>\n",
              "    </tr>\n",
              "  </tbody>\n",
              "</table>\n",
              "</div>"
            ],
            "text/plain": [
              "   index                     name  product_id\n",
              "0      0      Lost Summoner Kitty    761140.0\n",
              "1      1                Ironbound    643980.0\n",
              "2      2  Real Pool 3D - Poolians    670290.0\n",
              "3      3                  弹炸人2222    767400.0\n",
              "4      4            Log Challenge    773570.0"
            ]
          },
          "metadata": {
            "tags": []
          },
          "execution_count": 84
        }
      ]
    },
    {
      "cell_type": "code",
      "metadata": {
        "id": "GuQ3l1xuQdj5",
        "colab": {
          "base_uri": "https://localhost:8080/"
        },
        "outputId": "83e416e5-12f5-43bd-a011-0a7d22b0a72a"
      },
      "source": [
        "len(recomendaciones_usuario) "
      ],
      "execution_count": 85,
      "outputs": [
        {
          "output_type": "execute_result",
          "data": {
            "text/plain": [
              "32135"
            ]
          },
          "metadata": {
            "tags": []
          },
          "execution_count": 85
        }
      ]
    },
    {
      "cell_type": "markdown",
      "metadata": {
        "id": "BBgaThT04El0"
      },
      "source": [
        "Se realiza la recomendación."
      ]
    },
    {
      "cell_type": "code",
      "metadata": {
        "id": "dDxC5p6z3a0r"
      },
      "source": [
        "recomendaciones_usuario['Estimate_Score'] = recomendaciones_usuario['product_id'].apply(lambda x: bench.predict(usuario, x).est)"
      ],
      "execution_count": 157,
      "outputs": []
    },
    {
      "cell_type": "code",
      "metadata": {
        "id": "58-BPClg4bAj",
        "colab": {
          "base_uri": "https://localhost:8080/",
          "height": 335
        },
        "outputId": "2250239f-ccf0-4048-fcd9-42d1b3c38c71"
      },
      "source": [
        "recomendaciones_usuario = recomendaciones_usuario.sort_values('Estimate_Score', ascending=False)\n",
        "recomendaciones_usuario.head(10)"
      ],
      "execution_count": 158,
      "outputs": [
        {
          "output_type": "execute_result",
          "data": {
            "text/html": [
              "<div>\n",
              "<style scoped>\n",
              "    .dataframe tbody tr th:only-of-type {\n",
              "        vertical-align: middle;\n",
              "    }\n",
              "\n",
              "    .dataframe tbody tr th {\n",
              "        vertical-align: top;\n",
              "    }\n",
              "\n",
              "    .dataframe thead th {\n",
              "        text-align: right;\n",
              "    }\n",
              "</style>\n",
              "<table border=\"1\" class=\"dataframe\">\n",
              "  <thead>\n",
              "    <tr style=\"text-align: right;\">\n",
              "      <th></th>\n",
              "      <th>level_0</th>\n",
              "      <th>index</th>\n",
              "      <th>name</th>\n",
              "      <th>product_id</th>\n",
              "      <th>Estimate_Score</th>\n",
              "    </tr>\n",
              "  </thead>\n",
              "  <tbody>\n",
              "    <tr>\n",
              "      <th>441</th>\n",
              "      <td>7260</td>\n",
              "      <td>7260</td>\n",
              "      <td>Paladins®</td>\n",
              "      <td>444090.0</td>\n",
              "      <td>2.400765</td>\n",
              "    </tr>\n",
              "    <tr>\n",
              "      <th>182</th>\n",
              "      <td>23937</td>\n",
              "      <td>23937</td>\n",
              "      <td>Lost Lands: Mahjong</td>\n",
              "      <td>435030.0</td>\n",
              "      <td>2.372354</td>\n",
              "    </tr>\n",
              "    <tr>\n",
              "      <th>8</th>\n",
              "      <td>5199</td>\n",
              "      <td>5199</td>\n",
              "      <td>Knight Online</td>\n",
              "      <td>389430.0</td>\n",
              "      <td>2.355085</td>\n",
              "    </tr>\n",
              "    <tr>\n",
              "      <th>34</th>\n",
              "      <td>8933</td>\n",
              "      <td>8933</td>\n",
              "      <td>Dungeon Painter Studio</td>\n",
              "      <td>592260.0</td>\n",
              "      <td>2.345154</td>\n",
              "    </tr>\n",
              "    <tr>\n",
              "      <th>41</th>\n",
              "      <td>15618</td>\n",
              "      <td>15618</td>\n",
              "      <td>Divinity: Original Sin 2</td>\n",
              "      <td>435150.0</td>\n",
              "      <td>2.305529</td>\n",
              "    </tr>\n",
              "    <tr>\n",
              "      <th>757</th>\n",
              "      <td>24356</td>\n",
              "      <td>24356</td>\n",
              "      <td>Naval Action</td>\n",
              "      <td>311310.0</td>\n",
              "      <td>2.293678</td>\n",
              "    </tr>\n",
              "    <tr>\n",
              "      <th>13</th>\n",
              "      <td>17150</td>\n",
              "      <td>17150</td>\n",
              "      <td>Kemono Friends</td>\n",
              "      <td>653320.0</td>\n",
              "      <td>2.292217</td>\n",
              "    </tr>\n",
              "    <tr>\n",
              "      <th>129</th>\n",
              "      <td>3625</td>\n",
              "      <td>3625</td>\n",
              "      <td>TERA</td>\n",
              "      <td>323370.0</td>\n",
              "      <td>2.285783</td>\n",
              "    </tr>\n",
              "    <tr>\n",
              "      <th>3835</th>\n",
              "      <td>29692</td>\n",
              "      <td>29692</td>\n",
              "      <td>Rust</td>\n",
              "      <td>252490.0</td>\n",
              "      <td>2.281984</td>\n",
              "    </tr>\n",
              "    <tr>\n",
              "      <th>35</th>\n",
              "      <td>7318</td>\n",
              "      <td>7318</td>\n",
              "      <td>hackmud</td>\n",
              "      <td>469920.0</td>\n",
              "      <td>2.278154</td>\n",
              "    </tr>\n",
              "  </tbody>\n",
              "</table>\n",
              "</div>"
            ],
            "text/plain": [
              "      level_0  index                      name  product_id  Estimate_Score\n",
              "441      7260   7260                 Paladins®    444090.0        2.400765\n",
              "182     23937  23937       Lost Lands: Mahjong    435030.0        2.372354\n",
              "8        5199   5199             Knight Online    389430.0        2.355085\n",
              "34       8933   8933    Dungeon Painter Studio    592260.0        2.345154\n",
              "41      15618  15618  Divinity: Original Sin 2    435150.0        2.305529\n",
              "757     24356  24356              Naval Action    311310.0        2.293678\n",
              "13      17150  17150            Kemono Friends    653320.0        2.292217\n",
              "129      3625   3625                      TERA    323370.0        2.285783\n",
              "3835    29692  29692                      Rust    252490.0        2.281984\n",
              "35       7318   7318                   hackmud    469920.0        2.278154"
            ]
          },
          "metadata": {
            "tags": []
          },
          "execution_count": 158
        }
      ]
    },
    {
      "cell_type": "code",
      "metadata": {
        "colab": {
          "base_uri": "https://localhost:8080/",
          "height": 373
        },
        "id": "mWGgRZ2s3vGF",
        "outputId": "155f0bf5-496e-45ed-fb9d-31aca7fc5b67"
      },
      "source": [
        "plt.figure(figsize=(10,6))\n",
        "plt.hist(recomendaciones_usuario.Estimate_Score,bins=5)\n",
        "plt.yscale('log')\n",
        "plt.show()"
      ],
      "execution_count": 159,
      "outputs": [
        {
          "output_type": "display_data",
          "data": {
            "image/png": "[encoded data removed]",
            "text/plain": [
              "<Figure size 720x432 with 1 Axes>"
            ]
          },
          "metadata": {
            "tags": [],
            "needs_background": "light"
          }
        }
      ]
    },
    {
      "cell_type": "code",
      "metadata": {
        "id": "Nr9XW3v84l99",
        "colab": {
          "base_uri": "https://localhost:8080/"
        },
        "outputId": "88b43e96-8e02-4b07-d3fd-fd0268e6b523"
      },
      "source": [
        "recomendaciones_usuario.Estimate_Score.value_counts(bins=5,sort=False)"
      ],
      "execution_count": 160,
      "outputs": [
        {
          "output_type": "execute_result",
          "data": {
            "text/plain": [
              "(0.998, 1.28]       152\n",
              "(1.28, 1.56]       2151\n",
              "(1.56, 1.84]      27717\n",
              "(1.84, 2.121]      2018\n",
              "(2.121, 2.401]       97\n",
              "Name: Estimate_Score, dtype: int64"
            ]
          },
          "metadata": {
            "tags": []
          },
          "execution_count": 160
        }
      ]
    },
    {
      "cell_type": "markdown",
      "metadata": {
        "id": "xW74C-eIuUoT"
      },
      "source": [
        "El modelo de benchmark nos arroja en los resultados la mayoría de los datos como juegos por debajo de 2, es decir, juegos que no se recomendarían al usuario. Por otro lado no llega a recomendar productos con una predicción de 3. La recomendación, en este caso, sería de los valores superiores a 2, que son los juegos que el usuario jugaría constantemente.\n",
        "\n",
        "Ahora bien, veamos como se comporta el modelo con un usuario que solo posee un producto:"
      ]
    },
    {
      "cell_type": "code",
      "metadata": {
        "colab": {
          "base_uri": "https://localhost:8080/",
          "height": 373
        },
        "id": "MgWYxM9f8t5b",
        "outputId": "bdfa7af3-ba08-4a38-ac61-bed4027cb004"
      },
      "source": [
        "usuario1_5 = 'Kaelandros'\n",
        "ranking = 3   # Juegos jugados por encima del tiempo promedio\n",
        "df_user = reviws[(reviws['username'] == usuario1_5) & (reviws['ranking'] >= ranking)]\n",
        "df_user = df_user2.reset_index(drop=True)\n",
        "usuario_vistas = reviws[reviws['username'] == usuario1_5]\n",
        "recomendaciones_usuario.drop(usuario_vistas.product_id, inplace = True,errors='ignore')\n",
        "\n",
        "recomendaciones_usuario['Estimate_Score'] = recomendaciones_usuario['product_id'].apply(lambda x: bench.predict(usuario1_5, x).est)\n",
        "recomendaciones_usuario = recomendaciones_usuario.sort_values('Estimate_Score', ascending=False)\n",
        "\n",
        "plt.figure(figsize=(10,6))\n",
        "plt.hist(recomendaciones_usuario.Estimate_Score,bins=6)\n",
        "plt.yscale('log')\n",
        "plt.show()"
      ],
      "execution_count": 162,
      "outputs": [
        {
          "output_type": "display_data",
          "data": {
            "image/png": "[encoded data removed]",
            "text/plain": [
              "<Figure size 720x432 with 1 Axes>"
            ]
          },
          "metadata": {
            "tags": [],
            "needs_background": "light"
          }
        }
      ]
    },
    {
      "cell_type": "code",
      "metadata": {
        "colab": {
          "base_uri": "https://localhost:8080/"
        },
        "id": "n7H-5VHp9af0",
        "outputId": "9722767e-5fd9-43fc-e520-c8203239d0ca"
      },
      "source": [
        "recomendaciones_usuario.Estimate_Score.value_counts(bins=6,sort=False)"
      ],
      "execution_count": 163,
      "outputs": [
        {
          "output_type": "execute_result",
          "data": {
            "text/plain": [
              "(1.624, 1.873]       43\n",
              "(1.873, 2.119]      620\n",
              "(2.119, 2.365]     3684\n",
              "(2.365, 2.61]     26469\n",
              "(2.61, 2.856]      1230\n",
              "(2.856, 3.102]       89\n",
              "Name: Estimate_Score, dtype: int64"
            ]
          },
          "metadata": {
            "tags": []
          },
          "execution_count": 163
        }
      ]
    },
    {
      "cell_type": "markdown",
      "metadata": {
        "id": "CBuxrIrE9r-8"
      },
      "source": [
        "El modelo concentra los datos por encima del valor 2 (juegos jugados en promedio) y llega a predecir valores con nota 3. Para este usuario partícular se pueden recomendar los valores superiores a 3. \n",
        "Claramente los datos sugieren, por otro lado, que al usuario tener solo un producto, tiene mayor probabilidad de \"enganche\" con más productos, pues le es imposible saber al modelo que no le gusta mas que por similaridades con otros usuarios. "
      ]
    },
    {
      "cell_type": "markdown",
      "metadata": {
        "id": "0a__t1NV5Mr4"
      },
      "source": [
        "##Error del modelo benchmark"
      ]
    },
    {
      "cell_type": "code",
      "metadata": {
        "id": "UWv4SWASJSg8"
      },
      "source": [
        "from surprise import accuracy"
      ],
      "execution_count": 90,
      "outputs": []
    },
    {
      "cell_type": "code",
      "metadata": {
        "id": "l83iS5fC4-bm",
        "colab": {
          "base_uri": "https://localhost:8080/"
        },
        "outputId": "67693dd2-481b-4661-cafa-219ed171a875"
      },
      "source": [
        "accuracy.rmse(predictions_bench, verbose=True)"
      ],
      "execution_count": 91,
      "outputs": [
        {
          "output_type": "stream",
          "text": [
            "RMSE: 0.7492\n"
          ],
          "name": "stdout"
        },
        {
          "output_type": "execute_result",
          "data": {
            "text/plain": [
              "0.7491665287451655"
            ]
          },
          "metadata": {
            "tags": []
          },
          "execution_count": 91
        }
      ]
    },
    {
      "cell_type": "markdown",
      "metadata": {
        "id": "MmPSZzFbu-mQ"
      },
      "source": [
        "Ahora bien, se deben contrastar los anteriores resultados con la medida del error RMSE de 0.74 que quiere decir que nuestros puntajes estan casi media unidad por arriba o por debajo de su calificación ideal. Esto hace los resultados poco alentadores, al menos por ahora, pues al tener una escala tan pequeña de calificación (de uno a tres) este error es mucho más significativo que si estubieramos calificando de 1 a 100. "
      ]
    },
    {
      "cell_type": "markdown",
      "metadata": {
        "id": "c0PtfS5RNosl"
      },
      "source": [
        "#Modelo SVD optimizado"
      ]
    },
    {
      "cell_type": "markdown",
      "metadata": {
        "id": "Qt142V7NUSjk"
      },
      "source": [
        "Para mejorar el modelo iniciemos tratando nuevamente nuestra data."
      ]
    },
    {
      "cell_type": "code",
      "metadata": {
        "id": "M_mZNMruUZGG",
        "colab": {
          "base_uri": "https://localhost:8080/",
          "height": 191
        },
        "outputId": "c4fbe273-40c7-403b-9656-ee464db45cd3"
      },
      "source": [
        "reviws2 = pd.read_csv('reviws.csv')\n",
        "reviws2['hours'] = pd.to_numeric(reviws2['hours'])\n",
        "reviws2 = reviws2.drop_duplicates()\n",
        "reviws2 = reviws2.dropna()\n",
        "gr2 = reviws2.groupby(['username'])\n",
        "total2 = pd.DataFrame(gr2['hours'].sum())\n",
        "reviws2['total']=total2\n",
        "reviws2['total'].fillna(gr2.hours.transform(\"sum\"),inplace=True)\n",
        "reviws2['play_game']= reviws2['hours']/reviws2['total']\n",
        "\n",
        "reviws2.head()"
      ],
      "execution_count": 116,
      "outputs": [
        {
          "output_type": "execute_result",
          "data": {
            "text/html": [
              "<div>\n",
              "<style scoped>\n",
              "    .dataframe tbody tr th:only-of-type {\n",
              "        vertical-align: middle;\n",
              "    }\n",
              "\n",
              "    .dataframe tbody tr th {\n",
              "        vertical-align: top;\n",
              "    }\n",
              "\n",
              "    .dataframe thead th {\n",
              "        text-align: right;\n",
              "    }\n",
              "</style>\n",
              "<table border=\"1\" class=\"dataframe\">\n",
              "  <thead>\n",
              "    <tr style=\"text-align: right;\">\n",
              "      <th></th>\n",
              "      <th>username</th>\n",
              "      <th>hours</th>\n",
              "      <th>product_id</th>\n",
              "      <th>total</th>\n",
              "      <th>play_game</th>\n",
              "    </tr>\n",
              "  </thead>\n",
              "  <tbody>\n",
              "    <tr>\n",
              "      <th>0</th>\n",
              "      <td>Chaos Syren</td>\n",
              "      <td>0.1</td>\n",
              "      <td>725280</td>\n",
              "      <td>0.1</td>\n",
              "      <td>1.000000</td>\n",
              "    </tr>\n",
              "    <tr>\n",
              "      <th>1</th>\n",
              "      <td>Teef 🐏</td>\n",
              "      <td>0.9</td>\n",
              "      <td>725280</td>\n",
              "      <td>20.6</td>\n",
              "      <td>0.043689</td>\n",
              "    </tr>\n",
              "    <tr>\n",
              "      <th>2</th>\n",
              "      <td>Ariman1</td>\n",
              "      <td>13.2</td>\n",
              "      <td>328100</td>\n",
              "      <td>19.1</td>\n",
              "      <td>0.691099</td>\n",
              "    </tr>\n",
              "    <tr>\n",
              "      <th>3</th>\n",
              "      <td>freakfantom</td>\n",
              "      <td>0.1</td>\n",
              "      <td>725280</td>\n",
              "      <td>0.1</td>\n",
              "      <td>1.000000</td>\n",
              "    </tr>\n",
              "    <tr>\n",
              "      <th>4</th>\n",
              "      <td>Kaelandros</td>\n",
              "      <td>1.5</td>\n",
              "      <td>328100</td>\n",
              "      <td>1.5</td>\n",
              "      <td>1.000000</td>\n",
              "    </tr>\n",
              "  </tbody>\n",
              "</table>\n",
              "</div>"
            ],
            "text/plain": [
              "      username  hours  product_id  total  play_game\n",
              "0  Chaos Syren    0.1      725280    0.1   1.000000\n",
              "1       Teef 🐏    0.9      725280   20.6   0.043689\n",
              "2      Ariman1   13.2      328100   19.1   0.691099\n",
              "3  freakfantom    0.1      725280    0.1   1.000000\n",
              "4   Kaelandros    1.5      328100    1.5   1.000000"
            ]
          },
          "metadata": {
            "tags": []
          },
          "execution_count": 116
        }
      ]
    },
    {
      "cell_type": "markdown",
      "metadata": {
        "id": "T1ifgqEha51y"
      },
      "source": [
        "Eliminamos outliers."
      ]
    },
    {
      "cell_type": "code",
      "metadata": {
        "id": "Bm1QWNoj7UiB",
        "colab": {
          "base_uri": "https://localhost:8080/"
        },
        "outputId": "26a8adf6-5e18-4cea-dc9d-fc7f1aac2793"
      },
      "source": [
        "maximo= 8760 # Las horas que contiene un año\n",
        "# Con el outlier minimo ya lidiamos al eliminar quienes tenian 0 horas jugadas.\n",
        "reviws= reviws.drop(reviws[reviws['total']>maximo].index)\n",
        "#reviws= reviws.drop(reviws[reviws['total']<minimo].index)\n",
        "reviws.shape"
      ],
      "execution_count": 117,
      "outputs": [
        {
          "output_type": "execute_result",
          "data": {
            "text/plain": [
              "(467837, 8)"
            ]
          },
          "metadata": {
            "tags": []
          },
          "execution_count": 117
        }
      ]
    },
    {
      "cell_type": "markdown",
      "metadata": {
        "id": "eZXsSBkQa9ZD"
      },
      "source": [
        "Sacamos la división estandar para luego generar nuestros rankings"
      ]
    },
    {
      "cell_type": "code",
      "metadata": {
        "id": "XyneI0d5WVvH",
        "colab": {
          "base_uri": "https://localhost:8080/",
          "height": 191
        },
        "outputId": "dbefdca0-0011-4a87-b043-8550844ecdc8"
      },
      "source": [
        "reviws2.loc[:,'mean_hour']= np.nan\n",
        "reviws2.loc[:,'mean_hour'].fillna(gr2.play_game.transform(\"mean\"),inplace=True)\n",
        "reviws2.loc[:,'std_hour'] = np.nan\n",
        "reviws2.loc[:,'std_hour'].fillna(gr2.play_game.transform('std'),inplace=True)\n",
        "reviws2.head()"
      ],
      "execution_count": 118,
      "outputs": [
        {
          "output_type": "execute_result",
          "data": {
            "text/html": [
              "<div>\n",
              "<style scoped>\n",
              "    .dataframe tbody tr th:only-of-type {\n",
              "        vertical-align: middle;\n",
              "    }\n",
              "\n",
              "    .dataframe tbody tr th {\n",
              "        vertical-align: top;\n",
              "    }\n",
              "\n",
              "    .dataframe thead th {\n",
              "        text-align: right;\n",
              "    }\n",
              "</style>\n",
              "<table border=\"1\" class=\"dataframe\">\n",
              "  <thead>\n",
              "    <tr style=\"text-align: right;\">\n",
              "      <th></th>\n",
              "      <th>username</th>\n",
              "      <th>hours</th>\n",
              "      <th>product_id</th>\n",
              "      <th>total</th>\n",
              "      <th>play_game</th>\n",
              "      <th>mean_hour</th>\n",
              "      <th>std_hour</th>\n",
              "    </tr>\n",
              "  </thead>\n",
              "  <tbody>\n",
              "    <tr>\n",
              "      <th>0</th>\n",
              "      <td>Chaos Syren</td>\n",
              "      <td>0.1</td>\n",
              "      <td>725280</td>\n",
              "      <td>0.1</td>\n",
              "      <td>1.000000</td>\n",
              "      <td>1.000000</td>\n",
              "      <td>NaN</td>\n",
              "    </tr>\n",
              "    <tr>\n",
              "      <th>1</th>\n",
              "      <td>Teef 🐏</td>\n",
              "      <td>0.9</td>\n",
              "      <td>725280</td>\n",
              "      <td>20.6</td>\n",
              "      <td>0.043689</td>\n",
              "      <td>0.333333</td>\n",
              "      <td>0.531378</td>\n",
              "    </tr>\n",
              "    <tr>\n",
              "      <th>2</th>\n",
              "      <td>Ariman1</td>\n",
              "      <td>13.2</td>\n",
              "      <td>328100</td>\n",
              "      <td>19.1</td>\n",
              "      <td>0.691099</td>\n",
              "      <td>0.250000</td>\n",
              "      <td>0.300531</td>\n",
              "    </tr>\n",
              "    <tr>\n",
              "      <th>3</th>\n",
              "      <td>freakfantom</td>\n",
              "      <td>0.1</td>\n",
              "      <td>725280</td>\n",
              "      <td>0.1</td>\n",
              "      <td>1.000000</td>\n",
              "      <td>1.000000</td>\n",
              "      <td>NaN</td>\n",
              "    </tr>\n",
              "    <tr>\n",
              "      <th>4</th>\n",
              "      <td>Kaelandros</td>\n",
              "      <td>1.5</td>\n",
              "      <td>328100</td>\n",
              "      <td>1.5</td>\n",
              "      <td>1.000000</td>\n",
              "      <td>1.000000</td>\n",
              "      <td>NaN</td>\n",
              "    </tr>\n",
              "  </tbody>\n",
              "</table>\n",
              "</div>"
            ],
            "text/plain": [
              "      username  hours  product_id  total  play_game  mean_hour  std_hour\n",
              "0  Chaos Syren    0.1      725280    0.1   1.000000   1.000000       NaN\n",
              "1       Teef 🐏    0.9      725280   20.6   0.043689   0.333333  0.531378\n",
              "2      Ariman1   13.2      328100   19.1   0.691099   0.250000  0.300531\n",
              "3  freakfantom    0.1      725280    0.1   1.000000   1.000000       NaN\n",
              "4   Kaelandros    1.5      328100    1.5   1.000000   1.000000       NaN"
            ]
          },
          "metadata": {
            "tags": []
          },
          "execution_count": 118
        }
      ]
    },
    {
      "cell_type": "markdown",
      "metadata": {
        "id": "s16al6Pka0Tg"
      },
      "source": [
        "Nuevamente, cambiamos los valores NAN por 0."
      ]
    },
    {
      "cell_type": "code",
      "metadata": {
        "id": "K_-j8KgaWsiO"
      },
      "source": [
        "reviws2 = reviws2.fillna(0)"
      ],
      "execution_count": 119,
      "outputs": []
    },
    {
      "cell_type": "markdown",
      "metadata": {
        "id": "wdXo985CbEx-"
      },
      "source": [
        "Ahora generamos nuestros puntajes de 1 a 5, siendo 1 un juego poco jugado y 5 un juego al que se le dedica mucho tiempo."
      ]
    },
    {
      "cell_type": "code",
      "metadata": {
        "id": "7YdVOoT7Nkp-",
        "colab": {
          "base_uri": "https://localhost:8080/",
          "height": 335
        },
        "outputId": "49ad7181-ef07-4585-8ad9-784623c6c613"
      },
      "source": [
        "puntaje_5 =  reviws2.loc[:,'play_game'] >= reviws2.loc[:,'mean_hour'] + 2*reviws2.loc[:,'std_hour']\n",
        "puntaje_4 =  reviws2.loc[:,'play_game'] >= reviws2.loc[:,'mean_hour'] + 1.5*reviws2.loc[:,'std_hour']\n",
        "puntaje_3 =   reviws2.loc[:,'play_game'] >= reviws2.loc[:,'mean_hour'] + reviws2.loc[:,'std_hour']\n",
        "puntaje_2 = reviws2.loc[:,'play_game'] >= reviws2.loc[:,'mean_hour'] \n",
        "puntaje_1 =   reviws2.loc[:,'play_game'] < reviws2.loc[:,'mean_hour']        \n",
        "conditions  = [ puntaje_5,puntaje_4,puntaje_3,puntaje_2,puntaje_1 ]\n",
        "choices     = [ 5,4,3,2,1 ]\n",
        "\n",
        "reviws2.loc[:,'ranking'] = np.select(conditions, choices, default=np.nan)\n",
        "reviws2.head(10)"
      ],
      "execution_count": 120,
      "outputs": [
        {
          "output_type": "execute_result",
          "data": {
            "text/html": [
              "<div>\n",
              "<style scoped>\n",
              "    .dataframe tbody tr th:only-of-type {\n",
              "        vertical-align: middle;\n",
              "    }\n",
              "\n",
              "    .dataframe tbody tr th {\n",
              "        vertical-align: top;\n",
              "    }\n",
              "\n",
              "    .dataframe thead th {\n",
              "        text-align: right;\n",
              "    }\n",
              "</style>\n",
              "<table border=\"1\" class=\"dataframe\">\n",
              "  <thead>\n",
              "    <tr style=\"text-align: right;\">\n",
              "      <th></th>\n",
              "      <th>username</th>\n",
              "      <th>hours</th>\n",
              "      <th>product_id</th>\n",
              "      <th>total</th>\n",
              "      <th>play_game</th>\n",
              "      <th>mean_hour</th>\n",
              "      <th>std_hour</th>\n",
              "      <th>ranking</th>\n",
              "    </tr>\n",
              "  </thead>\n",
              "  <tbody>\n",
              "    <tr>\n",
              "      <th>0</th>\n",
              "      <td>Chaos Syren</td>\n",
              "      <td>0.1</td>\n",
              "      <td>725280</td>\n",
              "      <td>0.1</td>\n",
              "      <td>1.000000</td>\n",
              "      <td>1.000000</td>\n",
              "      <td>0.000000</td>\n",
              "      <td>5.0</td>\n",
              "    </tr>\n",
              "    <tr>\n",
              "      <th>1</th>\n",
              "      <td>Teef 🐏</td>\n",
              "      <td>0.9</td>\n",
              "      <td>725280</td>\n",
              "      <td>20.6</td>\n",
              "      <td>0.043689</td>\n",
              "      <td>0.333333</td>\n",
              "      <td>0.531378</td>\n",
              "      <td>1.0</td>\n",
              "    </tr>\n",
              "    <tr>\n",
              "      <th>2</th>\n",
              "      <td>Ariman1</td>\n",
              "      <td>13.2</td>\n",
              "      <td>328100</td>\n",
              "      <td>19.1</td>\n",
              "      <td>0.691099</td>\n",
              "      <td>0.250000</td>\n",
              "      <td>0.300531</td>\n",
              "      <td>3.0</td>\n",
              "    </tr>\n",
              "    <tr>\n",
              "      <th>3</th>\n",
              "      <td>freakfantom</td>\n",
              "      <td>0.1</td>\n",
              "      <td>725280</td>\n",
              "      <td>0.1</td>\n",
              "      <td>1.000000</td>\n",
              "      <td>1.000000</td>\n",
              "      <td>0.000000</td>\n",
              "      <td>5.0</td>\n",
              "    </tr>\n",
              "    <tr>\n",
              "      <th>4</th>\n",
              "      <td>Kaelandros</td>\n",
              "      <td>1.5</td>\n",
              "      <td>328100</td>\n",
              "      <td>1.5</td>\n",
              "      <td>1.000000</td>\n",
              "      <td>1.000000</td>\n",
              "      <td>0.000000</td>\n",
              "      <td>5.0</td>\n",
              "    </tr>\n",
              "    <tr>\n",
              "      <th>5</th>\n",
              "      <td>The_Cpt_FROGGY</td>\n",
              "      <td>7.8</td>\n",
              "      <td>631920</td>\n",
              "      <td>152.1</td>\n",
              "      <td>0.051282</td>\n",
              "      <td>0.050000</td>\n",
              "      <td>0.020863</td>\n",
              "      <td>2.0</td>\n",
              "    </tr>\n",
              "    <tr>\n",
              "      <th>6</th>\n",
              "      <td>Myantro</td>\n",
              "      <td>8.8</td>\n",
              "      <td>431320</td>\n",
              "      <td>61.5</td>\n",
              "      <td>0.143089</td>\n",
              "      <td>0.125000</td>\n",
              "      <td>0.080171</td>\n",
              "      <td>2.0</td>\n",
              "    </tr>\n",
              "    <tr>\n",
              "      <th>7</th>\n",
              "      <td>S0YxSauCe</td>\n",
              "      <td>0.3</td>\n",
              "      <td>671270</td>\n",
              "      <td>39.1</td>\n",
              "      <td>0.007673</td>\n",
              "      <td>0.062500</td>\n",
              "      <td>0.051312</td>\n",
              "      <td>1.0</td>\n",
              "    </tr>\n",
              "    <tr>\n",
              "      <th>8</th>\n",
              "      <td>Vonder</td>\n",
              "      <td>2.7</td>\n",
              "      <td>35600</td>\n",
              "      <td>30.0</td>\n",
              "      <td>0.090000</td>\n",
              "      <td>0.333333</td>\n",
              "      <td>0.219570</td>\n",
              "      <td>1.0</td>\n",
              "    </tr>\n",
              "    <tr>\n",
              "      <th>9</th>\n",
              "      <td>GozerGozerian</td>\n",
              "      <td>1.1</td>\n",
              "      <td>448800</td>\n",
              "      <td>112.8</td>\n",
              "      <td>0.009752</td>\n",
              "      <td>0.166667</td>\n",
              "      <td>0.167442</td>\n",
              "      <td>1.0</td>\n",
              "    </tr>\n",
              "  </tbody>\n",
              "</table>\n",
              "</div>"
            ],
            "text/plain": [
              "         username  hours  product_id  ...  mean_hour  std_hour  ranking\n",
              "0     Chaos Syren    0.1      725280  ...   1.000000  0.000000      5.0\n",
              "1          Teef 🐏    0.9      725280  ...   0.333333  0.531378      1.0\n",
              "2         Ariman1   13.2      328100  ...   0.250000  0.300531      3.0\n",
              "3     freakfantom    0.1      725280  ...   1.000000  0.000000      5.0\n",
              "4      Kaelandros    1.5      328100  ...   1.000000  0.000000      5.0\n",
              "5  The_Cpt_FROGGY    7.8      631920  ...   0.050000  0.020863      2.0\n",
              "6         Myantro    8.8      431320  ...   0.125000  0.080171      2.0\n",
              "7       S0YxSauCe    0.3      671270  ...   0.062500  0.051312      1.0\n",
              "8          Vonder    2.7       35600  ...   0.333333  0.219570      1.0\n",
              "9   GozerGozerian    1.1      448800  ...   0.166667  0.167442      1.0\n",
              "\n",
              "[10 rows x 8 columns]"
            ]
          },
          "metadata": {
            "tags": []
          },
          "execution_count": 120
        }
      ]
    },
    {
      "cell_type": "markdown",
      "metadata": {
        "id": "tBcRQgPgbSI0"
      },
      "source": [
        "Miremos, para este nuevo puntaje la distribución de los puntajes."
      ]
    },
    {
      "cell_type": "code",
      "metadata": {
        "id": "fWZquNXjiBL9",
        "colab": {
          "base_uri": "https://localhost:8080/"
        },
        "outputId": "8b870be0-fd94-4966-91f3-c2efb117ff70"
      },
      "source": [
        "reviws2['ranking'].value_counts()"
      ],
      "execution_count": 121,
      "outputs": [
        {
          "output_type": "execute_result",
          "data": {
            "text/plain": [
              "5.0    290614\n",
              "1.0    108892\n",
              "2.0     51591\n",
              "3.0     14524\n",
              "4.0      3264\n",
              "Name: ranking, dtype: int64"
            ]
          },
          "metadata": {
            "tags": []
          },
          "execution_count": 121
        }
      ]
    },
    {
      "cell_type": "code",
      "metadata": {
        "id": "Zk5JQbowVGZU"
      },
      "source": [
        "N_filas = len(reviws) # Limitamos el dataset a N_filas\n",
        "\n",
        "data2 = Dataset.load_from_df(reviws2[['username', 'product_id', 'ranking']][:N_filas], reader)"
      ],
      "execution_count": 122,
      "outputs": []
    },
    {
      "cell_type": "code",
      "metadata": {
        "id": "WE9IhWJdW3PX",
        "colab": {
          "base_uri": "https://localhost:8080/"
        },
        "outputId": "d274a250-1850-4af0-f808-640b11942cd6"
      },
      "source": [
        "from surprise.model_selection import GridSearchCV\n",
        "# Hora de tomarse un cafe ... (-_-)zzzz\n",
        "param_grid = {'n_factors': [5,10],'n_epochs': [5,30,60], 'lr_all': [0.001, 0.002, 0.005],\n",
        "              'reg_all': [0.002, 0.02, 0.2]}\n",
        "gs = GridSearchCV(SVD, param_grid, measures=['rmse'], cv=3, n_jobs = -1)\n",
        "gs.fit(data)\n",
        "\n",
        "print(gs.best_score['rmse'])\n",
        "print(gs.best_params['rmse'])"
      ],
      "execution_count": 100,
      "outputs": [
        {
          "output_type": "stream",
          "text": [
            "0.6862407947248365\n",
            "{'n_factors': 5, 'n_epochs': 60, 'lr_all': 0.005, 'reg_all': 0.02}\n"
          ],
          "name": "stdout"
        }
      ]
    },
    {
      "cell_type": "code",
      "metadata": {
        "id": "n-hxIDdlW-8o"
      },
      "source": [
        "trainset, testset = train_test_split(data2, test_size=.25)"
      ],
      "execution_count": 123,
      "outputs": []
    },
    {
      "cell_type": "code",
      "metadata": {
        "id": "GeW8qi2LXGgS"
      },
      "source": [
        "model = SVD(n_factors=5, n_epochs=60,lr_all=0.005, reg_all=0.02)"
      ],
      "execution_count": 124,
      "outputs": []
    },
    {
      "cell_type": "code",
      "metadata": {
        "id": "gWwlcTX_XHc6",
        "colab": {
          "base_uri": "https://localhost:8080/"
        },
        "outputId": "c9144aea-e5ab-4714-ac80-423f4b8070e8"
      },
      "source": [
        "model.fit(trainset)"
      ],
      "execution_count": 125,
      "outputs": [
        {
          "output_type": "execute_result",
          "data": {
            "text/plain": [
              "<surprise.prediction_algorithms.matrix_factorization.SVD at 0x7fc6ecd76a58>"
            ]
          },
          "metadata": {
            "tags": []
          },
          "execution_count": 125
        }
      ]
    },
    {
      "cell_type": "code",
      "metadata": {
        "id": "tfzXflKiXHPr"
      },
      "source": [
        "predictions = model.test(testset)"
      ],
      "execution_count": 126,
      "outputs": []
    },
    {
      "cell_type": "code",
      "metadata": {
        "id": "CEgo4Ld1XZRs",
        "colab": {
          "base_uri": "https://localhost:8080/"
        },
        "outputId": "887d7c83-081f-4329-b981-0311b5e22755"
      },
      "source": [
        "model.predict('The_Cpt_FROGGY',35140)"
      ],
      "execution_count": 127,
      "outputs": [
        {
          "output_type": "execute_result",
          "data": {
            "text/plain": [
              "Prediction(uid='The_Cpt_FROGGY', iid=35140, r_ui=None, est=1.9325025752221934, details={'was_impossible': False})"
            ]
          },
          "metadata": {
            "tags": []
          },
          "execution_count": 127
        }
      ]
    },
    {
      "cell_type": "code",
      "metadata": {
        "id": "wwyLsarlXnsn",
        "colab": {
          "base_uri": "https://localhost:8080/",
          "height": 76
        },
        "outputId": "eeb211cd-17ab-42dd-cefb-81027d7a3f18"
      },
      "source": [
        "usuario2 = 'The_Cpt_FROGGY'\n",
        "ranking2 = 3   # Juegos jugados por encima del tiempo promedio\n",
        "df_user2 = reviws2[(reviws2['username'] == usuario2) & (reviws2['ranking'] >= ranking2)]\n",
        "df_user2 = df_user2.reset_index(drop=True)\n",
        "df_user2"
      ],
      "execution_count": 140,
      "outputs": [
        {
          "output_type": "execute_result",
          "data": {
            "text/html": [
              "<div>\n",
              "<style scoped>\n",
              "    .dataframe tbody tr th:only-of-type {\n",
              "        vertical-align: middle;\n",
              "    }\n",
              "\n",
              "    .dataframe tbody tr th {\n",
              "        vertical-align: top;\n",
              "    }\n",
              "\n",
              "    .dataframe thead th {\n",
              "        text-align: right;\n",
              "    }\n",
              "</style>\n",
              "<table border=\"1\" class=\"dataframe\">\n",
              "  <thead>\n",
              "    <tr style=\"text-align: right;\">\n",
              "      <th></th>\n",
              "      <th>username</th>\n",
              "      <th>hours</th>\n",
              "      <th>product_id</th>\n",
              "      <th>total</th>\n",
              "      <th>play_game</th>\n",
              "      <th>mean_hour</th>\n",
              "      <th>std_hour</th>\n",
              "      <th>ranking</th>\n",
              "    </tr>\n",
              "  </thead>\n",
              "  <tbody>\n",
              "    <tr>\n",
              "      <th>0</th>\n",
              "      <td>The_Cpt_FROGGY</td>\n",
              "      <td>18.7</td>\n",
              "      <td>489520</td>\n",
              "      <td>152.1</td>\n",
              "      <td>0.122945</td>\n",
              "      <td>0.05</td>\n",
              "      <td>0.020863</td>\n",
              "      <td>5.0</td>\n",
              "    </tr>\n",
              "  </tbody>\n",
              "</table>\n",
              "</div>"
            ],
            "text/plain": [
              "         username  hours  product_id  ...  mean_hour  std_hour  ranking\n",
              "0  The_Cpt_FROGGY   18.7      489520  ...       0.05  0.020863      5.0\n",
              "\n",
              "[1 rows x 8 columns]"
            ]
          },
          "metadata": {
            "tags": []
          },
          "execution_count": 140
        }
      ]
    },
    {
      "cell_type": "code",
      "metadata": {
        "id": "zDXNBQycXolW",
        "colab": {
          "base_uri": "https://localhost:8080/",
          "height": 207
        },
        "outputId": "f7d83d5f-6f2e-4b62-a9fc-c0a73218b626"
      },
      "source": [
        "recomendaciones_usuario = games.iloc[:].copy()\n",
        "print(recomendaciones_usuario.shape)\n",
        "recomendaciones_usuario.head()"
      ],
      "execution_count": 132,
      "outputs": [
        {
          "output_type": "stream",
          "text": [
            "(32135, 2)\n"
          ],
          "name": "stdout"
        },
        {
          "output_type": "execute_result",
          "data": {
            "text/html": [
              "<div>\n",
              "<style scoped>\n",
              "    .dataframe tbody tr th:only-of-type {\n",
              "        vertical-align: middle;\n",
              "    }\n",
              "\n",
              "    .dataframe tbody tr th {\n",
              "        vertical-align: top;\n",
              "    }\n",
              "\n",
              "    .dataframe thead th {\n",
              "        text-align: right;\n",
              "    }\n",
              "</style>\n",
              "<table border=\"1\" class=\"dataframe\">\n",
              "  <thead>\n",
              "    <tr style=\"text-align: right;\">\n",
              "      <th></th>\n",
              "      <th>name</th>\n",
              "      <th>product_id</th>\n",
              "    </tr>\n",
              "  </thead>\n",
              "  <tbody>\n",
              "    <tr>\n",
              "      <th>0</th>\n",
              "      <td>Lost Summoner Kitty</td>\n",
              "      <td>761140.0</td>\n",
              "    </tr>\n",
              "    <tr>\n",
              "      <th>1</th>\n",
              "      <td>Ironbound</td>\n",
              "      <td>643980.0</td>\n",
              "    </tr>\n",
              "    <tr>\n",
              "      <th>2</th>\n",
              "      <td>Real Pool 3D - Poolians</td>\n",
              "      <td>670290.0</td>\n",
              "    </tr>\n",
              "    <tr>\n",
              "      <th>3</th>\n",
              "      <td>弹炸人2222</td>\n",
              "      <td>767400.0</td>\n",
              "    </tr>\n",
              "    <tr>\n",
              "      <th>4</th>\n",
              "      <td>Log Challenge</td>\n",
              "      <td>773570.0</td>\n",
              "    </tr>\n",
              "  </tbody>\n",
              "</table>\n",
              "</div>"
            ],
            "text/plain": [
              "                      name  product_id\n",
              "0      Lost Summoner Kitty    761140.0\n",
              "1                Ironbound    643980.0\n",
              "2  Real Pool 3D - Poolians    670290.0\n",
              "3                  弹炸人2222    767400.0\n",
              "4            Log Challenge    773570.0"
            ]
          },
          "metadata": {
            "tags": []
          },
          "execution_count": 132
        }
      ]
    },
    {
      "cell_type": "code",
      "metadata": {
        "id": "F2tX32OWX8jV",
        "colab": {
          "base_uri": "https://localhost:8080/",
          "height": 207
        },
        "outputId": "3af1e407-0e71-4cf0-a919-84c2e973e2bd"
      },
      "source": [
        "usuario_vistas = reviws2[reviws2['username'] == usuario2]\n",
        "#usuario_vistas = usuario_vistas[['name','product_id']]\n",
        "print(usuario_vistas.shape)\n",
        "usuario_vistas.head()"
      ],
      "execution_count": 133,
      "outputs": [
        {
          "output_type": "stream",
          "text": [
            "(20, 8)\n"
          ],
          "name": "stdout"
        },
        {
          "output_type": "execute_result",
          "data": {
            "text/html": [
              "<div>\n",
              "<style scoped>\n",
              "    .dataframe tbody tr th:only-of-type {\n",
              "        vertical-align: middle;\n",
              "    }\n",
              "\n",
              "    .dataframe tbody tr th {\n",
              "        vertical-align: top;\n",
              "    }\n",
              "\n",
              "    .dataframe thead th {\n",
              "        text-align: right;\n",
              "    }\n",
              "</style>\n",
              "<table border=\"1\" class=\"dataframe\">\n",
              "  <thead>\n",
              "    <tr style=\"text-align: right;\">\n",
              "      <th></th>\n",
              "      <th>username</th>\n",
              "      <th>hours</th>\n",
              "      <th>product_id</th>\n",
              "      <th>total</th>\n",
              "      <th>play_game</th>\n",
              "      <th>mean_hour</th>\n",
              "      <th>std_hour</th>\n",
              "      <th>ranking</th>\n",
              "    </tr>\n",
              "  </thead>\n",
              "  <tbody>\n",
              "    <tr>\n",
              "      <th>5</th>\n",
              "      <td>The_Cpt_FROGGY</td>\n",
              "      <td>7.8</td>\n",
              "      <td>631920</td>\n",
              "      <td>152.1</td>\n",
              "      <td>0.051282</td>\n",
              "      <td>0.05</td>\n",
              "      <td>0.020863</td>\n",
              "      <td>2.0</td>\n",
              "    </tr>\n",
              "    <tr>\n",
              "      <th>1186</th>\n",
              "      <td>The_Cpt_FROGGY</td>\n",
              "      <td>7.3</td>\n",
              "      <td>482440</td>\n",
              "      <td>152.1</td>\n",
              "      <td>0.047995</td>\n",
              "      <td>0.05</td>\n",
              "      <td>0.020863</td>\n",
              "      <td>1.0</td>\n",
              "    </tr>\n",
              "    <tr>\n",
              "      <th>21768</th>\n",
              "      <td>The_Cpt_FROGGY</td>\n",
              "      <td>4.7</td>\n",
              "      <td>736860</td>\n",
              "      <td>152.1</td>\n",
              "      <td>0.030901</td>\n",
              "      <td>0.05</td>\n",
              "      <td>0.020863</td>\n",
              "      <td>1.0</td>\n",
              "    </tr>\n",
              "    <tr>\n",
              "      <th>27042</th>\n",
              "      <td>The_Cpt_FROGGY</td>\n",
              "      <td>8.3</td>\n",
              "      <td>493540</td>\n",
              "      <td>152.1</td>\n",
              "      <td>0.054569</td>\n",
              "      <td>0.05</td>\n",
              "      <td>0.020863</td>\n",
              "      <td>2.0</td>\n",
              "    </tr>\n",
              "    <tr>\n",
              "      <th>33298</th>\n",
              "      <td>The_Cpt_FROGGY</td>\n",
              "      <td>10.1</td>\n",
              "      <td>572520</td>\n",
              "      <td>152.1</td>\n",
              "      <td>0.066404</td>\n",
              "      <td>0.05</td>\n",
              "      <td>0.020863</td>\n",
              "      <td>2.0</td>\n",
              "    </tr>\n",
              "  </tbody>\n",
              "</table>\n",
              "</div>"
            ],
            "text/plain": [
              "             username  hours  product_id  ...  mean_hour  std_hour  ranking\n",
              "5      The_Cpt_FROGGY    7.8      631920  ...       0.05  0.020863      2.0\n",
              "1186   The_Cpt_FROGGY    7.3      482440  ...       0.05  0.020863      1.0\n",
              "21768  The_Cpt_FROGGY    4.7      736860  ...       0.05  0.020863      1.0\n",
              "27042  The_Cpt_FROGGY    8.3      493540  ...       0.05  0.020863      2.0\n",
              "33298  The_Cpt_FROGGY   10.1      572520  ...       0.05  0.020863      2.0\n",
              "\n",
              "[5 rows x 8 columns]"
            ]
          },
          "metadata": {
            "tags": []
          },
          "execution_count": 133
        }
      ]
    },
    {
      "cell_type": "code",
      "metadata": {
        "id": "t174374hX8qt",
        "colab": {
          "base_uri": "https://localhost:8080/",
          "height": 191
        },
        "outputId": "ef9edfdc-f7ff-4069-ddd5-fb1f4f73ad4e"
      },
      "source": [
        "recomendaciones_usuario.drop(usuario_vistas.product_id, inplace = True,errors='ignore')\n",
        "recomendaciones_usuario = recomendaciones_usuario.reset_index()\n",
        "recomendaciones_usuario.head()"
      ],
      "execution_count": 134,
      "outputs": [
        {
          "output_type": "execute_result",
          "data": {
            "text/html": [
              "<div>\n",
              "<style scoped>\n",
              "    .dataframe tbody tr th:only-of-type {\n",
              "        vertical-align: middle;\n",
              "    }\n",
              "\n",
              "    .dataframe tbody tr th {\n",
              "        vertical-align: top;\n",
              "    }\n",
              "\n",
              "    .dataframe thead th {\n",
              "        text-align: right;\n",
              "    }\n",
              "</style>\n",
              "<table border=\"1\" class=\"dataframe\">\n",
              "  <thead>\n",
              "    <tr style=\"text-align: right;\">\n",
              "      <th></th>\n",
              "      <th>index</th>\n",
              "      <th>name</th>\n",
              "      <th>product_id</th>\n",
              "    </tr>\n",
              "  </thead>\n",
              "  <tbody>\n",
              "    <tr>\n",
              "      <th>0</th>\n",
              "      <td>0</td>\n",
              "      <td>Lost Summoner Kitty</td>\n",
              "      <td>761140.0</td>\n",
              "    </tr>\n",
              "    <tr>\n",
              "      <th>1</th>\n",
              "      <td>1</td>\n",
              "      <td>Ironbound</td>\n",
              "      <td>643980.0</td>\n",
              "    </tr>\n",
              "    <tr>\n",
              "      <th>2</th>\n",
              "      <td>2</td>\n",
              "      <td>Real Pool 3D - Poolians</td>\n",
              "      <td>670290.0</td>\n",
              "    </tr>\n",
              "    <tr>\n",
              "      <th>3</th>\n",
              "      <td>3</td>\n",
              "      <td>弹炸人2222</td>\n",
              "      <td>767400.0</td>\n",
              "    </tr>\n",
              "    <tr>\n",
              "      <th>4</th>\n",
              "      <td>4</td>\n",
              "      <td>Log Challenge</td>\n",
              "      <td>773570.0</td>\n",
              "    </tr>\n",
              "  </tbody>\n",
              "</table>\n",
              "</div>"
            ],
            "text/plain": [
              "   index                     name  product_id\n",
              "0      0      Lost Summoner Kitty    761140.0\n",
              "1      1                Ironbound    643980.0\n",
              "2      2  Real Pool 3D - Poolians    670290.0\n",
              "3      3                  弹炸人2222    767400.0\n",
              "4      4            Log Challenge    773570.0"
            ]
          },
          "metadata": {
            "tags": []
          },
          "execution_count": 134
        }
      ]
    },
    {
      "cell_type": "code",
      "metadata": {
        "id": "dpTkXbQlX8Zg",
        "colab": {
          "base_uri": "https://localhost:8080/",
          "height": 335
        },
        "outputId": "e6dfb646-a124-4d9b-8981-ad8879504171"
      },
      "source": [
        "recomendaciones_usuario['Estimate_Score'] = recomendaciones_usuario['product_id'].apply(lambda x: model.predict(usuario, x).est)\n",
        "recomendaciones_usuario = recomendaciones_usuario.sort_values('Estimate_Score', ascending=False)\n",
        "recomendaciones_usuario.head(10)"
      ],
      "execution_count": 135,
      "outputs": [
        {
          "output_type": "execute_result",
          "data": {
            "text/html": [
              "<div>\n",
              "<style scoped>\n",
              "    .dataframe tbody tr th:only-of-type {\n",
              "        vertical-align: middle;\n",
              "    }\n",
              "\n",
              "    .dataframe tbody tr th {\n",
              "        vertical-align: top;\n",
              "    }\n",
              "\n",
              "    .dataframe thead th {\n",
              "        text-align: right;\n",
              "    }\n",
              "</style>\n",
              "<table border=\"1\" class=\"dataframe\">\n",
              "  <thead>\n",
              "    <tr style=\"text-align: right;\">\n",
              "      <th></th>\n",
              "      <th>index</th>\n",
              "      <th>name</th>\n",
              "      <th>product_id</th>\n",
              "      <th>Estimate_Score</th>\n",
              "    </tr>\n",
              "  </thead>\n",
              "  <tbody>\n",
              "    <tr>\n",
              "      <th>23550</th>\n",
              "      <td>23550</td>\n",
              "      <td>DARK SOULS™ III</td>\n",
              "      <td>374320.0</td>\n",
              "      <td>3.353492</td>\n",
              "    </tr>\n",
              "    <tr>\n",
              "      <th>16133</th>\n",
              "      <td>16133</td>\n",
              "      <td>Robocraft</td>\n",
              "      <td>301520.0</td>\n",
              "      <td>3.300948</td>\n",
              "    </tr>\n",
              "    <tr>\n",
              "      <th>1045</th>\n",
              "      <td>1045</td>\n",
              "      <td>Counter-Strike: Global Offensive</td>\n",
              "      <td>730.0</td>\n",
              "      <td>3.239110</td>\n",
              "    </tr>\n",
              "    <tr>\n",
              "      <th>30008</th>\n",
              "      <td>30008</td>\n",
              "      <td>Arma 3</td>\n",
              "      <td>107410.0</td>\n",
              "      <td>3.165378</td>\n",
              "    </tr>\n",
              "    <tr>\n",
              "      <th>28199</th>\n",
              "      <td>28199</td>\n",
              "      <td>Supreme Ruler Ultimate</td>\n",
              "      <td>314980.0</td>\n",
              "      <td>3.162085</td>\n",
              "    </tr>\n",
              "    <tr>\n",
              "      <th>21005</th>\n",
              "      <td>21005</td>\n",
              "      <td>Crush Crush</td>\n",
              "      <td>459820.0</td>\n",
              "      <td>3.161487</td>\n",
              "    </tr>\n",
              "    <tr>\n",
              "      <th>27181</th>\n",
              "      <td>27181</td>\n",
              "      <td>ShellShock Live</td>\n",
              "      <td>326460.0</td>\n",
              "      <td>3.069715</td>\n",
              "    </tr>\n",
              "    <tr>\n",
              "      <th>16571</th>\n",
              "      <td>16571</td>\n",
              "      <td>Immortal Planet</td>\n",
              "      <td>631980.0</td>\n",
              "      <td>3.063084</td>\n",
              "    </tr>\n",
              "    <tr>\n",
              "      <th>5199</th>\n",
              "      <td>5199</td>\n",
              "      <td>Knight Online</td>\n",
              "      <td>389430.0</td>\n",
              "      <td>3.052628</td>\n",
              "    </tr>\n",
              "    <tr>\n",
              "      <th>15074</th>\n",
              "      <td>15074</td>\n",
              "      <td>Middle-earth™: Shadow of War™</td>\n",
              "      <td>356190.0</td>\n",
              "      <td>3.048429</td>\n",
              "    </tr>\n",
              "  </tbody>\n",
              "</table>\n",
              "</div>"
            ],
            "text/plain": [
              "       index                              name  product_id  Estimate_Score\n",
              "23550  23550                   DARK SOULS™ III    374320.0        3.353492\n",
              "16133  16133                         Robocraft    301520.0        3.300948\n",
              "1045    1045  Counter-Strike: Global Offensive       730.0        3.239110\n",
              "30008  30008                            Arma 3    107410.0        3.165378\n",
              "28199  28199            Supreme Ruler Ultimate    314980.0        3.162085\n",
              "21005  21005                       Crush Crush    459820.0        3.161487\n",
              "27181  27181                   ShellShock Live    326460.0        3.069715\n",
              "16571  16571                   Immortal Planet    631980.0        3.063084\n",
              "5199    5199                     Knight Online    389430.0        3.052628\n",
              "15074  15074     Middle-earth™: Shadow of War™    356190.0        3.048429"
            ]
          },
          "metadata": {
            "tags": []
          },
          "execution_count": 135
        }
      ]
    },
    {
      "cell_type": "code",
      "metadata": {
        "colab": {
          "base_uri": "https://localhost:8080/",
          "height": 373
        },
        "id": "iSnsH1fH3CUB",
        "outputId": "c831512d-fca1-4e38-d126-24c3bb29e9ce"
      },
      "source": [
        "plt.figure(figsize=(10,6))\n",
        "plt.hist(recomendaciones_usuario.Estimate_Score,bins=6)\n",
        "plt.yscale('log')\n",
        "plt.show()"
      ],
      "execution_count": 148,
      "outputs": [
        {
          "output_type": "display_data",
          "data": {
            "image/png": "[encoded data removed]",
            "text/plain": [
              "<Figure size 720x432 with 1 Axes>"
            ]
          },
          "metadata": {
            "tags": [],
            "needs_background": "light"
          }
        }
      ]
    },
    {
      "cell_type": "code",
      "metadata": {
        "id": "5cG8XIh1YQjt",
        "colab": {
          "base_uri": "https://localhost:8080/"
        },
        "outputId": "b1a458b7-88f5-486c-d6b7-9fddf7273a3c"
      },
      "source": [
        "recomendaciones_usuario.Estimate_Score.value_counts(bins=6,sort=False)\n"
      ],
      "execution_count": 136,
      "outputs": [
        {
          "output_type": "execute_result",
          "data": {
            "text/plain": [
              "(0.997, 1.392]     3104\n",
              "(1.392, 1.784]     3097\n",
              "(1.784, 2.177]    24328\n",
              "(2.177, 2.569]     1338\n",
              "(2.569, 2.961]      252\n",
              "(2.961, 3.353]       16\n",
              "Name: Estimate_Score, dtype: int64"
            ]
          },
          "metadata": {
            "tags": []
          },
          "execution_count": 136
        }
      ]
    },
    {
      "cell_type": "markdown",
      "metadata": {
        "id": "-4QG0-Lm577b"
      },
      "source": [
        "Parecido al modelo de benchmarking, este modelo optimizado concentra la mayoría de los datos cerca de la mitad del total de rankings (un comportamiento que se puede atribuir a que hablamos del mismo usuario). Pero al ser una calificación con más números es más fácil hacer la distinción de categorias y se reduce la cantidad de juegos recomendables a 16 (e incluso menos), que serían los juegos que tengan una puntuación de por lo menos 3 o cercanas a este valor. \n",
        "\n",
        "ahora bien, ¿cómo se comporta un usuario que solo tiene un producto?"
      ]
    },
    {
      "cell_type": "code",
      "metadata": {
        "colab": {
          "base_uri": "https://localhost:8080/",
          "height": 373
        },
        "id": "Rw5MwRU-7D6E",
        "outputId": "d9719c93-a043-439f-8ba6-94dd9656f477"
      },
      "source": [
        "usuario2_5 = 'Kaelandros'\n",
        "ranking2 = 5   # Juegos jugados por encima del tiempo promedio\n",
        "df_user2 = reviws2[(reviws2['username'] == usuario2_5) & (reviws2['ranking'] >= ranking2)]\n",
        "df_user2 = df_user2.reset_index(drop=True)\n",
        "usuario_vistas = reviws2[reviws2['username'] == usuario2_5]\n",
        "recomendaciones_usuario.drop(usuario_vistas.product_id, inplace = True,errors='ignore')\n",
        "\n",
        "recomendaciones_usuario['Estimate_Score'] = recomendaciones_usuario['product_id'].apply(lambda x: model.predict(usuario2_5, x).est)\n",
        "recomendaciones_usuario = recomendaciones_usuario.sort_values('Estimate_Score', ascending=False)\n",
        "\n",
        "plt.figure(figsize=(10,6))\n",
        "plt.hist(recomendaciones_usuario.Estimate_Score,bins=6)\n",
        "plt.yscale('log')\n",
        "plt.show()"
      ],
      "execution_count": 152,
      "outputs": [
        {
          "output_type": "display_data",
          "data": {
            "image/png": "[encoded data removed]",
            "text/plain": [
              "<Figure size 720x432 with 1 Axes>"
            ]
          },
          "metadata": {
            "tags": [],
            "needs_background": "light"
          }
        }
      ]
    },
    {
      "cell_type": "code",
      "metadata": {
        "colab": {
          "base_uri": "https://localhost:8080/"
        },
        "id": "YDoeOxgN7n6K",
        "outputId": "6f1ba794-4a86-498a-a8fb-c7dceccbff95"
      },
      "source": [
        "recomendaciones_usuario.Estimate_Score.value_counts(bins=6,sort=False)"
      ],
      "execution_count": 153,
      "outputs": [
        {
          "output_type": "execute_result",
          "data": {
            "text/plain": [
              "(2.144, 2.624]       37\n",
              "(2.624, 3.099]      561\n",
              "(3.099, 3.574]     2773\n",
              "(3.574, 4.049]    24568\n",
              "(4.049, 4.525]     3555\n",
              "(4.525, 5.0]        641\n",
              "Name: Estimate_Score, dtype: int64"
            ]
          },
          "metadata": {
            "tags": []
          },
          "execution_count": 153
        }
      ]
    },
    {
      "cell_type": "markdown",
      "metadata": {
        "id": "2IeLSmSg8HiD"
      },
      "source": [
        "En este caso, el modelo si que encuentra juegos con calificaciones de 5. Claramente, el hecho de que el usuario solo tenga un juego abre las posibilidades a que le gusten muchisimo más y se demuestra con la acumulación de datos después de la nota 3.\n",
        "\n",
        "Al igual que en el modelo de benchmark este modelo solo puede saber que le podría gustar al usuario al compararlo con usuarios que tienen el mismo producto, pero tiene dificultades en entender que NO le gusta, pues el usuario no tiene productos con calificaciones bajas. Por otro lado si resultó una mejora el cambiar la calificación a de 1 a 5, pues es mucho más fácil definir cuales sean los productos con mayor posibilidad de gustarle al usuario."
      ]
    },
    {
      "cell_type": "markdown",
      "metadata": {
        "id": "bv4r--ieYUzU"
      },
      "source": [
        "##Error del modelo"
      ]
    },
    {
      "cell_type": "code",
      "metadata": {
        "id": "KzAonbVEYUnE",
        "colab": {
          "base_uri": "https://localhost:8080/"
        },
        "outputId": "47519d03-f5b7-4118-ea47-6cd6a574497c"
      },
      "source": [
        "accuracy.rmse(predictions, verbose=True) #Corregir conclusiones"
      ],
      "execution_count": 137,
      "outputs": [
        {
          "output_type": "stream",
          "text": [
            "RMSE: 1.4332\n"
          ],
          "name": "stdout"
        },
        {
          "output_type": "execute_result",
          "data": {
            "text/plain": [
              "1.4331983977276859"
            ]
          },
          "metadata": {
            "tags": []
          },
          "execution_count": 137
        }
      ]
    },
    {
      "cell_type": "markdown",
      "metadata": {
        "id": "NiHa918omOUC"
      },
      "source": [
        "El error de este modelo puede considerarse bastante alto pues mayor a una unidad significa un cambio de nota en la recomendación. De todas formas, para usuarios con pocos productos y que reciban recomendaciones cercanas a 5, el error no debería importar mucho, pues el producto caería como menos en la categoría de \"jugable por encima de la media\" como minimo. "
      ]
    },
    {
      "cell_type": "markdown",
      "metadata": {
        "id": "1WTcQZDa_9k_"
      },
      "source": [
        "##Conclusiones"
      ]
    },
    {
      "cell_type": "markdown",
      "metadata": {
        "id": "eTMuD4H4AA2L"
      },
      "source": [
        "Generar calificaciones usando las horas jugadas, aunque hace mucho sentido (al menos a mi aun) tiene el problema de no ser una calificación directa del usuario y, sobretodo, que nunca varios productos recibirán una calificación alta será dada a varios productos de un solo usuario.\n",
        "\n",
        "El problema con este modelo es que: mientras en un modelo de notas normales un usuario puede tener casi todos sus productos calificados por encima de 4, en este modelo la \"nota\" se va a repartir entre todos los juegos (muy a pesar del gusto del usuario).\n",
        "\n",
        "Este modelo puede resultar ventajoso porque nos podría estar indicando más que recomendaciones, tendencias entre usuarios con habitos de consumo parecido. Eso se traduce en que podría estar generando clusters y agrupanto estos en modas.\n",
        "\n",
        "Una gran debilidad de este modelo, además de la información dada anteriormente, es que no considera el factor económico y poder adquisitivo del usuario; pero como se dijo, el ejercicio presentado en este notebook se relaciona más con generar la nota a partir de las horas de juego.\n",
        "\n",
        "Finalmente, creo que la única forma de tener certeza en cuanto a la efectividad de este modelo sería contrastando los resultados de recomendación con entrevistas a los usuarios reales."
      ]
    },
    {
      "cell_type": "markdown",
      "metadata": {
        "id": "TXdnUs9o79Cm"
      },
      "source": [
        "# Artículos de interes utilizados"
      ]
    },
    {
      "cell_type": "markdown",
      "metadata": {
        "id": "hSBtPyMJQGSM"
      },
      "source": [
        "https://medium.com/towards-artificial-intelligence/recommendation-system-in-depth-tutorial-with-python-for-netflix-using-collaborative-filtering-533ff8a0e444"
      ]
    },
    {
      "cell_type": "markdown",
      "metadata": {
        "id": "uD7dEICvSdiJ"
      },
      "source": [
        "https://www.kaggle.com/sunyuanxi/surprise"
      ]
    }
  ]
}