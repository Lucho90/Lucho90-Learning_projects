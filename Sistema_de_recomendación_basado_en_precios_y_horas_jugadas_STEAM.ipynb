{
  "nbformat": 4,
  "nbformat_minor": 0,
  "metadata": {
    "colab": {
      "name": "Sistema de recomendación basado en precios y horas jugadas STEAM.ipynb",
      "provenance": [],
      "authorship_tag": "ABX9TyMuJcHi1lhAkjfaHuIfV3x6",
      "include_colab_link": true
    },
    "kernelspec": {
      "display_name": "Python 3",
      "name": "python3"
    }
  },
  "cells": [
    {
      "cell_type": "markdown",
      "metadata": {
        "id": "view-in-github",
        "colab_type": "text"
      },
      "source": [
        "<a href=\"https://colab.research.google.com/github/Lucho90/Lucho90-Sistema_recomendacion_steam/blob/main/Sistema_de_recomendaci%C3%B3n_basado_en_precios_y_horas_jugadas_STEAM.ipynb\" target=\"_parent\"><img src=\"https://colab.research.google.com/assets/colab-badge.svg\" alt=\"Open In Colab\"/></a>"
      ]
    },
    {
      "cell_type": "markdown",
      "metadata": {
        "id": "Osux73MWx_kM"
      },
      "source": [
        "#Sistema de recomendación basado en precios y horas jugadas STEAM"
      ]
    },
    {
      "cell_type": "markdown",
      "metadata": {
        "id": "fVkCc_Vkym2P"
      },
      "source": [
        "Para iniciar traeremos los datos. Llevaremos todo el preprocesamiento al punto similar al proyecto \"sistema de recomendación basado en horas\" sin ahondar mucho, si te sientes perdido o no entiendes las transformaciones que se realizan, te sugiero ver ese proyecto en este mismo repositorio. \n",
        "\n",
        "En esta ocación intentaremos realizar la mejora propuesta en aquel proyecto: Incluir en el sistema de recomendación el factor económico a la hora de evaluar la probabilidad de comprar o no el juego.\n",
        "\n"
      ]
    },
    {
      "cell_type": "code",
      "metadata": {
        "id": "PCbsHf3y1Qpx"
      },
      "source": [
        "import gzip\n",
        "import pandas as pd\n",
        "import seaborn as sns\n",
        "import numpy as np\n",
        "import matplotlib.pyplot as plt\n",
        "\n",
        "\n",
        "def parse(path):   \n",
        "    g = gzip.open(path, 'r')\n",
        "    for l in g:\n",
        "        yield eval(l)"
      ],
      "execution_count": null,
      "outputs": []
    },
    {
      "cell_type": "code",
      "metadata": {
        "colab": {
          "base_uri": "https://localhost:8080/",
          "height": 197
        },
        "id": "7MyHFzVBtw4J",
        "outputId": "d0205d67-e753-4327-f991-1000a60a1ee5"
      },
      "source": [
        "reviws = pd.read_csv('reviws.csv')\n",
        "reviws['hours'] = pd.to_numeric(reviws['hours'])\n",
        "reviws = reviws.drop_duplicates()\n",
        "reviws = reviws.dropna()\n",
        "gr = reviws.groupby(['username'])\n",
        "total = pd.DataFrame(gr['hours'].sum())\n",
        "reviws['total']=total\n",
        "reviws['total'].fillna(gr.hours.transform(\"sum\"),inplace=True)\n",
        "reviws['play_game']= reviws['hours']/reviws['total']\n",
        "\n",
        "maximo= 8760 # Las horas que contiene un año\n",
        "# Con el outlier minimo ya lidiamos al eliminar quienes tenian 0 horas jugadas.\n",
        "reviws= reviws.drop(reviws[reviws['total']>maximo].index)\n",
        "#reviws= reviws.drop(reviws[reviws['total']<minimo].index)\n",
        "\n",
        "\n",
        "\n",
        "reviws.head()"
      ],
      "execution_count": null,
      "outputs": [
        {
          "output_type": "execute_result",
          "data": {
            "text/html": [
              "<div>\n",
              "<style scoped>\n",
              "    .dataframe tbody tr th:only-of-type {\n",
              "        vertical-align: middle;\n",
              "    }\n",
              "\n",
              "    .dataframe tbody tr th {\n",
              "        vertical-align: top;\n",
              "    }\n",
              "\n",
              "    .dataframe thead th {\n",
              "        text-align: right;\n",
              "    }\n",
              "</style>\n",
              "<table border=\"1\" class=\"dataframe\">\n",
              "  <thead>\n",
              "    <tr style=\"text-align: right;\">\n",
              "      <th></th>\n",
              "      <th>username</th>\n",
              "      <th>hours</th>\n",
              "      <th>product_id</th>\n",
              "      <th>total</th>\n",
              "      <th>play_game</th>\n",
              "    </tr>\n",
              "  </thead>\n",
              "  <tbody>\n",
              "    <tr>\n",
              "      <th>0</th>\n",
              "      <td>Chaos Syren</td>\n",
              "      <td>0.1</td>\n",
              "      <td>725280</td>\n",
              "      <td>0.1</td>\n",
              "      <td>1.000000</td>\n",
              "    </tr>\n",
              "    <tr>\n",
              "      <th>1</th>\n",
              "      <td>Ariman1</td>\n",
              "      <td>13.2</td>\n",
              "      <td>328100</td>\n",
              "      <td>15.7</td>\n",
              "      <td>0.840764</td>\n",
              "    </tr>\n",
              "    <tr>\n",
              "      <th>2</th>\n",
              "      <td>freakfantom</td>\n",
              "      <td>0.1</td>\n",
              "      <td>725280</td>\n",
              "      <td>0.1</td>\n",
              "      <td>1.000000</td>\n",
              "    </tr>\n",
              "    <tr>\n",
              "      <th>3</th>\n",
              "      <td>The_Cpt_FROGGY</td>\n",
              "      <td>7.8</td>\n",
              "      <td>631920</td>\n",
              "      <td>184.8</td>\n",
              "      <td>0.042208</td>\n",
              "    </tr>\n",
              "    <tr>\n",
              "      <th>4</th>\n",
              "      <td>the_maker988</td>\n",
              "      <td>8.2</td>\n",
              "      <td>35140</td>\n",
              "      <td>8.2</td>\n",
              "      <td>1.000000</td>\n",
              "    </tr>\n",
              "  </tbody>\n",
              "</table>\n",
              "</div>"
            ],
            "text/plain": [
              "         username  hours  product_id  total  play_game\n",
              "0     Chaos Syren    0.1      725280    0.1   1.000000\n",
              "1         Ariman1   13.2      328100   15.7   0.840764\n",
              "2     freakfantom    0.1      725280    0.1   1.000000\n",
              "3  The_Cpt_FROGGY    7.8      631920  184.8   0.042208\n",
              "4    the_maker988    8.2       35140    8.2   1.000000"
            ]
          },
          "metadata": {
            "tags": []
          },
          "execution_count": 2
        }
      ]
    },
    {
      "cell_type": "code",
      "metadata": {
        "colab": {
          "base_uri": "https://localhost:8080/",
          "height": 197
        },
        "id": "E_6MwBf0zr0w",
        "outputId": "1e1110b2-1bd8-4501-8373-5c2f7bad15c1"
      },
      "source": [
        "reviws.loc[:,'mean_hour']= np.nan\n",
        "reviws.loc[:,'mean_hour'].fillna(gr.play_game.transform(\"mean\"),inplace=True)\n",
        "reviws.loc[:,'std_hour'] = np.nan\n",
        "reviws.loc[:,'std_hour'].fillna(gr.play_game.transform('std'),inplace=True)\n",
        "\n",
        "reviws = reviws.fillna(0)\n",
        "reviws.head()"
      ],
      "execution_count": null,
      "outputs": [
        {
          "output_type": "execute_result",
          "data": {
            "text/html": [
              "<div>\n",
              "<style scoped>\n",
              "    .dataframe tbody tr th:only-of-type {\n",
              "        vertical-align: middle;\n",
              "    }\n",
              "\n",
              "    .dataframe tbody tr th {\n",
              "        vertical-align: top;\n",
              "    }\n",
              "\n",
              "    .dataframe thead th {\n",
              "        text-align: right;\n",
              "    }\n",
              "</style>\n",
              "<table border=\"1\" class=\"dataframe\">\n",
              "  <thead>\n",
              "    <tr style=\"text-align: right;\">\n",
              "      <th></th>\n",
              "      <th>username</th>\n",
              "      <th>hours</th>\n",
              "      <th>product_id</th>\n",
              "      <th>total</th>\n",
              "      <th>play_game</th>\n",
              "      <th>mean_hour</th>\n",
              "      <th>std_hour</th>\n",
              "    </tr>\n",
              "  </thead>\n",
              "  <tbody>\n",
              "    <tr>\n",
              "      <th>0</th>\n",
              "      <td>Chaos Syren</td>\n",
              "      <td>0.1</td>\n",
              "      <td>725280</td>\n",
              "      <td>0.1</td>\n",
              "      <td>1.000000</td>\n",
              "      <td>1.000000</td>\n",
              "      <td>0.000000</td>\n",
              "    </tr>\n",
              "    <tr>\n",
              "      <th>1</th>\n",
              "      <td>Ariman1</td>\n",
              "      <td>13.2</td>\n",
              "      <td>328100</td>\n",
              "      <td>15.7</td>\n",
              "      <td>0.840764</td>\n",
              "      <td>0.333333</td>\n",
              "      <td>0.442037</td>\n",
              "    </tr>\n",
              "    <tr>\n",
              "      <th>2</th>\n",
              "      <td>freakfantom</td>\n",
              "      <td>0.1</td>\n",
              "      <td>725280</td>\n",
              "      <td>0.1</td>\n",
              "      <td>1.000000</td>\n",
              "      <td>1.000000</td>\n",
              "      <td>0.000000</td>\n",
              "    </tr>\n",
              "    <tr>\n",
              "      <th>3</th>\n",
              "      <td>The_Cpt_FROGGY</td>\n",
              "      <td>7.8</td>\n",
              "      <td>631920</td>\n",
              "      <td>184.8</td>\n",
              "      <td>0.042208</td>\n",
              "      <td>0.037037</td>\n",
              "      <td>0.013012</td>\n",
              "    </tr>\n",
              "    <tr>\n",
              "      <th>4</th>\n",
              "      <td>the_maker988</td>\n",
              "      <td>8.2</td>\n",
              "      <td>35140</td>\n",
              "      <td>8.2</td>\n",
              "      <td>1.000000</td>\n",
              "      <td>1.000000</td>\n",
              "      <td>0.000000</td>\n",
              "    </tr>\n",
              "  </tbody>\n",
              "</table>\n",
              "</div>"
            ],
            "text/plain": [
              "         username  hours  product_id  total  play_game  mean_hour  std_hour\n",
              "0     Chaos Syren    0.1      725280    0.1   1.000000   1.000000  0.000000\n",
              "1         Ariman1   13.2      328100   15.7   0.840764   0.333333  0.442037\n",
              "2     freakfantom    0.1      725280    0.1   1.000000   1.000000  0.000000\n",
              "3  The_Cpt_FROGGY    7.8      631920  184.8   0.042208   0.037037  0.013012\n",
              "4    the_maker988    8.2       35140    8.2   1.000000   1.000000  0.000000"
            ]
          },
          "metadata": {
            "tags": []
          },
          "execution_count": 3
        }
      ]
    },
    {
      "cell_type": "markdown",
      "metadata": {
        "id": "ts4mLDilVL0_"
      },
      "source": [
        "Aquí viene la gran diferencia con respecto al proyecto en donde calificabamos los juegos basados en las horas de uso, esta vez las notas generadas por las horas irán de 0.5 a 2.5, poco tiempo empleado a mucho tiempo empleado jugando respectivamente."
      ]
    },
    {
      "cell_type": "code",
      "metadata": {
        "colab": {
          "base_uri": "https://localhost:8080/",
          "height": 347
        },
        "id": "D2jGMAgyz_rh",
        "outputId": "3ca71a58-9d50-492e-eccf-d380a6148bcf"
      },
      "source": [
        "puntaje_5 =  reviws.loc[:,'play_game'] >= reviws.loc[:,'mean_hour'] + 2*reviws.loc[:,'std_hour']\n",
        "puntaje_4 =  reviws.loc[:,'play_game'] >= reviws.loc[:,'mean_hour'] + 1.5*reviws.loc[:,'std_hour']\n",
        "puntaje_3 =   reviws.loc[:,'play_game'] >= reviws.loc[:,'mean_hour'] + reviws.loc[:,'std_hour']\n",
        "puntaje_2 = reviws.loc[:,'play_game'] >= reviws.loc[:,'mean_hour'] \n",
        "puntaje_1 =   reviws.loc[:,'play_game'] < reviws.loc[:,'mean_hour']        \n",
        "conditions  = [ puntaje_5,puntaje_4,puntaje_3,puntaje_2,puntaje_1 ]\n",
        "choices     = [ 2.5,2,1.5,1,0.5 ]\n",
        "\n",
        "reviws.loc[:,'ranking'] = np.select(conditions, choices, default=np.nan)\n",
        "reviws.head(10)"
      ],
      "execution_count": null,
      "outputs": [
        {
          "output_type": "execute_result",
          "data": {
            "text/html": [
              "<div>\n",
              "<style scoped>\n",
              "    .dataframe tbody tr th:only-of-type {\n",
              "        vertical-align: middle;\n",
              "    }\n",
              "\n",
              "    .dataframe tbody tr th {\n",
              "        vertical-align: top;\n",
              "    }\n",
              "\n",
              "    .dataframe thead th {\n",
              "        text-align: right;\n",
              "    }\n",
              "</style>\n",
              "<table border=\"1\" class=\"dataframe\">\n",
              "  <thead>\n",
              "    <tr style=\"text-align: right;\">\n",
              "      <th></th>\n",
              "      <th>username</th>\n",
              "      <th>hours</th>\n",
              "      <th>product_id</th>\n",
              "      <th>total</th>\n",
              "      <th>play_game</th>\n",
              "      <th>mean_hour</th>\n",
              "      <th>std_hour</th>\n",
              "      <th>ranking</th>\n",
              "    </tr>\n",
              "  </thead>\n",
              "  <tbody>\n",
              "    <tr>\n",
              "      <th>0</th>\n",
              "      <td>Chaos Syren</td>\n",
              "      <td>0.1</td>\n",
              "      <td>725280</td>\n",
              "      <td>0.1</td>\n",
              "      <td>1.000000</td>\n",
              "      <td>1.000000</td>\n",
              "      <td>0.000000</td>\n",
              "      <td>2.5</td>\n",
              "    </tr>\n",
              "    <tr>\n",
              "      <th>1</th>\n",
              "      <td>Ariman1</td>\n",
              "      <td>13.2</td>\n",
              "      <td>328100</td>\n",
              "      <td>15.7</td>\n",
              "      <td>0.840764</td>\n",
              "      <td>0.333333</td>\n",
              "      <td>0.442037</td>\n",
              "      <td>1.5</td>\n",
              "    </tr>\n",
              "    <tr>\n",
              "      <th>2</th>\n",
              "      <td>freakfantom</td>\n",
              "      <td>0.1</td>\n",
              "      <td>725280</td>\n",
              "      <td>0.1</td>\n",
              "      <td>1.000000</td>\n",
              "      <td>1.000000</td>\n",
              "      <td>0.000000</td>\n",
              "      <td>2.5</td>\n",
              "    </tr>\n",
              "    <tr>\n",
              "      <th>3</th>\n",
              "      <td>The_Cpt_FROGGY</td>\n",
              "      <td>7.8</td>\n",
              "      <td>631920</td>\n",
              "      <td>184.8</td>\n",
              "      <td>0.042208</td>\n",
              "      <td>0.037037</td>\n",
              "      <td>0.013012</td>\n",
              "      <td>1.0</td>\n",
              "    </tr>\n",
              "    <tr>\n",
              "      <th>4</th>\n",
              "      <td>the_maker988</td>\n",
              "      <td>8.2</td>\n",
              "      <td>35140</td>\n",
              "      <td>8.2</td>\n",
              "      <td>1.000000</td>\n",
              "      <td>1.000000</td>\n",
              "      <td>0.000000</td>\n",
              "      <td>2.5</td>\n",
              "    </tr>\n",
              "    <tr>\n",
              "      <th>5</th>\n",
              "      <td>Szudof</td>\n",
              "      <td>0.2</td>\n",
              "      <td>288690</td>\n",
              "      <td>0.2</td>\n",
              "      <td>1.000000</td>\n",
              "      <td>1.000000</td>\n",
              "      <td>0.000000</td>\n",
              "      <td>2.5</td>\n",
              "    </tr>\n",
              "    <tr>\n",
              "      <th>6</th>\n",
              "      <td>Vonder</td>\n",
              "      <td>2.7</td>\n",
              "      <td>35600</td>\n",
              "      <td>21.8</td>\n",
              "      <td>0.123853</td>\n",
              "      <td>0.333333</td>\n",
              "      <td>0.327728</td>\n",
              "      <td>0.5</td>\n",
              "    </tr>\n",
              "    <tr>\n",
              "      <th>7</th>\n",
              "      <td>LucaFox</td>\n",
              "      <td>4.0</td>\n",
              "      <td>620900</td>\n",
              "      <td>4.0</td>\n",
              "      <td>1.000000</td>\n",
              "      <td>1.000000</td>\n",
              "      <td>0.000000</td>\n",
              "      <td>2.5</td>\n",
              "    </tr>\n",
              "    <tr>\n",
              "      <th>8</th>\n",
              "      <td>rampage1209</td>\n",
              "      <td>34.8</td>\n",
              "      <td>1840</td>\n",
              "      <td>34.8</td>\n",
              "      <td>1.000000</td>\n",
              "      <td>1.000000</td>\n",
              "      <td>0.000000</td>\n",
              "      <td>2.5</td>\n",
              "    </tr>\n",
              "    <tr>\n",
              "      <th>9</th>\n",
              "      <td>Devil Azite</td>\n",
              "      <td>0.1</td>\n",
              "      <td>671270</td>\n",
              "      <td>0.1</td>\n",
              "      <td>1.000000</td>\n",
              "      <td>1.000000</td>\n",
              "      <td>0.000000</td>\n",
              "      <td>2.5</td>\n",
              "    </tr>\n",
              "  </tbody>\n",
              "</table>\n",
              "</div>"
            ],
            "text/plain": [
              "         username  hours  product_id  ...  mean_hour  std_hour  ranking\n",
              "0     Chaos Syren    0.1      725280  ...   1.000000  0.000000      2.5\n",
              "1         Ariman1   13.2      328100  ...   0.333333  0.442037      1.5\n",
              "2     freakfantom    0.1      725280  ...   1.000000  0.000000      2.5\n",
              "3  The_Cpt_FROGGY    7.8      631920  ...   0.037037  0.013012      1.0\n",
              "4    the_maker988    8.2       35140  ...   1.000000  0.000000      2.5\n",
              "5          Szudof    0.2      288690  ...   1.000000  0.000000      2.5\n",
              "6          Vonder    2.7       35600  ...   0.333333  0.327728      0.5\n",
              "7         LucaFox    4.0      620900  ...   1.000000  0.000000      2.5\n",
              "8     rampage1209   34.8        1840  ...   1.000000  0.000000      2.5\n",
              "9     Devil Azite    0.1      671270  ...   1.000000  0.000000      2.5\n",
              "\n",
              "[10 rows x 8 columns]"
            ]
          },
          "metadata": {
            "tags": []
          },
          "execution_count": 4
        }
      ]
    },
    {
      "cell_type": "markdown",
      "metadata": {
        "id": "Zr4EH1a90m7e"
      },
      "source": [
        "Transformado el dataset hasta este punto (mismo del anterior proyecto), lo que se hará es añadir una columna indicando el el precio del producto. Para ello requerimos usar el otro dataset \"steam_games\"."
      ]
    },
    {
      "cell_type": "code",
      "metadata": {
        "colab": {
          "base_uri": "https://localhost:8080/",
          "height": 164
        },
        "id": "-upn8Ioh1EZt",
        "outputId": "e0a416cb-a5ea-47e5-bcd6-c3d542158440"
      },
      "source": [
        "data_games = []\n",
        "for l in parse('steam_games.json.gz'):\n",
        "    data_games.append(l)\n",
        "data_games = pd.DataFrame(data_games)\n",
        "data_games.head(1)"
      ],
      "execution_count": null,
      "outputs": [
        {
          "output_type": "execute_result",
          "data": {
            "text/html": [
              "<div>\n",
              "<style scoped>\n",
              "    .dataframe tbody tr th:only-of-type {\n",
              "        vertical-align: middle;\n",
              "    }\n",
              "\n",
              "    .dataframe tbody tr th {\n",
              "        vertical-align: top;\n",
              "    }\n",
              "\n",
              "    .dataframe thead th {\n",
              "        text-align: right;\n",
              "    }\n",
              "</style>\n",
              "<table border=\"1\" class=\"dataframe\">\n",
              "  <thead>\n",
              "    <tr style=\"text-align: right;\">\n",
              "      <th></th>\n",
              "      <th>publisher</th>\n",
              "      <th>genres</th>\n",
              "      <th>app_name</th>\n",
              "      <th>title</th>\n",
              "      <th>url</th>\n",
              "      <th>release_date</th>\n",
              "      <th>tags</th>\n",
              "      <th>discount_price</th>\n",
              "      <th>reviews_url</th>\n",
              "      <th>specs</th>\n",
              "      <th>price</th>\n",
              "      <th>early_access</th>\n",
              "      <th>id</th>\n",
              "      <th>developer</th>\n",
              "      <th>sentiment</th>\n",
              "      <th>metascore</th>\n",
              "    </tr>\n",
              "  </thead>\n",
              "  <tbody>\n",
              "    <tr>\n",
              "      <th>0</th>\n",
              "      <td>Kotoshiro</td>\n",
              "      <td>[Action, Casual, Indie, Simulation, Strategy]</td>\n",
              "      <td>Lost Summoner Kitty</td>\n",
              "      <td>Lost Summoner Kitty</td>\n",
              "      <td>http://store.steampowered.com/app/761140/Lost_...</td>\n",
              "      <td>2018-01-04</td>\n",
              "      <td>[Strategy, Action, Indie, Casual, Simulation]</td>\n",
              "      <td>4.49</td>\n",
              "      <td>http://steamcommunity.com/app/761140/reviews/?...</td>\n",
              "      <td>[Single-player]</td>\n",
              "      <td>4.99</td>\n",
              "      <td>False</td>\n",
              "      <td>761140</td>\n",
              "      <td>Kotoshiro</td>\n",
              "      <td>NaN</td>\n",
              "      <td>NaN</td>\n",
              "    </tr>\n",
              "  </tbody>\n",
              "</table>\n",
              "</div>"
            ],
            "text/plain": [
              "   publisher                                         genres  ... sentiment metascore\n",
              "0  Kotoshiro  [Action, Casual, Indie, Simulation, Strategy]  ...       NaN       NaN\n",
              "\n",
              "[1 rows x 16 columns]"
            ]
          },
          "metadata": {
            "tags": []
          },
          "execution_count": 5
        }
      ]
    },
    {
      "cell_type": "markdown",
      "metadata": {
        "id": "RS-ojFVYSfY0"
      },
      "source": [
        "Nos quedamos con tres columnas: App_name, price y product_id. La transformación ahora está encaminada a agregar estos datos a nuestro dataset de reviws."
      ]
    },
    {
      "cell_type": "code",
      "metadata": {
        "colab": {
          "base_uri": "https://localhost:8080/",
          "height": 197
        },
        "id": "HLi41sep1gnC",
        "outputId": "f96020eb-bd7e-4c35-f6d4-c911f992b8ac"
      },
      "source": [
        "games = pd.DataFrame(data_games,columns=['app_name','price','id'])\n",
        "games = games.rename(columns={'app_name':'name','price':'price','id':'product_id'})\n",
        "games.head()"
      ],
      "execution_count": null,
      "outputs": [
        {
          "output_type": "execute_result",
          "data": {
            "text/html": [
              "<div>\n",
              "<style scoped>\n",
              "    .dataframe tbody tr th:only-of-type {\n",
              "        vertical-align: middle;\n",
              "    }\n",
              "\n",
              "    .dataframe tbody tr th {\n",
              "        vertical-align: top;\n",
              "    }\n",
              "\n",
              "    .dataframe thead th {\n",
              "        text-align: right;\n",
              "    }\n",
              "</style>\n",
              "<table border=\"1\" class=\"dataframe\">\n",
              "  <thead>\n",
              "    <tr style=\"text-align: right;\">\n",
              "      <th></th>\n",
              "      <th>name</th>\n",
              "      <th>price</th>\n",
              "      <th>product_id</th>\n",
              "    </tr>\n",
              "  </thead>\n",
              "  <tbody>\n",
              "    <tr>\n",
              "      <th>0</th>\n",
              "      <td>Lost Summoner Kitty</td>\n",
              "      <td>4.99</td>\n",
              "      <td>761140</td>\n",
              "    </tr>\n",
              "    <tr>\n",
              "      <th>1</th>\n",
              "      <td>Ironbound</td>\n",
              "      <td>Free To Play</td>\n",
              "      <td>643980</td>\n",
              "    </tr>\n",
              "    <tr>\n",
              "      <th>2</th>\n",
              "      <td>Real Pool 3D - Poolians</td>\n",
              "      <td>Free to Play</td>\n",
              "      <td>670290</td>\n",
              "    </tr>\n",
              "    <tr>\n",
              "      <th>3</th>\n",
              "      <td>弹炸人2222</td>\n",
              "      <td>0.99</td>\n",
              "      <td>767400</td>\n",
              "    </tr>\n",
              "    <tr>\n",
              "      <th>4</th>\n",
              "      <td>Log Challenge</td>\n",
              "      <td>2.99</td>\n",
              "      <td>773570</td>\n",
              "    </tr>\n",
              "  </tbody>\n",
              "</table>\n",
              "</div>"
            ],
            "text/plain": [
              "                      name         price product_id\n",
              "0      Lost Summoner Kitty          4.99     761140\n",
              "1                Ironbound  Free To Play     643980\n",
              "2  Real Pool 3D - Poolians  Free to Play     670290\n",
              "3                  弹炸人2222          0.99     767400\n",
              "4            Log Challenge          2.99     773570"
            ]
          },
          "metadata": {
            "tags": []
          },
          "execution_count": 6
        }
      ]
    },
    {
      "cell_type": "markdown",
      "metadata": {
        "id": "ibLgN-UkSzrn"
      },
      "source": [
        "En orden de cambiar los valores de price a númerico, primero debemos deshacernos de los valores string, esto mediante un diccionario en el que se reemplacen los valores. Ahora si pueden ser valores númericos."
      ]
    },
    {
      "cell_type": "code",
      "metadata": {
        "id": "g44ug1ST2q3j"
      },
      "source": [
        "games[\"price\"].replace({\"Free To Play\": 0 , \"Play the Demo\": 0 ,\"Free to Play\":0,\n",
        "                             \"Free\":0,\"Free Demo\":0,\"Play for Free!\":0,\n",
        "                             \"Install Now\":0,\"Play WARMACHINE: Tactics Demo\":0,\n",
        "                             \"Free Mod\":0,\"Install Theme\":0,\n",
        "                             \"Third-party\":0,\"Play Now\":0,\"Free HITMAN\":0,\n",
        "                             \"Free HITMAN™ Holiday Pack\":0,\n",
        "                             \"Starting at $499.00\":499,\n",
        "                             \"Starting at $449.00\":499,\"Free to Try\":0,\n",
        "                             \"Free Movie\":0,\"Free to Use\":0}, inplace=True)\n",
        "games['price'] = pd.to_numeric(games['price'])"
      ],
      "execution_count": null,
      "outputs": []
    },
    {
      "cell_type": "markdown",
      "metadata": {
        "id": "reB8LMo2TsOI"
      },
      "source": [
        "Vemos una aproximación a la distribución de los precios en los productos en donde se aprecia que la mayoría está por debajo de los 100 dollares."
      ]
    },
    {
      "cell_type": "code",
      "metadata": {
        "colab": {
          "base_uri": "https://localhost:8080/"
        },
        "id": "bxzqZtYO3G9D",
        "outputId": "02c25ec8-ff7a-404d-ad47-a5e5a0e54948"
      },
      "source": [
        "precios = pd.cut(games.price,bins=10,include_lowest=False)\n",
        "precios.value_counts()"
      ],
      "execution_count": null,
      "outputs": [
        {
          "output_type": "execute_result",
          "data": {
            "text/plain": [
              "(-0.995, 99.5]    30634\n",
              "(99.5, 199.0]        99\n",
              "(199.0, 298.5]        9\n",
              "(398.0, 497.5]        5\n",
              "(497.5, 597.0]        4\n",
              "(298.5, 398.0]        4\n",
              "(895.5, 995.0]        1\n",
              "(696.5, 796.0]        1\n",
              "(597.0, 696.5]        1\n",
              "(796.0, 895.5]        0\n",
              "Name: price, dtype: int64"
            ]
          },
          "metadata": {
            "tags": []
          },
          "execution_count": 8
        }
      ]
    },
    {
      "cell_type": "markdown",
      "metadata": {
        "id": "sBHbFffzT33z"
      },
      "source": [
        "Cambiamos la columna de product_id a valores númericos."
      ]
    },
    {
      "cell_type": "code",
      "metadata": {
        "id": "umeeZsR34pGx"
      },
      "source": [
        "games['product_id'] = pd.to_numeric(games['product_id'])"
      ],
      "execution_count": null,
      "outputs": []
    },
    {
      "cell_type": "markdown",
      "metadata": {
        "id": "sKSLuuCPUBNV"
      },
      "source": [
        "Y procedemos a unir ambos datasets:"
      ]
    },
    {
      "cell_type": "code",
      "metadata": {
        "colab": {
          "base_uri": "https://localhost:8080/",
          "height": 197
        },
        "id": "cMF4Iqlw3Te5",
        "outputId": "3a53f12c-6485-436c-b4ab-59647be0710e"
      },
      "source": [
        "reviws= pd.merge(reviws,games)\n",
        "reviws.head()"
      ],
      "execution_count": null,
      "outputs": [
        {
          "output_type": "execute_result",
          "data": {
            "text/html": [
              "<div>\n",
              "<style scoped>\n",
              "    .dataframe tbody tr th:only-of-type {\n",
              "        vertical-align: middle;\n",
              "    }\n",
              "\n",
              "    .dataframe tbody tr th {\n",
              "        vertical-align: top;\n",
              "    }\n",
              "\n",
              "    .dataframe thead th {\n",
              "        text-align: right;\n",
              "    }\n",
              "</style>\n",
              "<table border=\"1\" class=\"dataframe\">\n",
              "  <thead>\n",
              "    <tr style=\"text-align: right;\">\n",
              "      <th></th>\n",
              "      <th>username</th>\n",
              "      <th>hours</th>\n",
              "      <th>product_id</th>\n",
              "      <th>total</th>\n",
              "      <th>play_game</th>\n",
              "      <th>mean_hour</th>\n",
              "      <th>std_hour</th>\n",
              "      <th>ranking</th>\n",
              "      <th>name</th>\n",
              "      <th>price</th>\n",
              "    </tr>\n",
              "  </thead>\n",
              "  <tbody>\n",
              "    <tr>\n",
              "      <th>0</th>\n",
              "      <td>Chaos Syren</td>\n",
              "      <td>0.1</td>\n",
              "      <td>725280</td>\n",
              "      <td>0.1</td>\n",
              "      <td>1.000000</td>\n",
              "      <td>1.000000</td>\n",
              "      <td>0.000000</td>\n",
              "      <td>2.5</td>\n",
              "      <td>Psi Project</td>\n",
              "      <td>2.99</td>\n",
              "    </tr>\n",
              "    <tr>\n",
              "      <th>1</th>\n",
              "      <td>freakfantom</td>\n",
              "      <td>0.1</td>\n",
              "      <td>725280</td>\n",
              "      <td>0.1</td>\n",
              "      <td>1.000000</td>\n",
              "      <td>1.000000</td>\n",
              "      <td>0.000000</td>\n",
              "      <td>2.5</td>\n",
              "      <td>Psi Project</td>\n",
              "      <td>2.99</td>\n",
              "    </tr>\n",
              "    <tr>\n",
              "      <th>2</th>\n",
              "      <td>Ariman1</td>\n",
              "      <td>13.2</td>\n",
              "      <td>328100</td>\n",
              "      <td>15.7</td>\n",
              "      <td>0.840764</td>\n",
              "      <td>0.333333</td>\n",
              "      <td>0.442037</td>\n",
              "      <td>1.5</td>\n",
              "      <td>Gunspell - Steam Edition</td>\n",
              "      <td>14.99</td>\n",
              "    </tr>\n",
              "    <tr>\n",
              "      <th>3</th>\n",
              "      <td>dll3z</td>\n",
              "      <td>0.4</td>\n",
              "      <td>328100</td>\n",
              "      <td>33.5</td>\n",
              "      <td>0.011940</td>\n",
              "      <td>0.333333</td>\n",
              "      <td>0.298900</td>\n",
              "      <td>0.5</td>\n",
              "      <td>Gunspell - Steam Edition</td>\n",
              "      <td>14.99</td>\n",
              "    </tr>\n",
              "    <tr>\n",
              "      <th>4</th>\n",
              "      <td>Nyazicat</td>\n",
              "      <td>2.2</td>\n",
              "      <td>328100</td>\n",
              "      <td>6.6</td>\n",
              "      <td>0.333333</td>\n",
              "      <td>0.333333</td>\n",
              "      <td>0.121212</td>\n",
              "      <td>1.0</td>\n",
              "      <td>Gunspell - Steam Edition</td>\n",
              "      <td>14.99</td>\n",
              "    </tr>\n",
              "  </tbody>\n",
              "</table>\n",
              "</div>"
            ],
            "text/plain": [
              "      username  hours  product_id  ...  ranking                      name  price\n",
              "0  Chaos Syren    0.1      725280  ...      2.5               Psi Project   2.99\n",
              "1  freakfantom    0.1      725280  ...      2.5               Psi Project   2.99\n",
              "2      Ariman1   13.2      328100  ...      1.5  Gunspell - Steam Edition  14.99\n",
              "3        dll3z    0.4      328100  ...      0.5  Gunspell - Steam Edition  14.99\n",
              "4     Nyazicat    2.2      328100  ...      1.0  Gunspell - Steam Edition  14.99\n",
              "\n",
              "[5 rows x 10 columns]"
            ]
          },
          "metadata": {
            "tags": []
          },
          "execution_count": 10
        }
      ]
    },
    {
      "cell_type": "markdown",
      "metadata": {
        "id": "wlX_aWyOUJ0S"
      },
      "source": [
        "Ahora bien, la nueva distribución de valores nos muestra la inversión realizada por los ususarios por juego. Se aprecia que la mayoría de juegos sigue estando por debajo de los 100 dollares."
      ]
    },
    {
      "cell_type": "code",
      "metadata": {
        "colab": {
          "base_uri": "https://localhost:8080/"
        },
        "id": "kY9nW42SJ8mF",
        "outputId": "f54c0460-2fa2-411d-d4c2-5d8b9bd0fd12"
      },
      "source": [
        "reviws.price.value_counts(bins=15)"
      ],
      "execution_count": null,
      "outputs": [
        {
          "output_type": "execute_result",
          "data": {
            "text/plain": [
              "(-0.773, 51.447]      730676\n",
              "(51.447, 102.895]      26864\n",
              "(154.342, 205.789]       427\n",
              "(720.263, 771.71]         65\n",
              "(102.895, 154.342]        32\n",
              "(257.237, 308.684]         6\n",
              "(360.131, 411.579]         2\n",
              "(668.815, 720.263]         0\n",
              "(617.368, 668.815]         0\n",
              "(565.921, 617.368]         0\n",
              "(514.473, 565.921]         0\n",
              "(463.026, 514.473]         0\n",
              "(411.579, 463.026]         0\n",
              "(308.684, 360.131]         0\n",
              "(205.789, 257.237]         0\n",
              "Name: price, dtype: int64"
            ]
          },
          "metadata": {
            "tags": []
          },
          "execution_count": 13
        }
      ]
    },
    {
      "cell_type": "markdown",
      "metadata": {
        "id": "0h_XcVYW6vNt"
      },
      "source": [
        "Creamos una columna que nos muestre el total de dinero que nuestro usuario gastó en steam y el porcentaje de este dinero que corresponda a el producto de la instancia particular."
      ]
    },
    {
      "cell_type": "code",
      "metadata": {
        "colab": {
          "base_uri": "https://localhost:8080/",
          "height": 197
        },
        "id": "ijPm-MY_5IDF",
        "outputId": "785f0b45-73db-4c64-82ff-0a56ff5f7910"
      },
      "source": [
        "\n",
        "gr = reviws.groupby(['username'])\n",
        "total_price = pd.DataFrame(gr['price'].sum())\n",
        "reviws['total_price']=total_price    #Nuestra columna de total invertido en la plataforma\n",
        "reviws['total_price'].fillna(gr.price.transform(\"sum\"),inplace=True)\n",
        "reviws['inver']= reviws['price']/reviws['total_price'] #Porcentaje correspondiente a la inversión del producto (comparado con el total)\n",
        "reviws.head()"
      ],
      "execution_count": null,
      "outputs": [
        {
          "output_type": "execute_result",
          "data": {
            "text/html": [
              "<div>\n",
              "<style scoped>\n",
              "    .dataframe tbody tr th:only-of-type {\n",
              "        vertical-align: middle;\n",
              "    }\n",
              "\n",
              "    .dataframe tbody tr th {\n",
              "        vertical-align: top;\n",
              "    }\n",
              "\n",
              "    .dataframe thead th {\n",
              "        text-align: right;\n",
              "    }\n",
              "</style>\n",
              "<table border=\"1\" class=\"dataframe\">\n",
              "  <thead>\n",
              "    <tr style=\"text-align: right;\">\n",
              "      <th></th>\n",
              "      <th>username</th>\n",
              "      <th>hours</th>\n",
              "      <th>product_id</th>\n",
              "      <th>total</th>\n",
              "      <th>play_game</th>\n",
              "      <th>mean_hour</th>\n",
              "      <th>std_hour</th>\n",
              "      <th>ranking</th>\n",
              "      <th>name</th>\n",
              "      <th>price</th>\n",
              "      <th>total_price</th>\n",
              "      <th>inver</th>\n",
              "    </tr>\n",
              "  </thead>\n",
              "  <tbody>\n",
              "    <tr>\n",
              "      <th>0</th>\n",
              "      <td>Chaos Syren</td>\n",
              "      <td>0.1</td>\n",
              "      <td>725280</td>\n",
              "      <td>0.1</td>\n",
              "      <td>1.000000</td>\n",
              "      <td>1.000000</td>\n",
              "      <td>0.000000</td>\n",
              "      <td>2.5</td>\n",
              "      <td>Psi Project</td>\n",
              "      <td>2.99</td>\n",
              "      <td>2.99</td>\n",
              "      <td>1.000000</td>\n",
              "    </tr>\n",
              "    <tr>\n",
              "      <th>1</th>\n",
              "      <td>freakfantom</td>\n",
              "      <td>0.1</td>\n",
              "      <td>725280</td>\n",
              "      <td>0.1</td>\n",
              "      <td>1.000000</td>\n",
              "      <td>1.000000</td>\n",
              "      <td>0.000000</td>\n",
              "      <td>2.5</td>\n",
              "      <td>Psi Project</td>\n",
              "      <td>2.99</td>\n",
              "      <td>2.99</td>\n",
              "      <td>1.000000</td>\n",
              "    </tr>\n",
              "    <tr>\n",
              "      <th>2</th>\n",
              "      <td>Ariman1</td>\n",
              "      <td>13.2</td>\n",
              "      <td>328100</td>\n",
              "      <td>15.7</td>\n",
              "      <td>0.840764</td>\n",
              "      <td>0.333333</td>\n",
              "      <td>0.442037</td>\n",
              "      <td>1.5</td>\n",
              "      <td>Gunspell - Steam Edition</td>\n",
              "      <td>14.99</td>\n",
              "      <td>23.97</td>\n",
              "      <td>0.625365</td>\n",
              "    </tr>\n",
              "    <tr>\n",
              "      <th>3</th>\n",
              "      <td>dll3z</td>\n",
              "      <td>0.4</td>\n",
              "      <td>328100</td>\n",
              "      <td>33.5</td>\n",
              "      <td>0.011940</td>\n",
              "      <td>0.333333</td>\n",
              "      <td>0.298900</td>\n",
              "      <td>0.5</td>\n",
              "      <td>Gunspell - Steam Edition</td>\n",
              "      <td>14.99</td>\n",
              "      <td>33.87</td>\n",
              "      <td>0.442575</td>\n",
              "    </tr>\n",
              "    <tr>\n",
              "      <th>4</th>\n",
              "      <td>Nyazicat</td>\n",
              "      <td>2.2</td>\n",
              "      <td>328100</td>\n",
              "      <td>6.6</td>\n",
              "      <td>0.333333</td>\n",
              "      <td>0.333333</td>\n",
              "      <td>0.121212</td>\n",
              "      <td>1.0</td>\n",
              "      <td>Gunspell - Steam Edition</td>\n",
              "      <td>14.99</td>\n",
              "      <td>23.97</td>\n",
              "      <td>0.625365</td>\n",
              "    </tr>\n",
              "  </tbody>\n",
              "</table>\n",
              "</div>"
            ],
            "text/plain": [
              "      username  hours  product_id  ...  price  total_price     inver\n",
              "0  Chaos Syren    0.1      725280  ...   2.99         2.99  1.000000\n",
              "1  freakfantom    0.1      725280  ...   2.99         2.99  1.000000\n",
              "2      Ariman1   13.2      328100  ...  14.99        23.97  0.625365\n",
              "3        dll3z    0.4      328100  ...  14.99        33.87  0.442575\n",
              "4     Nyazicat    2.2      328100  ...  14.99        23.97  0.625365\n",
              "\n",
              "[5 rows x 12 columns]"
            ]
          },
          "metadata": {
            "tags": []
          },
          "execution_count": 14
        }
      ]
    },
    {
      "cell_type": "markdown",
      "metadata": {
        "id": "dtigP4cGUykT"
      },
      "source": [
        "Luego creamos una columna en donde vemos el gasto promedio del usuario."
      ]
    },
    {
      "cell_type": "code",
      "metadata": {
        "colab": {
          "base_uri": "https://localhost:8080/",
          "height": 197
        },
        "id": "SjGzvGvM9e6E",
        "outputId": "c2be15e8-b39b-44e7-947e-25124c6e9543"
      },
      "source": [
        "reviws.loc[:,'mean_price']= np.nan     #Gasto promedio\n",
        "reviws.loc[:,'mean_price'].fillna(gr.inver.transform(\"mean\"),inplace=True)\n",
        "reviws.head()"
      ],
      "execution_count": null,
      "outputs": [
        {
          "output_type": "execute_result",
          "data": {
            "text/html": [
              "<div>\n",
              "<style scoped>\n",
              "    .dataframe tbody tr th:only-of-type {\n",
              "        vertical-align: middle;\n",
              "    }\n",
              "\n",
              "    .dataframe tbody tr th {\n",
              "        vertical-align: top;\n",
              "    }\n",
              "\n",
              "    .dataframe thead th {\n",
              "        text-align: right;\n",
              "    }\n",
              "</style>\n",
              "<table border=\"1\" class=\"dataframe\">\n",
              "  <thead>\n",
              "    <tr style=\"text-align: right;\">\n",
              "      <th></th>\n",
              "      <th>username</th>\n",
              "      <th>hours</th>\n",
              "      <th>product_id</th>\n",
              "      <th>total</th>\n",
              "      <th>play_game</th>\n",
              "      <th>mean_hour</th>\n",
              "      <th>std_hour</th>\n",
              "      <th>ranking</th>\n",
              "      <th>name</th>\n",
              "      <th>price</th>\n",
              "      <th>total_price</th>\n",
              "      <th>inver</th>\n",
              "      <th>mean_price</th>\n",
              "    </tr>\n",
              "  </thead>\n",
              "  <tbody>\n",
              "    <tr>\n",
              "      <th>0</th>\n",
              "      <td>Chaos Syren</td>\n",
              "      <td>0.1</td>\n",
              "      <td>725280</td>\n",
              "      <td>0.1</td>\n",
              "      <td>1.000000</td>\n",
              "      <td>1.000000</td>\n",
              "      <td>0.000000</td>\n",
              "      <td>2.5</td>\n",
              "      <td>Psi Project</td>\n",
              "      <td>2.99</td>\n",
              "      <td>2.99</td>\n",
              "      <td>1.000000</td>\n",
              "      <td>1.000000</td>\n",
              "    </tr>\n",
              "    <tr>\n",
              "      <th>1</th>\n",
              "      <td>freakfantom</td>\n",
              "      <td>0.1</td>\n",
              "      <td>725280</td>\n",
              "      <td>0.1</td>\n",
              "      <td>1.000000</td>\n",
              "      <td>1.000000</td>\n",
              "      <td>0.000000</td>\n",
              "      <td>2.5</td>\n",
              "      <td>Psi Project</td>\n",
              "      <td>2.99</td>\n",
              "      <td>2.99</td>\n",
              "      <td>1.000000</td>\n",
              "      <td>1.000000</td>\n",
              "    </tr>\n",
              "    <tr>\n",
              "      <th>2</th>\n",
              "      <td>Ariman1</td>\n",
              "      <td>13.2</td>\n",
              "      <td>328100</td>\n",
              "      <td>15.7</td>\n",
              "      <td>0.840764</td>\n",
              "      <td>0.333333</td>\n",
              "      <td>0.442037</td>\n",
              "      <td>1.5</td>\n",
              "      <td>Gunspell - Steam Edition</td>\n",
              "      <td>14.99</td>\n",
              "      <td>23.97</td>\n",
              "      <td>0.625365</td>\n",
              "      <td>0.333333</td>\n",
              "    </tr>\n",
              "    <tr>\n",
              "      <th>3</th>\n",
              "      <td>dll3z</td>\n",
              "      <td>0.4</td>\n",
              "      <td>328100</td>\n",
              "      <td>33.5</td>\n",
              "      <td>0.011940</td>\n",
              "      <td>0.333333</td>\n",
              "      <td>0.298900</td>\n",
              "      <td>0.5</td>\n",
              "      <td>Gunspell - Steam Edition</td>\n",
              "      <td>14.99</td>\n",
              "      <td>33.87</td>\n",
              "      <td>0.442575</td>\n",
              "      <td>0.333333</td>\n",
              "    </tr>\n",
              "    <tr>\n",
              "      <th>4</th>\n",
              "      <td>Nyazicat</td>\n",
              "      <td>2.2</td>\n",
              "      <td>328100</td>\n",
              "      <td>6.6</td>\n",
              "      <td>0.333333</td>\n",
              "      <td>0.333333</td>\n",
              "      <td>0.121212</td>\n",
              "      <td>1.0</td>\n",
              "      <td>Gunspell - Steam Edition</td>\n",
              "      <td>14.99</td>\n",
              "      <td>23.97</td>\n",
              "      <td>0.625365</td>\n",
              "      <td>0.333333</td>\n",
              "    </tr>\n",
              "  </tbody>\n",
              "</table>\n",
              "</div>"
            ],
            "text/plain": [
              "      username  hours  product_id  ...  total_price     inver  mean_price\n",
              "0  Chaos Syren    0.1      725280  ...         2.99  1.000000    1.000000\n",
              "1  freakfantom    0.1      725280  ...         2.99  1.000000    1.000000\n",
              "2      Ariman1   13.2      328100  ...        23.97  0.625365    0.333333\n",
              "3        dll3z    0.4      328100  ...        33.87  0.442575    0.333333\n",
              "4     Nyazicat    2.2      328100  ...        23.97  0.625365    0.333333\n",
              "\n",
              "[5 rows x 13 columns]"
            ]
          },
          "metadata": {
            "tags": []
          },
          "execution_count": 15
        }
      ]
    },
    {
      "cell_type": "markdown",
      "metadata": {
        "id": "oltoU3O17GZR"
      },
      "source": [
        "Ahora añadimos una columna que nos muestra la desviación estandar de la cartera del usuario...Adivinas, vamos a generar calificaciones tal cual lo hicimos con las horas."
      ]
    },
    {
      "cell_type": "code",
      "metadata": {
        "colab": {
          "base_uri": "https://localhost:8080/",
          "height": 197
        },
        "id": "mQc0TUfU7bv6",
        "outputId": "f30a0177-322a-46b8-981a-fe7a7e61d689"
      },
      "source": [
        "reviws.loc[:,'inver']= np.nan\n",
        "reviws.loc[:,'inver'].fillna(gr.play_game.transform(\"mean\"),inplace=True)\n",
        "reviws.loc[:,'std_price'] = np.nan\n",
        "reviws.loc[:,'std_price'].fillna(gr.play_game.transform('std'),inplace=True) #Desviación estandar del gasto\n",
        "\n",
        "reviws = reviws.fillna(0)\n",
        "reviws.head()"
      ],
      "execution_count": null,
      "outputs": [
        {
          "output_type": "execute_result",
          "data": {
            "text/html": [
              "<div>\n",
              "<style scoped>\n",
              "    .dataframe tbody tr th:only-of-type {\n",
              "        vertical-align: middle;\n",
              "    }\n",
              "\n",
              "    .dataframe tbody tr th {\n",
              "        vertical-align: top;\n",
              "    }\n",
              "\n",
              "    .dataframe thead th {\n",
              "        text-align: right;\n",
              "    }\n",
              "</style>\n",
              "<table border=\"1\" class=\"dataframe\">\n",
              "  <thead>\n",
              "    <tr style=\"text-align: right;\">\n",
              "      <th></th>\n",
              "      <th>username</th>\n",
              "      <th>hours</th>\n",
              "      <th>product_id</th>\n",
              "      <th>total</th>\n",
              "      <th>play_game</th>\n",
              "      <th>mean_hour</th>\n",
              "      <th>std_hour</th>\n",
              "      <th>ranking</th>\n",
              "      <th>name</th>\n",
              "      <th>price</th>\n",
              "      <th>total_price</th>\n",
              "      <th>inver</th>\n",
              "      <th>mean_price</th>\n",
              "      <th>std_price</th>\n",
              "    </tr>\n",
              "  </thead>\n",
              "  <tbody>\n",
              "    <tr>\n",
              "      <th>0</th>\n",
              "      <td>Chaos Syren</td>\n",
              "      <td>0.1</td>\n",
              "      <td>725280</td>\n",
              "      <td>0.1</td>\n",
              "      <td>1.000000</td>\n",
              "      <td>1.000000</td>\n",
              "      <td>0.000000</td>\n",
              "      <td>2.5</td>\n",
              "      <td>Psi Project</td>\n",
              "      <td>2.99</td>\n",
              "      <td>2.99</td>\n",
              "      <td>1.000000</td>\n",
              "      <td>1.000000</td>\n",
              "      <td>0.000000</td>\n",
              "    </tr>\n",
              "    <tr>\n",
              "      <th>1</th>\n",
              "      <td>freakfantom</td>\n",
              "      <td>0.1</td>\n",
              "      <td>725280</td>\n",
              "      <td>0.1</td>\n",
              "      <td>1.000000</td>\n",
              "      <td>1.000000</td>\n",
              "      <td>0.000000</td>\n",
              "      <td>2.5</td>\n",
              "      <td>Psi Project</td>\n",
              "      <td>2.99</td>\n",
              "      <td>2.99</td>\n",
              "      <td>1.000000</td>\n",
              "      <td>1.000000</td>\n",
              "      <td>0.000000</td>\n",
              "    </tr>\n",
              "    <tr>\n",
              "      <th>2</th>\n",
              "      <td>Ariman1</td>\n",
              "      <td>13.2</td>\n",
              "      <td>328100</td>\n",
              "      <td>15.7</td>\n",
              "      <td>0.840764</td>\n",
              "      <td>0.333333</td>\n",
              "      <td>0.442037</td>\n",
              "      <td>1.5</td>\n",
              "      <td>Gunspell - Steam Edition</td>\n",
              "      <td>14.99</td>\n",
              "      <td>23.97</td>\n",
              "      <td>0.333333</td>\n",
              "      <td>0.333333</td>\n",
              "      <td>0.442037</td>\n",
              "    </tr>\n",
              "    <tr>\n",
              "      <th>3</th>\n",
              "      <td>dll3z</td>\n",
              "      <td>0.4</td>\n",
              "      <td>328100</td>\n",
              "      <td>33.5</td>\n",
              "      <td>0.011940</td>\n",
              "      <td>0.333333</td>\n",
              "      <td>0.298900</td>\n",
              "      <td>0.5</td>\n",
              "      <td>Gunspell - Steam Edition</td>\n",
              "      <td>14.99</td>\n",
              "      <td>33.87</td>\n",
              "      <td>0.333333</td>\n",
              "      <td>0.333333</td>\n",
              "      <td>0.298900</td>\n",
              "    </tr>\n",
              "    <tr>\n",
              "      <th>4</th>\n",
              "      <td>Nyazicat</td>\n",
              "      <td>2.2</td>\n",
              "      <td>328100</td>\n",
              "      <td>6.6</td>\n",
              "      <td>0.333333</td>\n",
              "      <td>0.333333</td>\n",
              "      <td>0.121212</td>\n",
              "      <td>1.0</td>\n",
              "      <td>Gunspell - Steam Edition</td>\n",
              "      <td>14.99</td>\n",
              "      <td>23.97</td>\n",
              "      <td>0.333333</td>\n",
              "      <td>0.333333</td>\n",
              "      <td>0.121212</td>\n",
              "    </tr>\n",
              "  </tbody>\n",
              "</table>\n",
              "</div>"
            ],
            "text/plain": [
              "      username  hours  product_id  ...     inver  mean_price  std_price\n",
              "0  Chaos Syren    0.1      725280  ...  1.000000    1.000000   0.000000\n",
              "1  freakfantom    0.1      725280  ...  1.000000    1.000000   0.000000\n",
              "2      Ariman1   13.2      328100  ...  0.333333    0.333333   0.442037\n",
              "3        dll3z    0.4      328100  ...  0.333333    0.333333   0.298900\n",
              "4     Nyazicat    2.2      328100  ...  0.333333    0.333333   0.121212\n",
              "\n",
              "[5 rows x 14 columns]"
            ]
          },
          "metadata": {
            "tags": []
          },
          "execution_count": 16
        }
      ]
    },
    {
      "cell_type": "markdown",
      "metadata": {
        "id": "z4bpNnAk8M6h"
      },
      "source": [
        "Y generamos nuestras calificaciones según el precio. Éstas tambien van de 0.5 a 2.5, en dónde la calificación más alta corresponde a los precios más bajos comparados con el historial de gasto del usuario y las calificaciones más altas corresponden a precios que estan por encima del promedio de gasto del usuario. Esto se centra en la hipotesis de que si un usuario ya ha gastado x cantidad en productos, siempre será más probable que gaste cantidades menores a x."
      ]
    },
    {
      "cell_type": "code",
      "metadata": {
        "colab": {
          "base_uri": "https://localhost:8080/",
          "height": 347
        },
        "id": "MqPDPdeM8MMg",
        "outputId": "2199c88e-567b-4948-d2d5-8457e7bdc6bf"
      },
      "source": [
        "puntaje_5 =  reviws.loc[:,'price'] <= reviws.loc[:,'mean_price'] - 0.5*reviws.loc[:,'std_price']\n",
        "puntaje_4 =  reviws.loc[:,'price'] <= reviws.loc[:,'mean_price'] - reviws.loc[:,'std_price']\n",
        "puntaje_3 =   reviws.loc[:,'price'] <= reviws.loc[:,'mean_price']\n",
        "puntaje_2 = reviws.loc[:,'price'] >= reviws.loc[:,'mean_price']\n",
        "puntaje_1 =   reviws.loc[:,'price'] >   reviws.loc[:,'mean_price']  + reviws.loc[:,'std_price']  \n",
        "conditions  = [ puntaje_5,puntaje_4,puntaje_3,puntaje_2,puntaje_1 ]\n",
        "choices     = [ 2.5,2,1.5,1,0.5 ]\n",
        "\n",
        "reviws.loc[:,'nota_precio'] = np.select(conditions, choices, default=np.nan)\n",
        "reviws.head(10)"
      ],
      "execution_count": null,
      "outputs": [
        {
          "output_type": "execute_result",
          "data": {
            "text/html": [
              "<div>\n",
              "<style scoped>\n",
              "    .dataframe tbody tr th:only-of-type {\n",
              "        vertical-align: middle;\n",
              "    }\n",
              "\n",
              "    .dataframe tbody tr th {\n",
              "        vertical-align: top;\n",
              "    }\n",
              "\n",
              "    .dataframe thead th {\n",
              "        text-align: right;\n",
              "    }\n",
              "</style>\n",
              "<table border=\"1\" class=\"dataframe\">\n",
              "  <thead>\n",
              "    <tr style=\"text-align: right;\">\n",
              "      <th></th>\n",
              "      <th>username</th>\n",
              "      <th>hours</th>\n",
              "      <th>product_id</th>\n",
              "      <th>total</th>\n",
              "      <th>play_game</th>\n",
              "      <th>mean_hour</th>\n",
              "      <th>std_hour</th>\n",
              "      <th>ranking</th>\n",
              "      <th>name</th>\n",
              "      <th>price</th>\n",
              "      <th>total_price</th>\n",
              "      <th>inver</th>\n",
              "      <th>mean_price</th>\n",
              "      <th>std_price</th>\n",
              "      <th>nota_precio</th>\n",
              "    </tr>\n",
              "  </thead>\n",
              "  <tbody>\n",
              "    <tr>\n",
              "      <th>0</th>\n",
              "      <td>Chaos Syren</td>\n",
              "      <td>0.1</td>\n",
              "      <td>725280</td>\n",
              "      <td>0.1</td>\n",
              "      <td>1.000000</td>\n",
              "      <td>1.000000</td>\n",
              "      <td>0.000000</td>\n",
              "      <td>2.5</td>\n",
              "      <td>Psi Project</td>\n",
              "      <td>2.99</td>\n",
              "      <td>2.99</td>\n",
              "      <td>1.000000</td>\n",
              "      <td>1.000000</td>\n",
              "      <td>0.000000</td>\n",
              "      <td>1.0</td>\n",
              "    </tr>\n",
              "    <tr>\n",
              "      <th>1</th>\n",
              "      <td>freakfantom</td>\n",
              "      <td>0.1</td>\n",
              "      <td>725280</td>\n",
              "      <td>0.1</td>\n",
              "      <td>1.000000</td>\n",
              "      <td>1.000000</td>\n",
              "      <td>0.000000</td>\n",
              "      <td>2.5</td>\n",
              "      <td>Psi Project</td>\n",
              "      <td>2.99</td>\n",
              "      <td>2.99</td>\n",
              "      <td>1.000000</td>\n",
              "      <td>1.000000</td>\n",
              "      <td>0.000000</td>\n",
              "      <td>1.0</td>\n",
              "    </tr>\n",
              "    <tr>\n",
              "      <th>2</th>\n",
              "      <td>Ariman1</td>\n",
              "      <td>13.2</td>\n",
              "      <td>328100</td>\n",
              "      <td>15.7</td>\n",
              "      <td>0.840764</td>\n",
              "      <td>0.333333</td>\n",
              "      <td>0.442037</td>\n",
              "      <td>1.5</td>\n",
              "      <td>Gunspell - Steam Edition</td>\n",
              "      <td>14.99</td>\n",
              "      <td>23.97</td>\n",
              "      <td>0.333333</td>\n",
              "      <td>0.333333</td>\n",
              "      <td>0.442037</td>\n",
              "      <td>1.0</td>\n",
              "    </tr>\n",
              "    <tr>\n",
              "      <th>3</th>\n",
              "      <td>dll3z</td>\n",
              "      <td>0.4</td>\n",
              "      <td>328100</td>\n",
              "      <td>33.5</td>\n",
              "      <td>0.011940</td>\n",
              "      <td>0.333333</td>\n",
              "      <td>0.298900</td>\n",
              "      <td>0.5</td>\n",
              "      <td>Gunspell - Steam Edition</td>\n",
              "      <td>14.99</td>\n",
              "      <td>33.87</td>\n",
              "      <td>0.333333</td>\n",
              "      <td>0.333333</td>\n",
              "      <td>0.298900</td>\n",
              "      <td>1.0</td>\n",
              "    </tr>\n",
              "    <tr>\n",
              "      <th>4</th>\n",
              "      <td>Nyazicat</td>\n",
              "      <td>2.2</td>\n",
              "      <td>328100</td>\n",
              "      <td>6.6</td>\n",
              "      <td>0.333333</td>\n",
              "      <td>0.333333</td>\n",
              "      <td>0.121212</td>\n",
              "      <td>1.0</td>\n",
              "      <td>Gunspell - Steam Edition</td>\n",
              "      <td>14.99</td>\n",
              "      <td>23.97</td>\n",
              "      <td>0.333333</td>\n",
              "      <td>0.333333</td>\n",
              "      <td>0.121212</td>\n",
              "      <td>1.0</td>\n",
              "    </tr>\n",
              "    <tr>\n",
              "      <th>5</th>\n",
              "      <td>novocain</td>\n",
              "      <td>3.8</td>\n",
              "      <td>328100</td>\n",
              "      <td>70.9</td>\n",
              "      <td>0.053597</td>\n",
              "      <td>0.250000</td>\n",
              "      <td>0.406574</td>\n",
              "      <td>0.5</td>\n",
              "      <td>Gunspell - Steam Edition</td>\n",
              "      <td>14.99</td>\n",
              "      <td>39.96</td>\n",
              "      <td>0.250000</td>\n",
              "      <td>0.250000</td>\n",
              "      <td>0.406574</td>\n",
              "      <td>1.0</td>\n",
              "    </tr>\n",
              "    <tr>\n",
              "      <th>6</th>\n",
              "      <td>raixel</td>\n",
              "      <td>3.2</td>\n",
              "      <td>328100</td>\n",
              "      <td>55.7</td>\n",
              "      <td>0.057451</td>\n",
              "      <td>0.200000</td>\n",
              "      <td>0.270457</td>\n",
              "      <td>0.5</td>\n",
              "      <td>Gunspell - Steam Edition</td>\n",
              "      <td>14.99</td>\n",
              "      <td>79.95</td>\n",
              "      <td>0.200000</td>\n",
              "      <td>0.200000</td>\n",
              "      <td>0.270457</td>\n",
              "      <td>1.0</td>\n",
              "    </tr>\n",
              "    <tr>\n",
              "      <th>7</th>\n",
              "      <td>Shwgar</td>\n",
              "      <td>1.4</td>\n",
              "      <td>328100</td>\n",
              "      <td>15.9</td>\n",
              "      <td>0.088050</td>\n",
              "      <td>0.142857</td>\n",
              "      <td>0.228378</td>\n",
              "      <td>0.5</td>\n",
              "      <td>Gunspell - Steam Edition</td>\n",
              "      <td>14.99</td>\n",
              "      <td>75.93</td>\n",
              "      <td>0.142857</td>\n",
              "      <td>0.142857</td>\n",
              "      <td>0.228378</td>\n",
              "      <td>1.0</td>\n",
              "    </tr>\n",
              "    <tr>\n",
              "      <th>8</th>\n",
              "      <td>Halrawk</td>\n",
              "      <td>2.4</td>\n",
              "      <td>328100</td>\n",
              "      <td>52.7</td>\n",
              "      <td>0.045541</td>\n",
              "      <td>0.333333</td>\n",
              "      <td>0.526655</td>\n",
              "      <td>0.5</td>\n",
              "      <td>Gunspell - Steam Edition</td>\n",
              "      <td>14.99</td>\n",
              "      <td>42.97</td>\n",
              "      <td>0.333333</td>\n",
              "      <td>0.333333</td>\n",
              "      <td>0.526655</td>\n",
              "      <td>1.0</td>\n",
              "    </tr>\n",
              "    <tr>\n",
              "      <th>9</th>\n",
              "      <td>The_Cpt_FROGGY</td>\n",
              "      <td>7.8</td>\n",
              "      <td>631920</td>\n",
              "      <td>184.8</td>\n",
              "      <td>0.042208</td>\n",
              "      <td>0.037037</td>\n",
              "      <td>0.013012</td>\n",
              "      <td>1.0</td>\n",
              "      <td>Somewhere on Zibylon</td>\n",
              "      <td>9.99</td>\n",
              "      <td>313.76</td>\n",
              "      <td>0.037037</td>\n",
              "      <td>0.038462</td>\n",
              "      <td>0.013012</td>\n",
              "      <td>1.0</td>\n",
              "    </tr>\n",
              "  </tbody>\n",
              "</table>\n",
              "</div>"
            ],
            "text/plain": [
              "         username  hours  product_id  ...  mean_price  std_price  nota_precio\n",
              "0     Chaos Syren    0.1      725280  ...    1.000000   0.000000          1.0\n",
              "1     freakfantom    0.1      725280  ...    1.000000   0.000000          1.0\n",
              "2         Ariman1   13.2      328100  ...    0.333333   0.442037          1.0\n",
              "3           dll3z    0.4      328100  ...    0.333333   0.298900          1.0\n",
              "4        Nyazicat    2.2      328100  ...    0.333333   0.121212          1.0\n",
              "5        novocain    3.8      328100  ...    0.250000   0.406574          1.0\n",
              "6          raixel    3.2      328100  ...    0.200000   0.270457          1.0\n",
              "7          Shwgar    1.4      328100  ...    0.142857   0.228378          1.0\n",
              "8         Halrawk    2.4      328100  ...    0.333333   0.526655          1.0\n",
              "9  The_Cpt_FROGGY    7.8      631920  ...    0.038462   0.013012          1.0\n",
              "\n",
              "[10 rows x 15 columns]"
            ]
          },
          "metadata": {
            "tags": []
          },
          "execution_count": 17
        }
      ]
    },
    {
      "cell_type": "markdown",
      "metadata": {
        "id": "35DnqX-v-m6f"
      },
      "source": [
        "Finalmente, nuestra calificación total será la suma de ambas calificaciones, es decir, la suma entre horas jugadas y dinero invertido, para dar una calificación sobre 5."
      ]
    },
    {
      "cell_type": "code",
      "metadata": {
        "colab": {
          "base_uri": "https://localhost:8080/",
          "height": 347
        },
        "id": "isvrFObZ-0f2",
        "outputId": "e9a32894-faf3-4090-93f1-7cfc4e4964d9"
      },
      "source": [
        "reviws['nota']= reviws['ranking'] + reviws['nota_precio']\n",
        "reviws.head(10)"
      ],
      "execution_count": null,
      "outputs": [
        {
          "output_type": "execute_result",
          "data": {
            "text/html": [
              "<div>\n",
              "<style scoped>\n",
              "    .dataframe tbody tr th:only-of-type {\n",
              "        vertical-align: middle;\n",
              "    }\n",
              "\n",
              "    .dataframe tbody tr th {\n",
              "        vertical-align: top;\n",
              "    }\n",
              "\n",
              "    .dataframe thead th {\n",
              "        text-align: right;\n",
              "    }\n",
              "</style>\n",
              "<table border=\"1\" class=\"dataframe\">\n",
              "  <thead>\n",
              "    <tr style=\"text-align: right;\">\n",
              "      <th></th>\n",
              "      <th>username</th>\n",
              "      <th>hours</th>\n",
              "      <th>product_id</th>\n",
              "      <th>total</th>\n",
              "      <th>play_game</th>\n",
              "      <th>mean_hour</th>\n",
              "      <th>std_hour</th>\n",
              "      <th>ranking</th>\n",
              "      <th>name</th>\n",
              "      <th>price</th>\n",
              "      <th>total_price</th>\n",
              "      <th>inver</th>\n",
              "      <th>mean_price</th>\n",
              "      <th>std_price</th>\n",
              "      <th>nota_precio</th>\n",
              "      <th>nota</th>\n",
              "    </tr>\n",
              "  </thead>\n",
              "  <tbody>\n",
              "    <tr>\n",
              "      <th>0</th>\n",
              "      <td>Chaos Syren</td>\n",
              "      <td>0.1</td>\n",
              "      <td>725280</td>\n",
              "      <td>0.1</td>\n",
              "      <td>1.000000</td>\n",
              "      <td>1.000000</td>\n",
              "      <td>0.000000</td>\n",
              "      <td>2.5</td>\n",
              "      <td>Psi Project</td>\n",
              "      <td>2.99</td>\n",
              "      <td>2.99</td>\n",
              "      <td>1.000000</td>\n",
              "      <td>1.000000</td>\n",
              "      <td>0.000000</td>\n",
              "      <td>1.0</td>\n",
              "      <td>3.5</td>\n",
              "    </tr>\n",
              "    <tr>\n",
              "      <th>1</th>\n",
              "      <td>freakfantom</td>\n",
              "      <td>0.1</td>\n",
              "      <td>725280</td>\n",
              "      <td>0.1</td>\n",
              "      <td>1.000000</td>\n",
              "      <td>1.000000</td>\n",
              "      <td>0.000000</td>\n",
              "      <td>2.5</td>\n",
              "      <td>Psi Project</td>\n",
              "      <td>2.99</td>\n",
              "      <td>2.99</td>\n",
              "      <td>1.000000</td>\n",
              "      <td>1.000000</td>\n",
              "      <td>0.000000</td>\n",
              "      <td>1.0</td>\n",
              "      <td>3.5</td>\n",
              "    </tr>\n",
              "    <tr>\n",
              "      <th>2</th>\n",
              "      <td>Ariman1</td>\n",
              "      <td>13.2</td>\n",
              "      <td>328100</td>\n",
              "      <td>15.7</td>\n",
              "      <td>0.840764</td>\n",
              "      <td>0.333333</td>\n",
              "      <td>0.442037</td>\n",
              "      <td>1.5</td>\n",
              "      <td>Gunspell - Steam Edition</td>\n",
              "      <td>14.99</td>\n",
              "      <td>23.97</td>\n",
              "      <td>0.333333</td>\n",
              "      <td>0.333333</td>\n",
              "      <td>0.442037</td>\n",
              "      <td>1.0</td>\n",
              "      <td>2.5</td>\n",
              "    </tr>\n",
              "    <tr>\n",
              "      <th>3</th>\n",
              "      <td>dll3z</td>\n",
              "      <td>0.4</td>\n",
              "      <td>328100</td>\n",
              "      <td>33.5</td>\n",
              "      <td>0.011940</td>\n",
              "      <td>0.333333</td>\n",
              "      <td>0.298900</td>\n",
              "      <td>0.5</td>\n",
              "      <td>Gunspell - Steam Edition</td>\n",
              "      <td>14.99</td>\n",
              "      <td>33.87</td>\n",
              "      <td>0.333333</td>\n",
              "      <td>0.333333</td>\n",
              "      <td>0.298900</td>\n",
              "      <td>1.0</td>\n",
              "      <td>1.5</td>\n",
              "    </tr>\n",
              "    <tr>\n",
              "      <th>4</th>\n",
              "      <td>Nyazicat</td>\n",
              "      <td>2.2</td>\n",
              "      <td>328100</td>\n",
              "      <td>6.6</td>\n",
              "      <td>0.333333</td>\n",
              "      <td>0.333333</td>\n",
              "      <td>0.121212</td>\n",
              "      <td>1.0</td>\n",
              "      <td>Gunspell - Steam Edition</td>\n",
              "      <td>14.99</td>\n",
              "      <td>23.97</td>\n",
              "      <td>0.333333</td>\n",
              "      <td>0.333333</td>\n",
              "      <td>0.121212</td>\n",
              "      <td>1.0</td>\n",
              "      <td>2.0</td>\n",
              "    </tr>\n",
              "    <tr>\n",
              "      <th>5</th>\n",
              "      <td>novocain</td>\n",
              "      <td>3.8</td>\n",
              "      <td>328100</td>\n",
              "      <td>70.9</td>\n",
              "      <td>0.053597</td>\n",
              "      <td>0.250000</td>\n",
              "      <td>0.406574</td>\n",
              "      <td>0.5</td>\n",
              "      <td>Gunspell - Steam Edition</td>\n",
              "      <td>14.99</td>\n",
              "      <td>39.96</td>\n",
              "      <td>0.250000</td>\n",
              "      <td>0.250000</td>\n",
              "      <td>0.406574</td>\n",
              "      <td>1.0</td>\n",
              "      <td>1.5</td>\n",
              "    </tr>\n",
              "    <tr>\n",
              "      <th>6</th>\n",
              "      <td>raixel</td>\n",
              "      <td>3.2</td>\n",
              "      <td>328100</td>\n",
              "      <td>55.7</td>\n",
              "      <td>0.057451</td>\n",
              "      <td>0.200000</td>\n",
              "      <td>0.270457</td>\n",
              "      <td>0.5</td>\n",
              "      <td>Gunspell - Steam Edition</td>\n",
              "      <td>14.99</td>\n",
              "      <td>79.95</td>\n",
              "      <td>0.200000</td>\n",
              "      <td>0.200000</td>\n",
              "      <td>0.270457</td>\n",
              "      <td>1.0</td>\n",
              "      <td>1.5</td>\n",
              "    </tr>\n",
              "    <tr>\n",
              "      <th>7</th>\n",
              "      <td>Shwgar</td>\n",
              "      <td>1.4</td>\n",
              "      <td>328100</td>\n",
              "      <td>15.9</td>\n",
              "      <td>0.088050</td>\n",
              "      <td>0.142857</td>\n",
              "      <td>0.228378</td>\n",
              "      <td>0.5</td>\n",
              "      <td>Gunspell - Steam Edition</td>\n",
              "      <td>14.99</td>\n",
              "      <td>75.93</td>\n",
              "      <td>0.142857</td>\n",
              "      <td>0.142857</td>\n",
              "      <td>0.228378</td>\n",
              "      <td>1.0</td>\n",
              "      <td>1.5</td>\n",
              "    </tr>\n",
              "    <tr>\n",
              "      <th>8</th>\n",
              "      <td>Halrawk</td>\n",
              "      <td>2.4</td>\n",
              "      <td>328100</td>\n",
              "      <td>52.7</td>\n",
              "      <td>0.045541</td>\n",
              "      <td>0.333333</td>\n",
              "      <td>0.526655</td>\n",
              "      <td>0.5</td>\n",
              "      <td>Gunspell - Steam Edition</td>\n",
              "      <td>14.99</td>\n",
              "      <td>42.97</td>\n",
              "      <td>0.333333</td>\n",
              "      <td>0.333333</td>\n",
              "      <td>0.526655</td>\n",
              "      <td>1.0</td>\n",
              "      <td>1.5</td>\n",
              "    </tr>\n",
              "    <tr>\n",
              "      <th>9</th>\n",
              "      <td>The_Cpt_FROGGY</td>\n",
              "      <td>7.8</td>\n",
              "      <td>631920</td>\n",
              "      <td>184.8</td>\n",
              "      <td>0.042208</td>\n",
              "      <td>0.037037</td>\n",
              "      <td>0.013012</td>\n",
              "      <td>1.0</td>\n",
              "      <td>Somewhere on Zibylon</td>\n",
              "      <td>9.99</td>\n",
              "      <td>313.76</td>\n",
              "      <td>0.037037</td>\n",
              "      <td>0.038462</td>\n",
              "      <td>0.013012</td>\n",
              "      <td>1.0</td>\n",
              "      <td>2.0</td>\n",
              "    </tr>\n",
              "  </tbody>\n",
              "</table>\n",
              "</div>"
            ],
            "text/plain": [
              "         username  hours  product_id  ...  std_price  nota_precio  nota\n",
              "0     Chaos Syren    0.1      725280  ...   0.000000          1.0   3.5\n",
              "1     freakfantom    0.1      725280  ...   0.000000          1.0   3.5\n",
              "2         Ariman1   13.2      328100  ...   0.442037          1.0   2.5\n",
              "3           dll3z    0.4      328100  ...   0.298900          1.0   1.5\n",
              "4        Nyazicat    2.2      328100  ...   0.121212          1.0   2.0\n",
              "5        novocain    3.8      328100  ...   0.406574          1.0   1.5\n",
              "6          raixel    3.2      328100  ...   0.270457          1.0   1.5\n",
              "7          Shwgar    1.4      328100  ...   0.228378          1.0   1.5\n",
              "8         Halrawk    2.4      328100  ...   0.526655          1.0   1.5\n",
              "9  The_Cpt_FROGGY    7.8      631920  ...   0.013012          1.0   2.0\n",
              "\n",
              "[10 rows x 16 columns]"
            ]
          },
          "metadata": {
            "tags": []
          },
          "execution_count": 19
        }
      ]
    },
    {
      "cell_type": "code",
      "metadata": {
        "colab": {
          "base_uri": "https://localhost:8080/"
        },
        "id": "8stGuRmo_bMM",
        "outputId": "4cd0c962-3243-4f2d-91d9-fd758f80b986"
      },
      "source": [
        "reviws['nota'].value_counts()"
      ],
      "execution_count": null,
      "outputs": [
        {
          "output_type": "execute_result",
          "data": {
            "text/plain": [
              "3.5    350900\n",
              "1.5    164190\n",
              "5.0    102522\n",
              "2.0     85283\n",
              "3.0     30170\n",
              "2.5     25790\n",
              "4.0      4922\n",
              "4.5       888\n",
              "Name: nota, dtype: int64"
            ]
          },
          "metadata": {
            "tags": []
          },
          "execution_count": 20
        }
      ]
    },
    {
      "cell_type": "markdown",
      "metadata": {
        "id": "Kb79e-hy_FwR"
      },
      "source": [
        "Ahora si estamos listos para iniciar con nuestro modelo."
      ]
    },
    {
      "cell_type": "code",
      "metadata": {
        "colab": {
          "base_uri": "https://localhost:8080/"
        },
        "id": "dN7nA4yy_sWi",
        "outputId": "d340323d-acfb-4d1c-91c8-108f7a1ee2b0"
      },
      "source": [
        "! pip install scikit-surprise"
      ],
      "execution_count": null,
      "outputs": [
        {
          "output_type": "stream",
          "text": [
            "Requirement already satisfied: scikit-surprise in /usr/local/lib/python3.6/dist-packages (1.1.1)\n",
            "Requirement already satisfied: joblib>=0.11 in /usr/local/lib/python3.6/dist-packages (from scikit-surprise) (0.17.0)\n",
            "Requirement already satisfied: numpy>=1.11.2 in /usr/local/lib/python3.6/dist-packages (from scikit-surprise) (1.18.5)\n",
            "Requirement already satisfied: scipy>=1.0.0 in /usr/local/lib/python3.6/dist-packages (from scikit-surprise) (1.4.1)\n",
            "Requirement already satisfied: six>=1.10.0 in /usr/local/lib/python3.6/dist-packages (from scikit-surprise) (1.15.0)\n"
          ],
          "name": "stdout"
        }
      ]
    },
    {
      "cell_type": "code",
      "metadata": {
        "id": "agJGE6wuAVc2"
      },
      "source": [
        "from surprise import Dataset\n",
        "from surprise import Reader\n",
        "from surprise.model_selection import train_test_split\n",
        "from surprise import SVD"
      ],
      "execution_count": null,
      "outputs": []
    },
    {
      "cell_type": "code",
      "metadata": {
        "id": "i97Lu7TpApso"
      },
      "source": [
        "reader = Reader()"
      ],
      "execution_count": null,
      "outputs": []
    },
    {
      "cell_type": "code",
      "metadata": {
        "id": "yyU3Y8ZW_E3y"
      },
      "source": [
        "N_filas = len(reviws) # Limitamos el dataset a N_filas\n",
        "\n",
        "data = Dataset.load_from_df(reviws[['username', 'product_id', 'nota']][:N_filas], reader)"
      ],
      "execution_count": null,
      "outputs": []
    },
    {
      "cell_type": "markdown",
      "metadata": {
        "id": "7RZWtvaqW4R_"
      },
      "source": [
        "Buscamos los mejores parametros para el modelo, esto puede tardar un rato..."
      ]
    },
    {
      "cell_type": "code",
      "metadata": {
        "colab": {
          "base_uri": "https://localhost:8080/"
        },
        "id": "q0i-ub2T_rd1",
        "outputId": "bc4ca636-8a85-4bd1-d3cb-3687b1114a1c"
      },
      "source": [
        "from surprise.model_selection import GridSearchCV\n",
        "\n",
        "param_grid = {'n_factors': [5,10],'n_epochs': [5,30,60], 'lr_all': [0.001, 0.002, 0.005],\n",
        "              'reg_all': [0.002, 0.02, 0.2]}\n",
        "gs = GridSearchCV(SVD, param_grid, measures=['rmse'], cv=3, n_jobs = -1)\n",
        "gs.fit(data)\n",
        "\n",
        "print(gs.best_score['rmse'])\n",
        "print(gs.best_params['rmse'])"
      ],
      "execution_count": null,
      "outputs": [
        {
          "output_type": "stream",
          "text": [
            "0.7523893658854844\n",
            "{'n_factors': 5, 'n_epochs': 60, 'lr_all': 0.005, 'reg_all': 0.02}\n"
          ],
          "name": "stdout"
        }
      ]
    },
    {
      "cell_type": "code",
      "metadata": {
        "id": "M23c3zIv_voq"
      },
      "source": [
        "trainset, testset = train_test_split(data, test_size=.25)"
      ],
      "execution_count": null,
      "outputs": []
    },
    {
      "cell_type": "markdown",
      "metadata": {
        "id": "ygiiliU6XCOQ"
      },
      "source": [
        "Definimos nuestro modelo, lo entrenamos y generamos predicciones:"
      ]
    },
    {
      "cell_type": "code",
      "metadata": {
        "id": "LKLNM0bN_xvH"
      },
      "source": [
        "model = SVD(n_factors=5, n_epochs=60,lr_all=0.005, reg_all=0.02)"
      ],
      "execution_count": null,
      "outputs": []
    },
    {
      "cell_type": "code",
      "metadata": {
        "colab": {
          "base_uri": "https://localhost:8080/"
        },
        "id": "mrCJbQQu_yWQ",
        "outputId": "c58ff953-7a3f-46d2-909b-2994d568b382"
      },
      "source": [
        "model.fit(trainset)"
      ],
      "execution_count": null,
      "outputs": [
        {
          "output_type": "execute_result",
          "data": {
            "text/plain": [
              "<surprise.prediction_algorithms.matrix_factorization.SVD at 0x7fc384681a90>"
            ]
          },
          "metadata": {
            "tags": []
          },
          "execution_count": 48
        }
      ]
    },
    {
      "cell_type": "code",
      "metadata": {
        "id": "Sv4NI2E0_04c"
      },
      "source": [
        "predictions = model.test(testset)"
      ],
      "execution_count": null,
      "outputs": []
    },
    {
      "cell_type": "markdown",
      "metadata": {
        "id": "2_TKsO9vXR3D"
      },
      "source": [
        "Evaluemos el modelo con un usuario y juegos especificos:"
      ]
    },
    {
      "cell_type": "code",
      "metadata": {
        "colab": {
          "base_uri": "https://localhost:8080/"
        },
        "id": "c8epluEb_3Js",
        "outputId": "058d848e-b54e-437d-9000-ff26bee3676b"
      },
      "source": [
        "model.predict('The_Cpt_FROGGY',35140)"
      ],
      "execution_count": null,
      "outputs": [
        {
          "output_type": "execute_result",
          "data": {
            "text/plain": [
              "Prediction(uid='The_Cpt_FROGGY', iid=35140, r_ui=None, est=1.5324916685560126, details={'was_impossible': False})"
            ]
          },
          "metadata": {
            "tags": []
          },
          "execution_count": 50
        }
      ]
    },
    {
      "cell_type": "markdown",
      "metadata": {
        "id": "YK-ifJ9WXZMV"
      },
      "source": [
        "Según el modelo, el estimado para que este usuario juege ese producto es de 1.53, es decir, no es un juego que él jugaría. Revisemos como lo hace este usuario con los demás datos:"
      ]
    },
    {
      "cell_type": "code",
      "metadata": {
        "colab": {
          "base_uri": "https://localhost:8080/",
          "height": 133
        },
        "id": "G1f918jf_5Iz",
        "outputId": "2fd2dc77-5523-46f6-b7d6-2b3783064825"
      },
      "source": [
        "usuario = 'The_Cpt_FROGGY'\n",
        "ranking = 3   # Juegos jugados por encima del tiempo promedio\n",
        "df_user = reviws[(reviws['username'] == usuario) & (reviws['nota'] >= ranking)]\n",
        "df_user = df_user.reset_index(drop=True)\n",
        "df_user"
      ],
      "execution_count": null,
      "outputs": [
        {
          "output_type": "execute_result",
          "data": {
            "text/html": [
              "<div>\n",
              "<style scoped>\n",
              "    .dataframe tbody tr th:only-of-type {\n",
              "        vertical-align: middle;\n",
              "    }\n",
              "\n",
              "    .dataframe tbody tr th {\n",
              "        vertical-align: top;\n",
              "    }\n",
              "\n",
              "    .dataframe thead th {\n",
              "        text-align: right;\n",
              "    }\n",
              "</style>\n",
              "<table border=\"1\" class=\"dataframe\">\n",
              "  <thead>\n",
              "    <tr style=\"text-align: right;\">\n",
              "      <th></th>\n",
              "      <th>username</th>\n",
              "      <th>hours</th>\n",
              "      <th>product_id</th>\n",
              "      <th>total</th>\n",
              "      <th>play_game</th>\n",
              "      <th>mean_hour</th>\n",
              "      <th>std_hour</th>\n",
              "      <th>ranking</th>\n",
              "      <th>name</th>\n",
              "      <th>price</th>\n",
              "      <th>total_price</th>\n",
              "      <th>inver</th>\n",
              "      <th>mean_price</th>\n",
              "      <th>std_price</th>\n",
              "      <th>nota_precio</th>\n",
              "      <th>nota</th>\n",
              "    </tr>\n",
              "  </thead>\n",
              "  <tbody>\n",
              "    <tr>\n",
              "      <th>0</th>\n",
              "      <td>The_Cpt_FROGGY</td>\n",
              "      <td>10.1</td>\n",
              "      <td>572520</td>\n",
              "      <td>152.1</td>\n",
              "      <td>0.066404</td>\n",
              "      <td>0.05</td>\n",
              "      <td>0.020863</td>\n",
              "      <td>1.0</td>\n",
              "      <td>Dropzone</td>\n",
              "      <td>0.00</td>\n",
              "      <td>173.83</td>\n",
              "      <td>0.05</td>\n",
              "      <td>0.052632</td>\n",
              "      <td>0.020863</td>\n",
              "      <td>2.5</td>\n",
              "      <td>3.5</td>\n",
              "    </tr>\n",
              "    <tr>\n",
              "      <th>1</th>\n",
              "      <td>The_Cpt_FROGGY</td>\n",
              "      <td>18.7</td>\n",
              "      <td>489520</td>\n",
              "      <td>152.1</td>\n",
              "      <td>0.122945</td>\n",
              "      <td>0.05</td>\n",
              "      <td>0.020863</td>\n",
              "      <td>2.5</td>\n",
              "      <td>Minion Masters</td>\n",
              "      <td>4.99</td>\n",
              "      <td>173.83</td>\n",
              "      <td>0.05</td>\n",
              "      <td>0.052632</td>\n",
              "      <td>0.020863</td>\n",
              "      <td>1.0</td>\n",
              "      <td>3.5</td>\n",
              "    </tr>\n",
              "    <tr>\n",
              "      <th>2</th>\n",
              "      <td>The_Cpt_FROGGY</td>\n",
              "      <td>9.5</td>\n",
              "      <td>570980</td>\n",
              "      <td>152.1</td>\n",
              "      <td>0.062459</td>\n",
              "      <td>0.05</td>\n",
              "      <td>0.020863</td>\n",
              "      <td>1.0</td>\n",
              "      <td>Tale of Fallen Dragons</td>\n",
              "      <td>0.00</td>\n",
              "      <td>173.83</td>\n",
              "      <td>0.05</td>\n",
              "      <td>0.052632</td>\n",
              "      <td>0.020863</td>\n",
              "      <td>2.5</td>\n",
              "      <td>3.5</td>\n",
              "    </tr>\n",
              "  </tbody>\n",
              "</table>\n",
              "</div>"
            ],
            "text/plain": [
              "         username  hours  product_id  ...  std_price  nota_precio  nota\n",
              "0  The_Cpt_FROGGY   10.1      572520  ...   0.020863          2.5   3.5\n",
              "1  The_Cpt_FROGGY   18.7      489520  ...   0.020863          1.0   3.5\n",
              "2  The_Cpt_FROGGY    9.5      570980  ...   0.020863          2.5   3.5\n",
              "\n",
              "[3 rows x 16 columns]"
            ]
          },
          "metadata": {
            "tags": []
          },
          "execution_count": 51
        }
      ]
    },
    {
      "cell_type": "markdown",
      "metadata": {
        "id": "Lq0TvPGJXuRM"
      },
      "source": [
        "Luego de traer los juegos que ya tiene nuestro usuario, traemos la data en games para restarle la que tenemos de nuestro usuario."
      ]
    },
    {
      "cell_type": "code",
      "metadata": {
        "colab": {
          "base_uri": "https://localhost:8080/",
          "height": 207
        },
        "id": "znkH0QvK_-HV",
        "outputId": "a5b7f232-d9a0-44d2-f05b-84a358d297a3"
      },
      "source": [
        "recomendaciones_usuario = games.iloc[:].copy()\n",
        "print(recomendaciones_usuario.shape)\n",
        "recomendaciones_usuario.head()"
      ],
      "execution_count": null,
      "outputs": [
        {
          "output_type": "stream",
          "text": [
            "(32135, 3)\n"
          ],
          "name": "stdout"
        },
        {
          "output_type": "execute_result",
          "data": {
            "text/html": [
              "<div>\n",
              "<style scoped>\n",
              "    .dataframe tbody tr th:only-of-type {\n",
              "        vertical-align: middle;\n",
              "    }\n",
              "\n",
              "    .dataframe tbody tr th {\n",
              "        vertical-align: top;\n",
              "    }\n",
              "\n",
              "    .dataframe thead th {\n",
              "        text-align: right;\n",
              "    }\n",
              "</style>\n",
              "<table border=\"1\" class=\"dataframe\">\n",
              "  <thead>\n",
              "    <tr style=\"text-align: right;\">\n",
              "      <th></th>\n",
              "      <th>name</th>\n",
              "      <th>price</th>\n",
              "      <th>product_id</th>\n",
              "    </tr>\n",
              "  </thead>\n",
              "  <tbody>\n",
              "    <tr>\n",
              "      <th>0</th>\n",
              "      <td>Lost Summoner Kitty</td>\n",
              "      <td>4.99</td>\n",
              "      <td>761140.0</td>\n",
              "    </tr>\n",
              "    <tr>\n",
              "      <th>1</th>\n",
              "      <td>Ironbound</td>\n",
              "      <td>0.00</td>\n",
              "      <td>643980.0</td>\n",
              "    </tr>\n",
              "    <tr>\n",
              "      <th>2</th>\n",
              "      <td>Real Pool 3D - Poolians</td>\n",
              "      <td>0.00</td>\n",
              "      <td>670290.0</td>\n",
              "    </tr>\n",
              "    <tr>\n",
              "      <th>3</th>\n",
              "      <td>弹炸人2222</td>\n",
              "      <td>0.99</td>\n",
              "      <td>767400.0</td>\n",
              "    </tr>\n",
              "    <tr>\n",
              "      <th>4</th>\n",
              "      <td>Log Challenge</td>\n",
              "      <td>2.99</td>\n",
              "      <td>773570.0</td>\n",
              "    </tr>\n",
              "  </tbody>\n",
              "</table>\n",
              "</div>"
            ],
            "text/plain": [
              "                      name  price  product_id\n",
              "0      Lost Summoner Kitty   4.99    761140.0\n",
              "1                Ironbound   0.00    643980.0\n",
              "2  Real Pool 3D - Poolians   0.00    670290.0\n",
              "3                  弹炸人2222   0.99    767400.0\n",
              "4            Log Challenge   2.99    773570.0"
            ]
          },
          "metadata": {
            "tags": []
          },
          "execution_count": 52
        }
      ]
    },
    {
      "cell_type": "code",
      "metadata": {
        "colab": {
          "base_uri": "https://localhost:8080/",
          "height": 207
        },
        "id": "1YanJ4rhAAvZ",
        "outputId": "1c586836-91aa-42b1-ba85-8817f0c142e4"
      },
      "source": [
        "usuario_vistas = reviws[reviws['username'] == usuario]\n",
        "#usuario_vistas = usuario_vistas[['name','product_id']]\n",
        "print(usuario_vistas.shape)\n",
        "usuario_vistas.head()"
      ],
      "execution_count": null,
      "outputs": [
        {
          "output_type": "stream",
          "text": [
            "(20, 16)\n"
          ],
          "name": "stdout"
        },
        {
          "output_type": "execute_result",
          "data": {
            "text/html": [
              "<div>\n",
              "<style scoped>\n",
              "    .dataframe tbody tr th:only-of-type {\n",
              "        vertical-align: middle;\n",
              "    }\n",
              "\n",
              "    .dataframe tbody tr th {\n",
              "        vertical-align: top;\n",
              "    }\n",
              "\n",
              "    .dataframe thead th {\n",
              "        text-align: right;\n",
              "    }\n",
              "</style>\n",
              "<table border=\"1\" class=\"dataframe\">\n",
              "  <thead>\n",
              "    <tr style=\"text-align: right;\">\n",
              "      <th></th>\n",
              "      <th>username</th>\n",
              "      <th>hours</th>\n",
              "      <th>product_id</th>\n",
              "      <th>total</th>\n",
              "      <th>play_game</th>\n",
              "      <th>mean_hour</th>\n",
              "      <th>std_hour</th>\n",
              "      <th>ranking</th>\n",
              "      <th>name</th>\n",
              "      <th>price</th>\n",
              "      <th>total_price</th>\n",
              "      <th>inver</th>\n",
              "      <th>mean_price</th>\n",
              "      <th>std_price</th>\n",
              "      <th>nota_precio</th>\n",
              "      <th>nota</th>\n",
              "    </tr>\n",
              "  </thead>\n",
              "  <tbody>\n",
              "    <tr>\n",
              "      <th>7</th>\n",
              "      <td>The_Cpt_FROGGY</td>\n",
              "      <td>7.8</td>\n",
              "      <td>631920</td>\n",
              "      <td>152.1</td>\n",
              "      <td>0.051282</td>\n",
              "      <td>0.05</td>\n",
              "      <td>0.020863</td>\n",
              "      <td>1.0</td>\n",
              "      <td>Somewhere on Zibylon</td>\n",
              "      <td>9.99</td>\n",
              "      <td>173.83</td>\n",
              "      <td>0.05</td>\n",
              "      <td>0.052632</td>\n",
              "      <td>0.020863</td>\n",
              "      <td>1.0</td>\n",
              "      <td>2.0</td>\n",
              "    </tr>\n",
              "    <tr>\n",
              "      <th>2838</th>\n",
              "      <td>The_Cpt_FROGGY</td>\n",
              "      <td>7.3</td>\n",
              "      <td>482440</td>\n",
              "      <td>152.1</td>\n",
              "      <td>0.047995</td>\n",
              "      <td>0.05</td>\n",
              "      <td>0.020863</td>\n",
              "      <td>0.5</td>\n",
              "      <td>ESSENCE</td>\n",
              "      <td>20.00</td>\n",
              "      <td>173.83</td>\n",
              "      <td>0.05</td>\n",
              "      <td>0.052632</td>\n",
              "      <td>0.020863</td>\n",
              "      <td>1.0</td>\n",
              "      <td>1.5</td>\n",
              "    </tr>\n",
              "    <tr>\n",
              "      <th>28893</th>\n",
              "      <td>The_Cpt_FROGGY</td>\n",
              "      <td>4.7</td>\n",
              "      <td>736860</td>\n",
              "      <td>152.1</td>\n",
              "      <td>0.030901</td>\n",
              "      <td>0.05</td>\n",
              "      <td>0.020863</td>\n",
              "      <td>0.5</td>\n",
              "      <td>Hidden Object Adventure: Around the World in 8...</td>\n",
              "      <td>2.99</td>\n",
              "      <td>173.83</td>\n",
              "      <td>0.05</td>\n",
              "      <td>0.052632</td>\n",
              "      <td>0.020863</td>\n",
              "      <td>1.0</td>\n",
              "      <td>1.5</td>\n",
              "    </tr>\n",
              "    <tr>\n",
              "      <th>30898</th>\n",
              "      <td>The_Cpt_FROGGY</td>\n",
              "      <td>8.3</td>\n",
              "      <td>493540</td>\n",
              "      <td>152.1</td>\n",
              "      <td>0.054569</td>\n",
              "      <td>0.05</td>\n",
              "      <td>0.020863</td>\n",
              "      <td>1.0</td>\n",
              "      <td>Figment</td>\n",
              "      <td>19.99</td>\n",
              "      <td>173.83</td>\n",
              "      <td>0.05</td>\n",
              "      <td>0.052632</td>\n",
              "      <td>0.020863</td>\n",
              "      <td>1.0</td>\n",
              "      <td>2.0</td>\n",
              "    </tr>\n",
              "    <tr>\n",
              "      <th>33746</th>\n",
              "      <td>The_Cpt_FROGGY</td>\n",
              "      <td>10.1</td>\n",
              "      <td>572520</td>\n",
              "      <td>152.1</td>\n",
              "      <td>0.066404</td>\n",
              "      <td>0.05</td>\n",
              "      <td>0.020863</td>\n",
              "      <td>1.0</td>\n",
              "      <td>Dropzone</td>\n",
              "      <td>0.00</td>\n",
              "      <td>173.83</td>\n",
              "      <td>0.05</td>\n",
              "      <td>0.052632</td>\n",
              "      <td>0.020863</td>\n",
              "      <td>2.5</td>\n",
              "      <td>3.5</td>\n",
              "    </tr>\n",
              "  </tbody>\n",
              "</table>\n",
              "</div>"
            ],
            "text/plain": [
              "             username  hours  product_id  ...  std_price  nota_precio  nota\n",
              "7      The_Cpt_FROGGY    7.8      631920  ...   0.020863          1.0   2.0\n",
              "2838   The_Cpt_FROGGY    7.3      482440  ...   0.020863          1.0   1.5\n",
              "28893  The_Cpt_FROGGY    4.7      736860  ...   0.020863          1.0   1.5\n",
              "30898  The_Cpt_FROGGY    8.3      493540  ...   0.020863          1.0   2.0\n",
              "33746  The_Cpt_FROGGY   10.1      572520  ...   0.020863          2.5   3.5\n",
              "\n",
              "[5 rows x 16 columns]"
            ]
          },
          "metadata": {
            "tags": []
          },
          "execution_count": 53
        }
      ]
    },
    {
      "cell_type": "code",
      "metadata": {
        "colab": {
          "base_uri": "https://localhost:8080/",
          "height": 191
        },
        "id": "ZSe0H_JJABnf",
        "outputId": "c79964b3-0f26-4337-fffc-501f5607e33f"
      },
      "source": [
        "recomendaciones_usuario.drop(usuario_vistas.product_id, inplace = True,errors='ignore')\n",
        "recomendaciones_usuario = recomendaciones_usuario.reset_index()\n",
        "recomendaciones_usuario.head()"
      ],
      "execution_count": null,
      "outputs": [
        {
          "output_type": "execute_result",
          "data": {
            "text/html": [
              "<div>\n",
              "<style scoped>\n",
              "    .dataframe tbody tr th:only-of-type {\n",
              "        vertical-align: middle;\n",
              "    }\n",
              "\n",
              "    .dataframe tbody tr th {\n",
              "        vertical-align: top;\n",
              "    }\n",
              "\n",
              "    .dataframe thead th {\n",
              "        text-align: right;\n",
              "    }\n",
              "</style>\n",
              "<table border=\"1\" class=\"dataframe\">\n",
              "  <thead>\n",
              "    <tr style=\"text-align: right;\">\n",
              "      <th></th>\n",
              "      <th>index</th>\n",
              "      <th>name</th>\n",
              "      <th>price</th>\n",
              "      <th>product_id</th>\n",
              "    </tr>\n",
              "  </thead>\n",
              "  <tbody>\n",
              "    <tr>\n",
              "      <th>0</th>\n",
              "      <td>0</td>\n",
              "      <td>Lost Summoner Kitty</td>\n",
              "      <td>4.99</td>\n",
              "      <td>761140.0</td>\n",
              "    </tr>\n",
              "    <tr>\n",
              "      <th>1</th>\n",
              "      <td>1</td>\n",
              "      <td>Ironbound</td>\n",
              "      <td>0.00</td>\n",
              "      <td>643980.0</td>\n",
              "    </tr>\n",
              "    <tr>\n",
              "      <th>2</th>\n",
              "      <td>2</td>\n",
              "      <td>Real Pool 3D - Poolians</td>\n",
              "      <td>0.00</td>\n",
              "      <td>670290.0</td>\n",
              "    </tr>\n",
              "    <tr>\n",
              "      <th>3</th>\n",
              "      <td>3</td>\n",
              "      <td>弹炸人2222</td>\n",
              "      <td>0.99</td>\n",
              "      <td>767400.0</td>\n",
              "    </tr>\n",
              "    <tr>\n",
              "      <th>4</th>\n",
              "      <td>4</td>\n",
              "      <td>Log Challenge</td>\n",
              "      <td>2.99</td>\n",
              "      <td>773570.0</td>\n",
              "    </tr>\n",
              "  </tbody>\n",
              "</table>\n",
              "</div>"
            ],
            "text/plain": [
              "   index                     name  price  product_id\n",
              "0      0      Lost Summoner Kitty   4.99    761140.0\n",
              "1      1                Ironbound   0.00    643980.0\n",
              "2      2  Real Pool 3D - Poolians   0.00    670290.0\n",
              "3      3                  弹炸人2222   0.99    767400.0\n",
              "4      4            Log Challenge   2.99    773570.0"
            ]
          },
          "metadata": {
            "tags": []
          },
          "execution_count": 54
        }
      ]
    },
    {
      "cell_type": "markdown",
      "metadata": {
        "id": "0iFaJIMnYAqm"
      },
      "source": [
        "Ahora aplicamos una función lambda para predecir las notas del usuario en todo el universo de datos."
      ]
    },
    {
      "cell_type": "code",
      "metadata": {
        "colab": {
          "base_uri": "https://localhost:8080/",
          "height": 335
        },
        "id": "OSIEk6P7AEyK",
        "outputId": "673d5533-0ec5-477b-abc6-473a192d1e90"
      },
      "source": [
        "recomendaciones_usuario['Estimate_Score'] = recomendaciones_usuario['product_id'].apply(lambda x: model.predict(usuario, x).est)\n",
        "recomendaciones_usuario = recomendaciones_usuario.sort_values('Estimate_Score', ascending=False)\n",
        "recomendaciones_usuario.head(10)"
      ],
      "execution_count": null,
      "outputs": [
        {
          "output_type": "execute_result",
          "data": {
            "text/html": [
              "<div>\n",
              "<style scoped>\n",
              "    .dataframe tbody tr th:only-of-type {\n",
              "        vertical-align: middle;\n",
              "    }\n",
              "\n",
              "    .dataframe tbody tr th {\n",
              "        vertical-align: top;\n",
              "    }\n",
              "\n",
              "    .dataframe thead th {\n",
              "        text-align: right;\n",
              "    }\n",
              "</style>\n",
              "<table border=\"1\" class=\"dataframe\">\n",
              "  <thead>\n",
              "    <tr style=\"text-align: right;\">\n",
              "      <th></th>\n",
              "      <th>index</th>\n",
              "      <th>name</th>\n",
              "      <th>price</th>\n",
              "      <th>product_id</th>\n",
              "      <th>Estimate_Score</th>\n",
              "    </tr>\n",
              "  </thead>\n",
              "  <tbody>\n",
              "    <tr>\n",
              "      <th>30274</th>\n",
              "      <td>30274</td>\n",
              "      <td>Warframe</td>\n",
              "      <td>0.0</td>\n",
              "      <td>230410.0</td>\n",
              "      <td>3.776933</td>\n",
              "    </tr>\n",
              "    <tr>\n",
              "      <th>14855</th>\n",
              "      <td>14855</td>\n",
              "      <td>Brawlhalla</td>\n",
              "      <td>0.0</td>\n",
              "      <td>291550.0</td>\n",
              "      <td>3.768655</td>\n",
              "    </tr>\n",
              "    <tr>\n",
              "      <th>31856</th>\n",
              "      <td>31856</td>\n",
              "      <td>Team Fortress 2</td>\n",
              "      <td>0.0</td>\n",
              "      <td>440.0</td>\n",
              "      <td>3.759507</td>\n",
              "    </tr>\n",
              "    <tr>\n",
              "      <th>4339</th>\n",
              "      <td>4339</td>\n",
              "      <td>SMITE®</td>\n",
              "      <td>0.0</td>\n",
              "      <td>386360.0</td>\n",
              "      <td>3.757144</td>\n",
              "    </tr>\n",
              "    <tr>\n",
              "      <th>5199</th>\n",
              "      <td>5199</td>\n",
              "      <td>Knight Online</td>\n",
              "      <td>0.0</td>\n",
              "      <td>389430.0</td>\n",
              "      <td>3.741529</td>\n",
              "    </tr>\n",
              "    <tr>\n",
              "      <th>16133</th>\n",
              "      <td>16133</td>\n",
              "      <td>Robocraft</td>\n",
              "      <td>0.0</td>\n",
              "      <td>301520.0</td>\n",
              "      <td>3.735056</td>\n",
              "    </tr>\n",
              "    <tr>\n",
              "      <th>16909</th>\n",
              "      <td>16909</td>\n",
              "      <td>Unturned</td>\n",
              "      <td>0.0</td>\n",
              "      <td>304930.0</td>\n",
              "      <td>3.639039</td>\n",
              "    </tr>\n",
              "    <tr>\n",
              "      <th>23937</th>\n",
              "      <td>23937</td>\n",
              "      <td>Lost Lands: Mahjong</td>\n",
              "      <td>0.0</td>\n",
              "      <td>435030.0</td>\n",
              "      <td>3.638316</td>\n",
              "    </tr>\n",
              "    <tr>\n",
              "      <th>7260</th>\n",
              "      <td>7260</td>\n",
              "      <td>Paladins®</td>\n",
              "      <td>0.0</td>\n",
              "      <td>444090.0</td>\n",
              "      <td>3.627914</td>\n",
              "    </tr>\n",
              "    <tr>\n",
              "      <th>26475</th>\n",
              "      <td>26475</td>\n",
              "      <td>Dirty Bomb®</td>\n",
              "      <td>0.0</td>\n",
              "      <td>333930.0</td>\n",
              "      <td>3.626025</td>\n",
              "    </tr>\n",
              "  </tbody>\n",
              "</table>\n",
              "</div>"
            ],
            "text/plain": [
              "       index                 name  price  product_id  Estimate_Score\n",
              "30274  30274             Warframe    0.0    230410.0        3.776933\n",
              "14855  14855           Brawlhalla    0.0    291550.0        3.768655\n",
              "31856  31856      Team Fortress 2    0.0       440.0        3.759507\n",
              "4339    4339               SMITE®    0.0    386360.0        3.757144\n",
              "5199    5199        Knight Online    0.0    389430.0        3.741529\n",
              "16133  16133            Robocraft    0.0    301520.0        3.735056\n",
              "16909  16909             Unturned    0.0    304930.0        3.639039\n",
              "23937  23937  Lost Lands: Mahjong    0.0    435030.0        3.638316\n",
              "7260    7260            Paladins®    0.0    444090.0        3.627914\n",
              "26475  26475          Dirty Bomb®    0.0    333930.0        3.626025"
            ]
          },
          "metadata": {
            "tags": []
          },
          "execution_count": 55
        }
      ]
    },
    {
      "cell_type": "code",
      "metadata": {
        "colab": {
          "base_uri": "https://localhost:8080/",
          "height": 373
        },
        "id": "s7mrDgKuAHxc",
        "outputId": "cf31ca7d-8fa3-42bb-b0fc-9f80e099f4df"
      },
      "source": [
        "plt.figure(figsize=(10,6))\n",
        "plt.hist(recomendaciones_usuario.Estimate_Score,bins=6)\n",
        "plt.yscale('log')\n",
        "plt.show()"
      ],
      "execution_count": null,
      "outputs": [
        {
          "output_type": "display_data",
          "data": {
            "image/png": "[encoded data removed]",
            "text/plain": [
              "<Figure size 720x432 with 1 Axes>"
            ]
          },
          "metadata": {
            "tags": [],
            "needs_background": "light"
          }
        }
      ]
    },
    {
      "cell_type": "code",
      "metadata": {
        "colab": {
          "base_uri": "https://localhost:8080/"
        },
        "id": "69J9Di3XAO48",
        "outputId": "b5438e5a-0494-49cb-aef9-268edc06dcae"
      },
      "source": [
        "recomendaciones_usuario.Estimate_Score.value_counts(bins=6,sort=False)\n"
      ],
      "execution_count": null,
      "outputs": [
        {
          "output_type": "execute_result",
          "data": {
            "text/plain": [
              "(0.996, 1.463]      662\n",
              "(1.463, 1.926]     5741\n",
              "(1.926, 2.388]    24663\n",
              "(2.388, 2.851]      496\n",
              "(2.851, 3.314]      427\n",
              "(3.314, 3.777]      146\n",
              "Name: Estimate_Score, dtype: int64"
            ]
          },
          "metadata": {
            "tags": []
          },
          "execution_count": 57
        }
      ]
    },
    {
      "cell_type": "markdown",
      "metadata": {
        "id": "LnmU_utabV6J"
      },
      "source": [
        "Como resultado, se aprecia que las predicciones para este usuario no llegan a valores muy altos, pero los valores altos alcanzan a estar depurados, siendo que valores por encima de 3.3 son solo 146. ¿Cómo se comporta el modelo con un usuario que solo posee un videojuego?"
      ]
    },
    {
      "cell_type": "code",
      "metadata": {
        "colab": {
          "base_uri": "https://localhost:8080/",
          "height": 373
        },
        "id": "r0PKJQU2VAi4",
        "outputId": "40b48bcb-fefd-4976-ec39-526a82796711"
      },
      "source": [
        "usuario2 = 'freakfantom'\n",
        "ranking2 = 10   # Juegos jugados por encima del tiempo promedio\n",
        "df_user2 = reviws[(reviws['username'] == usuario2) & (reviws['nota'] >= ranking2)]\n",
        "df_user2 = df_user2.reset_index(drop=True)\n",
        "usuario_vistas = reviws[reviws['username'] == usuario2]\n",
        "recomendaciones_usuario.drop(usuario_vistas.product_id, inplace = True,errors='ignore')\n",
        "\n",
        "recomendaciones_usuario['Estimate_Score'] = recomendaciones_usuario['product_id'].apply(lambda x: model.predict(usuario2, x).est)\n",
        "recomendaciones_usuario = recomendaciones_usuario.sort_values('Estimate_Score', ascending=False)\n",
        "\n",
        "plt.figure(figsize=(10,6))\n",
        "plt.hist(recomendaciones_usuario.Estimate_Score,bins=6)\n",
        "plt.yscale('log')\n",
        "plt.show()"
      ],
      "execution_count": null,
      "outputs": [
        {
          "output_type": "display_data",
          "data": {
            "image/png": "[encoded data removed]",
            "text/plain": [
              "<Figure size 720x432 with 1 Axes>"
            ]
          },
          "metadata": {
            "tags": [],
            "needs_background": "light"
          }
        }
      ]
    },
    {
      "cell_type": "code",
      "metadata": {
        "colab": {
          "base_uri": "https://localhost:8080/"
        },
        "id": "o-OnqZwnVgrB",
        "outputId": "8509654b-63e6-41d1-caa2-105872f1c31a"
      },
      "source": [
        "recomendaciones_usuario.Estimate_Score.value_counts(bins=6,sort=False)"
      ],
      "execution_count": null,
      "outputs": [
        {
          "output_type": "execute_result",
          "data": {
            "text/plain": [
              "(2.0580000000000003, 2.524]      389\n",
              "(2.524, 2.987]                  5178\n",
              "(2.987, 3.449]                 25385\n",
              "(3.449, 3.911]                   555\n",
              "(3.911, 4.374]                   427\n",
              "(4.374, 4.836]                   201\n",
              "Name: Estimate_Score, dtype: int64"
            ]
          },
          "metadata": {
            "tags": []
          },
          "execution_count": 59
        }
      ]
    },
    {
      "cell_type": "markdown",
      "metadata": {
        "id": "2qQLqk7Fb5xC"
      },
      "source": [
        "Para este caso el modelo genera calificaciones más altas, llegando hasta casi 5. "
      ]
    },
    {
      "cell_type": "code",
      "metadata": {
        "colab": {
          "base_uri": "https://localhost:8080/"
        },
        "id": "nRBNoEkUXUMS",
        "outputId": "0b58bf40-08bc-460e-f7cd-ccb142bc12e7"
      },
      "source": [
        "from surprise import accuracy\n",
        "accuracy.rmse(predictions, verbose=True) "
      ],
      "execution_count": null,
      "outputs": [
        {
          "output_type": "stream",
          "text": [
            "RMSE: 0.7377\n"
          ],
          "name": "stdout"
        },
        {
          "output_type": "execute_result",
          "data": {
            "text/plain": [
              "0.7377254175115657"
            ]
          },
          "metadata": {
            "tags": []
          },
          "execution_count": 60
        }
      ]
    },
    {
      "cell_type": "markdown",
      "metadata": {
        "id": "MSUAUET5csrq"
      },
      "source": [
        "El comportamiento del modelo es sumamente bueno, tiene un error que se encuentra por debajo de la unidad. En terminos generales, este modelo ha tenído un desempeño bastante interesante, por no decir menos. "
      ]
    },
    {
      "cell_type": "markdown",
      "metadata": {
        "id": "_Zzt3qrEdKxp"
      },
      "source": [
        "#Conclusiones\n",
        "\n",
        "El modelo, a pesar de tener un comportamiento positivo, necesitaría ser contrastado con datos reales del comportamiento de los usuarios para contrastar su comportamiento con las predicciones realizadas. \n",
        "\n",
        "Aunque el modelo ahora es más robusto al contar con datos de uso y poder adquisitivo del usuario, aun puede profundizar más teniendo en cuenta que hay factores que no se han tocado como el factor social, por ejemplo.\n",
        "\n",
        "El modelo sigue teniendo el problema de que la nota, finalmente, será repartida entre todo el universo de datos de cada usuario, es decir, sus juegos serán ordenados en rangos de horas jugadas e inversión realizada y si bien ello implica que el usuario tendrá recomendaciones acordes a su consumo már reciente, tambien puede indicar que va a dejar de recibir recomendaciones de productos que pueden interesarle. En otras palabras, el modelo asume que el usuario no juega un producto porque le está gustando menos, cuando pueden ser innumerables razones, como por ejemplo que el usuario cambie de equipo y ya no tenga los requerimientos tecnicos para correr los juegos que solia jugar.\n",
        "\n",
        "Finalmente, este tipo de modelos son un ejercicio sumamente interesante debido a que se estan generando recomendaciones para plataformas que dan muchisima libertad de acción e interacción a sus usuarios: Un usuario  puede o no jugar todos los días el mismo juego, consumir productos gratuitos o pagar un dineral por un extra en un producto... es esa libertad de uso de la plataforma lo que hace interesante buscar acomodar modelos de recomendación a estos datos."
      ]
    },
    {
      "cell_type": "markdown",
      "metadata": {
        "id": "xBUI4VAnhQh9"
      },
      "source": [
        "#Implementación \n",
        "\n",
        "Este modelo debería implementarse limitando el tiempo de los datos sea anual, semestral o mensual; es decir, olvidar el historial completo del usuario por fuera del periodo estudiado. La razón de ser de esto es que se busca registrar los cambios de comportamiento en el consumo de los usuarios y eso es solo posible si se limita el tiempo, caso contrarío si el usuario, por ejemplo, le ha dedicado 4 horas diarias a un solo juego por 2 años nos va a generar un fuerte sesgo. \n",
        "\n",
        "Por otro lado, los habitos de compra si deberían tenerse en cuenta siempre, pues estos no se espera que cambien de un periodo a otro."
      ]
    },
    {
      "cell_type": "markdown",
      "metadata": {
        "id": "dJsCvtLqkfKK"
      },
      "source": [
        "#Mejoras\n",
        "\n",
        "Como se dijo anteriormente, el modelo podría mejorar si se tiene en cuenta el factor social del usuario (ejemplo si tiene amigos dentro de la plataforma de steam, si juega con ellos y que juega con ellos). Otro factor que puede ser de interes es la edad del usuario, pues usuarios mayores pueden tener la tendencia a comprar juegos de su infancia, mientras usuarios menores se acomoden más a las tendencias actuales."
      ]
    }
  ]
}